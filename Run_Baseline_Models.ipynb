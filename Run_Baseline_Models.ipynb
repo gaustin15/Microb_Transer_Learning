{
 "cells": [
  {
   "cell_type": "code",
   "execution_count": 1,
   "metadata": {},
   "outputs": [],
   "source": [
    "import pandas as pd\n",
    "from datasets import load_abundance_data, load_markers_data\n",
    "from training_functions import tune_VAE, tune_SAE, tune_DAE, tune_RF, tune_SVM, tune_FFNN\n",
    "import os\n",
    "import warnings\n",
    "warnings.filterwarnings(\"ignore\")"
   ]
  },
  {
   "cell_type": "code",
   "execution_count": 2,
   "metadata": {},
   "outputs": [],
   "source": [
    "dfs=load_abundance_data()\n",
    "markers=load_markers_data()"
   ]
  },
  {
   "cell_type": "code",
   "execution_count": 3,
   "metadata": {},
   "outputs": [],
   "source": [
    "def tune_across_datasets(dataset_list, tuning_func, path, is_marker):\n",
    "    if os.path.isfile(path):\n",
    "        raise(ValueError('Will not run function and potentially overwrite important results! Either delete or move the file first'))\n",
    "    \n",
    "    # initialize csv to store results in\n",
    "    results=pd.DataFrame(columns =  ['Model Type', 'Data Type', 'Dataset', 'hyperparams', 'AUC'])\n",
    "    results.to_csv(path, index=False)\n",
    "    # function to loop the tuning functions across each dataset\n",
    "    for i,dataset in enumerate(dataset_list):\n",
    "        results=tuning_func(dataset, is_marker=is_marker)\n",
    "        results = pd.DataFrame([a if type(a)==str \n",
    "                                 else [b for c,b in a.items()] if type(a) == dict \n",
    "                                 else a[0]['objective']\n",
    "                                 for a in results]).T\n",
    "        results.columns=['Model Type', 'Data Type', 'Dataset', 'hyperparams', 'AUC']\n",
    "        pd.concat( [pd.read_csv(path),results], axis=0 ).to_csv(path, index=False)\n",
    "        print('Dataset #'+str(i)+' complete!')"
   ]
  },
  {
   "cell_type": "code",
   "execution_count": null,
   "metadata": {},
   "outputs": [
    {
     "name": "stderr",
     "output_type": "stream",
     "text": [
      "[INFO 03-27 21:29:26] ax.modelbridge.dispatch_utils: Using Sobol generation strategy.\n",
      "[INFO 03-27 21:29:26] ax.service.managed_loop: Started full optimization with 8 steps.\n",
      "[INFO 03-27 21:29:26] ax.service.managed_loop: Running optimization trial 1...\n",
      "GPU available: False, used: False\n",
      "TPU available: None, using: 0 TPU cores\n"
     ]
    }
   ],
   "source": [
    "tune_across_datasets(dfs, tune_FFNN, path='ffnn_summary.csv', is_marker=False)"
   ]
  },
  {
   "cell_type": "code",
   "execution_count": null,
   "metadata": {},
   "outputs": [],
   "source": [
    "tune_across_datasets(markers, tune_FFNN, path='ffnn_markers_summary.csv', is_marker=True)"
   ]
  },
  {
   "cell_type": "code",
   "execution_count": null,
   "metadata": {},
   "outputs": [],
   "source": [
    "tune_across_datasets(dfs, tune_RF, path='rf_summary.csv', is_marker=False)"
   ]
  },
  {
   "cell_type": "code",
   "execution_count": null,
   "metadata": {},
   "outputs": [],
   "source": [
    "tune_across_datasets(markers, tune_RF, path='rf_markers_summary.csv', is_marker=True)"
   ]
  },
  {
   "cell_type": "code",
   "execution_count": null,
   "metadata": {},
   "outputs": [],
   "source": [
    "tune_across_datasets(dfs, tune_SVM, path='svm_summary.csv', is_marker=False)"
   ]
  },
  {
   "cell_type": "code",
   "execution_count": null,
   "metadata": {},
   "outputs": [],
   "source": [
    "tune_across_datasets(markers, tune_SVM, path='SVM_markers_summary.csv', is_marker=True)"
   ]
  },
  {
   "cell_type": "code",
   "execution_count": null,
   "metadata": {},
   "outputs": [],
   "source": [
    "tune_across_datasets(dfs, tune_DAE, path='dae_summary.csv', is_marker=False)"
   ]
  },
  {
   "cell_type": "code",
   "execution_count": null,
   "metadata": {},
   "outputs": [],
   "source": [
    "tune_across_datasets(markers, tune_DAE, path='dae_markers_summary.csv', is_marker=True)"
   ]
  },
  {
   "cell_type": "code",
   "execution_count": null,
   "metadata": {},
   "outputs": [],
   "source": [
    "tune_across_datasets(dfs, tune_VAE, path='vae_summary.csv', is_marker=False)"
   ]
  },
  {
   "cell_type": "code",
   "execution_count": null,
   "metadata": {},
   "outputs": [],
   "source": [
    "tune_across_datasets(markers, tune_VAE, path='vae_markers_summary.csv', is_marker=True)"
   ]
  },
  {
   "cell_type": "code",
   "execution_count": null,
   "metadata": {},
   "outputs": [],
   "source": [
    "tune_across_datasets(dfs, tune_SAE, path='sae_summary.csv', is_marker=False)"
   ]
  },
  {
   "cell_type": "code",
   "execution_count": null,
   "metadata": {},
   "outputs": [],
   "source": [
    "tune_across_datasets(markers, tune_SAE, path='sae_markers_summary.csv', is_marker=True)"
   ]
  }
 ],
 "metadata": {
  "kernelspec": {
   "display_name": "dnabert",
   "language": "python",
   "name": "dnabert"
  },
  "language_info": {
   "codemirror_mode": {
    "name": "ipython",
    "version": 3
   },
   "file_extension": ".py",
   "mimetype": "text/x-python",
   "name": "python",
   "nbconvert_exporter": "python",
   "pygments_lexer": "ipython3",
   "version": "3.6.12"
  }
 },
 "nbformat": 4,
 "nbformat_minor": 2
}
