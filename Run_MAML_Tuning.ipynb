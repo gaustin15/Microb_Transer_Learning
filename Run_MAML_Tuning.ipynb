{
 "cells": [
  {
   "cell_type": "code",
   "execution_count": 1,
   "metadata": {},
   "outputs": [],
   "source": [
    "import sys\n",
    "sys.path.append('learn2learn/') # the version on pypi doesn't have LightningMAML ==> doing submodule approach\n",
    "                                # its a little gross--> hopefully this can be change in the near future\n",
    "%config Completer.use_jedi = False"
   ]
  },
  {
   "cell_type": "code",
   "execution_count": 2,
   "metadata": {},
   "outputs": [],
   "source": [
    "from datasets import load_abundance_data, get_shared_taxa_dfs\n",
    "from datasets import MicroDataset, Dataset\n",
    "from Metalearning.MAML import tune_MAML_FFNN\n",
    "import torch.nn.functional as F\n",
    "import os\n",
    "import pandas as pd\n",
    "import numpy as np\n",
    "dfs = load_abundance_data()\n",
    "all_datasets = get_shared_taxa_dfs(dfs)"
   ]
  },
  {
   "cell_type": "code",
   "execution_count": 3,
   "metadata": {},
   "outputs": [],
   "source": [
    "def tune_across_shared_datasets(dataset_list,\n",
    "                                model_name,\n",
    "                                tuning_func,\n",
    "                                path, \n",
    "                                is_marker):\n",
    "    if os.path.isfile(path):\n",
    "        raise(ValueError('Will not run function and potentially overwrite important results! Either delete or move the file first'))\n",
    "    \n",
    "    # initialize csv to store results in\n",
    "    results=pd.DataFrame(columns =  ['Model Type', 'Data Type', 'Dataset', 'hyperparams', 'AUC'])\n",
    "    results.to_csv(path, index=False)\n",
    "    # function to loop the tuning functions across each dataset\n",
    "    for i in range(len(dataset_list)):\n",
    "        datas = dataset_list[i:] + dataset_list[:i]\n",
    "        print(datas[0].index[0])\n",
    "        results=tuning_func(datas, \n",
    "                            is_marker=is_marker)\n",
    "        results = pd.DataFrame([a if type(a)==str \n",
    "                                 else [b for c,b in a.items()] if type(a) == dict \n",
    "                                 else a[0]['objective'] if type(a)==tuple\n",
    "                                 else a\n",
    "                                 for a in results]).T\n",
    "        results.columns=['Model Type', 'Data Type', 'Dataset', 'hyperparams', 'AUC']\n",
    "        pd.concat( [pd.read_csv(path),results], axis=0 ).to_csv(path, index=False)\n",
    "        print('Dataset #'+str(i)+' complete!')"
   ]
  },
  {
   "cell_type": "code",
   "execution_count": 4,
   "metadata": {},
   "outputs": [],
   "source": [
    "names = ['Obesity', 'Colorectal', 'IBD', 'EW-T2D','C-T2D', 'Cirrhosis']\n",
    "#creating different groups for param sharing\n",
    "groups = {'EU': ['Obesity', 'Colorectal', 'IBD', 'EW-T2D'],\n",
    "          'CH':['C-T2D', 'Cirrhosis'], \n",
    "          'T2D':['EW-T2D','C-T2D'],\n",
    "          'Colon':['Colorectal','IBD']\n",
    "         }"
   ]
  },
  {
   "cell_type": "code",
   "execution_count": null,
   "metadata": {},
   "outputs": [
    {
     "name": "stderr",
     "output_type": "stream",
     "text": [
      "[INFO 04-17 22:24:25] ax.modelbridge.dispatch_utils: Using Sobol generation strategy.\n",
      "[INFO 04-17 22:24:25] ax.service.managed_loop: Started full optimization with 15 steps.\n",
      "[INFO 04-17 22:24:25] ax.service.managed_loop: Running optimization trial 1...\n",
      "GPU available: False, used: False\n",
      "TPU available: False, using: 0 TPU cores\n"
     ]
    },
    {
     "name": "stdout",
     "output_type": "stream",
     "text": [
      "CPU times: user 3 µs, sys: 0 ns, total: 3 µs\n",
      "Wall time: 6.2 µs\n",
      "830\n"
     ]
    },
    {
     "name": "stderr",
     "output_type": "stream",
     "text": [
      "GPU available: False, used: False\n",
      "TPU available: False, using: 0 TPU cores\n",
      "[INFO 04-17 22:25:02] ax.service.managed_loop: Running optimization trial 2...\n",
      "GPU available: False, used: False\n",
      "TPU available: False, using: 0 TPU cores\n",
      "GPU available: False, used: False\n",
      "TPU available: False, using: 0 TPU cores\n",
      "[INFO 04-17 22:26:29] ax.service.managed_loop: Running optimization trial 3...\n",
      "GPU available: False, used: False\n",
      "TPU available: False, using: 0 TPU cores\n",
      "GPU available: False, used: False\n",
      "TPU available: False, using: 0 TPU cores\n",
      "[INFO 04-17 22:29:58] ax.service.managed_loop: Running optimization trial 4...\n",
      "GPU available: False, used: False\n",
      "TPU available: False, using: 0 TPU cores\n"
     ]
    }
   ],
   "source": [
    "%time\n",
    "i = 0\n",
    "mod = 'FFNN'\n",
    "for g in groups:\n",
    "    subset_names = groups[g]\n",
    "    ds = [all_datasets[s] for s in subset_names]\n",
    "    path = 'MAML_results/' + g + '_MAML_' + mod + '.csv'\n",
    "    tune_across_shared_datasets(ds,\n",
    "                                mod,\n",
    "                                tune_MAML_FFNN,\n",
    "                                path, \n",
    "                                is_marker=False\n",
    "                                 )\n"
   ]
  }
 ],
 "metadata": {
  "kernelspec": {
   "display_name": "dnabert",
   "language": "python",
   "name": "dnabert"
  },
  "language_info": {
   "codemirror_mode": {
    "name": "ipython",
    "version": 3
   },
   "file_extension": ".py",
   "mimetype": "text/x-python",
   "name": "python",
   "nbconvert_exporter": "python",
   "pygments_lexer": "ipython3",
   "version": "3.6.12"
  }
 },
 "nbformat": 4,
 "nbformat_minor": 2
}
