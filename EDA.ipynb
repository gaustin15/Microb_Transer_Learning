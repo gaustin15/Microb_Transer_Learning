{
 "cells": [
  {
   "cell_type": "code",
   "execution_count": 1,
   "metadata": {},
   "outputs": [],
   "source": [
    "import pandas as pd\n",
    "import numpy as np"
   ]
  },
  {
   "cell_type": "code",
   "execution_count": 2,
   "metadata": {},
   "outputs": [
    {
     "name": "stdout",
     "output_type": "stream",
     "text": [
      "Baseline_Modelling.ipynb   gia2105_ML4FG_Proposal.pdf\r\n",
      "EDA.ipynb                  \u001b[34mlightning_logs\u001b[m\u001b[m\r\n",
      "\u001b[34mdata\u001b[m\u001b[m\r\n"
     ]
    }
   ],
   "source": [
    "!ls"
   ]
  },
  {
   "cell_type": "code",
   "execution_count": 3,
   "metadata": {},
   "outputs": [
    {
     "data": {
      "text/plain": [
       "['abundance_Cirrhosis.txt',\n",
       " 'abundance_WT2D.txt',\n",
       " 'abundance_Colorectal.txt',\n",
       " 'abundance_Obesity.txt',\n",
       " 'abundance_IBD.txt',\n",
       " 'abundance_T2D.txt']"
      ]
     },
     "execution_count": 3,
     "metadata": {},
     "output_type": "execute_result"
    }
   ],
   "source": [
    "import os\n",
    "os.listdir('data/abundance/')"
   ]
  },
  {
   "cell_type": "code",
   "execution_count": 4,
   "metadata": {},
   "outputs": [],
   "source": [
    "df = pd.read_csv( 'data/abundance/abundance_Cirrhosis.txt', sep = '\\t')"
   ]
  },
  {
   "cell_type": "code",
   "execution_count": null,
   "metadata": {},
   "outputs": [],
   "source": []
  },
  {
   "cell_type": "code",
   "execution_count": 5,
   "metadata": {},
   "outputs": [],
   "source": [
    "dfs = []\n",
    "for file in os.listdir('data/abundance/'):\n",
    "    df = pd.read_csv('data/abundance/' + file, sep = '\\t') \n",
    "    df.index = df.dataset_name\n",
    "    dfs.append(df.T.drop('dataset_name') )"
   ]
  },
  {
   "cell_type": "code",
   "execution_count": 6,
   "metadata": {},
   "outputs": [
    {
     "name": "stderr",
     "output_type": "stream",
     "text": [
      "/Users/george/anaconda2/envs/dnabert/lib/python3.6/site-packages/IPython/core/interactiveshell.py:3072: DtypeWarning: Columns (1,2,3,4,5,6,7,8,9,10,11,12,13,14,15,16,17,18,19,20,21,22,23,24,25,26,27,28,29,30,31,32,33,34,35,36,37,38,39,40,41,42,43,44,45,46,47,48,49,50,51,52,53,54,55,56,57,58,59,60,61,62,63,64,65,66,67,68,69,70,71,72,73,74,75,76,77,78,79,80,81,82,83,84,85,86,87,88,89,90,91,92,93,94,95,96,97,98,99,100,101,102,103,104,105,106,107,108,109,110,111,112,113,114,115,116,117,118,119,120,121) have mixed types.Specify dtype option on import or set low_memory=False.\n",
      "  interactivity=interactivity, compiler=compiler, result=result)\n",
      "/Users/george/anaconda2/envs/dnabert/lib/python3.6/site-packages/IPython/core/interactiveshell.py:3072: DtypeWarning: Columns (1,2,3,4,5,6,7,8,9,10,11,12,13,14,15,16,17,18,19,20,21,22,23,24,25,26,27,28,29,30,31,32,33,34,35,36,37,38,39,40,41,42,43,44,45,46,47,48,49,50,51,52,53,54,55,56,57,58,59,60,61,62,63,64,65,66,67,68,69,70,71,72,73,74,75,76,77,78,79,80,81,82,83,84,85,86,87,88,89,90,91,92,93,94,95,96,97,98,99,100,101,102,103,104,105,106,107,108,109,110,111,112,113,114,115,116,117,118,119,120,121,122,123,124,125,126,127,128,129,130,131,132,133,134,135,136,137,138,139,140,141,142,143,144,145,146,147,148,149,150,151,152,153,154,155,156,157,158,159,160,161,162,163,164,165,166,167,168,169,170,171,172,173,174,175,176,177,178,179,180,181,182,183,184,185,186,187,188,189,190,191,192,193,194,195,196,197,198,199,200,201,202,203,204,205,206,207,208,209,210,211,212,213,214,215,216,217,218,219,220,221,222,223,224,225,226,227,228,229,230,231,232) have mixed types.Specify dtype option on import or set low_memory=False.\n",
      "  interactivity=interactivity, compiler=compiler, result=result)\n",
      "/Users/george/anaconda2/envs/dnabert/lib/python3.6/site-packages/IPython/core/interactiveshell.py:3072: DtypeWarning: Columns (1,2,3,4,5,6,7,8,9,10,11,12,13,14,15,16,17,18,19,20,21,22,23,24,25,26,27,28,29,30,31,32,33,34,35,36,37,38,39,40,41,42,43,44,45,46,47,48,49,50,51,52,53,54,55,56,57,58,59,60,61,62,63,64,65,66,67,68,69,70,71,72,73,74,75,76,77,78,79,80,81,82,83,84,85,86,87,88,89,90,91,92,93,94,95,96,97,98,99,100,101,102,103,104,105,106,107,108,109,110) have mixed types.Specify dtype option on import or set low_memory=False.\n",
      "  interactivity=interactivity, compiler=compiler, result=result)\n",
      "/Users/george/anaconda2/envs/dnabert/lib/python3.6/site-packages/IPython/core/interactiveshell.py:3072: DtypeWarning: Columns (1,2,3,4,5,6,7,8,9,10,11,12,13,14,15,16,17,18,19,20,21,22,23,24,25,26,27,28,29,30,31,32,33,34,35,36,37,38,39,40,41,42,43,44,45,46,47,48,49,50,51,52,53,54,55,56,57,58,59,60,61,62,63,64,65,66,67,68,69,70,71,72,73,74,75,76,77,78,79,80,81,82,83,84,85,86,87,88,89,90,91,92,93,94,95,96,97,98,99,100,101,102,103,104,105,106,107,108,109,110,111,112,113,114,115,116,117,118,119,120,121,122,123,124,125,126,127,128,129,130,131,132,133,134,135,136,137,138,139,140,141,142,143,144,145,146,147,148,149,150,151,152,153,154,155,156,157,158,159,160,161,162,163,164,165,166,167,168,169,170,171,172,173,174,175,176,177,178,179,180,181,182,183,184,185,186,187,188,189,190,191,192,193,194,195,196,197,198,199,200,201,202,203,204,205,206,207,208,209,210,211,212,213,214,215,216,217,218,219,220,221,222,223,224,225,226,227,228,229,230,231,232,233,234,235,236,237,238,239,240,241,242,243,244,245,246,247,248,249,250,251,252,253,254,255,256,257,258,259,260,261,262,263,264,265,266,267,268,269,270,271,272,273,274,275,276,277,278,279,280,281,282,283,284,285,286,287,288,289,290,291,292,293,294,295,296,297,298,299,300,301,302,303,304,305,306,307,308,309,310,311,312,313,314,315,316,317,318,319,320,321,322,323,324,325,326,327,328,329,330,331,332,333,334,335,336,337,338,339,340,341,342,343,344) have mixed types.Specify dtype option on import or set low_memory=False.\n",
      "  interactivity=interactivity, compiler=compiler, result=result)\n",
      "/Users/george/anaconda2/envs/dnabert/lib/python3.6/site-packages/IPython/core/interactiveshell.py:3072: DtypeWarning: Columns (1,2,3,4,5,6,7,8,9,10,11,12,13,14,15,16,17,18,19,20,21,22,23,24,25,26,27,28,29,30,31,32,33,34,35,36,37,38,39,40,41,42,43,44,45,46,47,48,49,50,51,52,53,54,55,56,57,58,59,60,61,62,63,64,65,66,67,68,69,70,71,72,73,74,75,76,77,78,79,80,81,82,83,84,85,86,87,88,89,90,91,92,93,94,95,96) have mixed types.Specify dtype option on import or set low_memory=False.\n",
      "  interactivity=interactivity, compiler=compiler, result=result)\n",
      "/Users/george/anaconda2/envs/dnabert/lib/python3.6/site-packages/IPython/core/interactiveshell.py:3072: DtypeWarning: Columns (1,2,3,4,5,6,7,8,9,10,11,12,13,14,15,16,17,18,19,20,21,22,23,24,25,26,27,28,29,30,31,32,33,34,35,36,37,38,39,40,41,42,43,44,45,46,47,48,49,50,51,52,53,54,55,56,57,58,59,60,61,62,63,64,65,66,67,68,69,70,71,72,73,74,75,76,77,78,79,80,81,82,83,84,85,86,87,88,89,90,91,92,93,94,95,96,97,98,99,100,101,102,103,104,105,106,107,108,109,110,111,112,113,114,115,116,117,118,119,120,121,122,123,124,125,126,127,128,129,130,131,132,133,134,135,136,137,138,139,140,141,142,143,144,145,146,147,148,149,150,151,152,153,154,155,156,157,158,159,160,161,162,163,164,165,166,167,168,169,170,171,172,173,174,175,176,177,178,179,180,181,182,183,184,185,186,187,188,189,190,191,192,193,194,195,196,197,198,199,200,201,202,203,204,205,206,207,208,209,210,211,212,213,214,215,216,217,218,219,220,221,222,223,224,225,226,227,228,229,230,231,232,233,234,235,236,237,238,239,240,241,242,243,244,245,246,247,248,249,250,251,252,253) have mixed types.Specify dtype option on import or set low_memory=False.\n",
      "  interactivity=interactivity, compiler=compiler, result=result)\n"
     ]
    }
   ],
   "source": [
    "markers = []\n",
    "for file in os.listdir('data/marker/'):\n",
    "    df = pd.read_csv('data/marker/' + file, sep = '\\t') \n",
    "    df.index = df.dataset_name\n",
    "    markers.append(df.T.drop('dataset_name') )"
   ]
  },
  {
   "cell_type": "code",
   "execution_count": 9,
   "metadata": {
    "scrolled": true
   },
   "outputs": [
    {
     "data": {
      "text/plain": [
       "[542, 381, 503, 465, 443, 572]"
      ]
     },
     "execution_count": 9,
     "metadata": {},
     "output_type": "execute_result"
    }
   ],
   "source": [
    "[df.columns.str.contains('k__').sum() for df in dfs]"
   ]
  },
  {
   "cell_type": "code",
   "execution_count": null,
   "metadata": {},
   "outputs": [],
   "source": []
  },
  {
   "cell_type": "code",
   "execution_count": 10,
   "metadata": {},
   "outputs": [
    {
     "data": {
      "text/plain": [
       "[None, None, None, None, None, None]"
      ]
     },
     "execution_count": 10,
     "metadata": {},
     "output_type": "execute_result"
    }
   ],
   "source": [
    "df = dfs[0]\n",
    "cols = []\n",
    "[cols.append( df.columns[df.columns.str.contains('k__')] ) for df in dfs]"
   ]
  },
  {
   "cell_type": "code",
   "execution_count": 7,
   "metadata": {},
   "outputs": [
    {
     "data": {
      "text/plain": [
       "[None, None, None, None, None, None]"
      ]
     },
     "execution_count": 7,
     "metadata": {},
     "output_type": "execute_result"
    }
   ],
   "source": [
    "marker_cols =[]\n",
    "[marker_cols.append( df.columns[df.columns.str.contains('gi[|]')] ) for df in markers]"
   ]
  },
  {
   "cell_type": "code",
   "execution_count": 9,
   "metadata": {},
   "outputs": [
    {
     "data": {
      "text/plain": [
       "(108034,)"
      ]
     },
     "execution_count": 9,
     "metadata": {},
     "output_type": "execute_result"
    }
   ],
   "source": [
    "marker_cols[0].shape"
   ]
  },
  {
   "cell_type": "code",
   "execution_count": 13,
   "metadata": {},
   "outputs": [
    {
     "data": {
      "text/plain": [
       "0.8081900142547717"
      ]
     },
     "execution_count": 13,
     "metadata": {},
     "output_type": "execute_result"
    }
   ],
   "source": [
    "marker_cols[0].isin(marker_cols[1]).mean()"
   ]
  },
  {
   "cell_type": "code",
   "execution_count": 11,
   "metadata": {},
   "outputs": [
    {
     "data": {
      "text/plain": [
       "327"
      ]
     },
     "execution_count": 11,
     "metadata": {},
     "output_type": "execute_result"
    }
   ],
   "source": [
    "cols[0].isin(cols[1]).sum()"
   ]
  },
  {
   "cell_type": "code",
   "execution_count": 12,
   "metadata": {
    "scrolled": true
   },
   "outputs": [
    {
     "data": {
      "text/html": [
       "<div>\n",
       "<style scoped>\n",
       "    .dataframe tbody tr th:only-of-type {\n",
       "        vertical-align: middle;\n",
       "    }\n",
       "\n",
       "    .dataframe tbody tr th {\n",
       "        vertical-align: top;\n",
       "    }\n",
       "\n",
       "    .dataframe thead th {\n",
       "        text-align: right;\n",
       "    }\n",
       "</style>\n",
       "<table border=\"1\" class=\"dataframe\">\n",
       "  <thead>\n",
       "    <tr style=\"text-align: right;\">\n",
       "      <th>dataset_name</th>\n",
       "      <th>sampleID</th>\n",
       "      <th>subjectID</th>\n",
       "      <th>bodysite</th>\n",
       "      <th>disease</th>\n",
       "      <th>age</th>\n",
       "      <th>gender</th>\n",
       "      <th>country</th>\n",
       "      <th>sequencing_technology</th>\n",
       "      <th>pubmedid</th>\n",
       "      <th>camp</th>\n",
       "      <th>...</th>\n",
       "      <th>k__Bacteria|p__Fusobacteria|c__Fusobacteriia|o__Fusobacteriales|f__Fusobacteriaceae|g__Cetobacterium|s__Cetobacterium_somerae</th>\n",
       "      <th>k__Bacteria|p__Fusobacteria|c__Fusobacteriia|o__Fusobacteriales|f__Fusobacteriaceae|g__Fusobacterium|s__Fusobacterium_varium</th>\n",
       "      <th>k__Bacteria|p__Proteobacteria|c__Deltaproteobacteria|o__Desulfovibrionales|f__Desulfovibrionaceae|g__Bilophila|s__Bilophila_sp_4_1_30</th>\n",
       "      <th>k__Bacteria|p__Proteobacteria|c__Gammaproteobacteria|o__Aeromonadales|f__Aeromonadaceae|g__Aeromonas|s__Aeromonas_veronii</th>\n",
       "      <th>k__Bacteria|p__Proteobacteria|c__Gammaproteobacteria|o__Enterobacteriales|f__Enterobacteriaceae|g__Escherichia|s__Escherichia_albertii</th>\n",
       "      <th>k__Bacteria|p__Proteobacteria|c__Gammaproteobacteria|o__Enterobacteriales|f__Enterobacteriaceae|g__Escherichia|s__Escherichia_fergusonii</th>\n",
       "      <th>k__Bacteria|p__Proteobacteria|c__Gammaproteobacteria|o__Enterobacteriales|f__Enterobacteriaceae|g__Klebsiella|s__Klebsiella_variicola</th>\n",
       "      <th>k__Bacteria|p__Proteobacteria|c__Gammaproteobacteria|o__Enterobacteriales|f__Enterobacteriaceae|g__Kosakonia|s__Kosakonia_radicincitans</th>\n",
       "      <th>k__Bacteria|p__Proteobacteria|c__Gammaproteobacteria|o__Enterobacteriales|f__Enterobacteriaceae|g__Pectobacterium|s__Pectobacterium_carotovorum</th>\n",
       "      <th>k__Bacteria|p__Proteobacteria|c__Gammaproteobacteria|o__Enterobacteriales|f__Enterobacteriaceae|g__Plesiomonas|s__Plesiomonas_shigelloides</th>\n",
       "    </tr>\n",
       "  </thead>\n",
       "  <tbody>\n",
       "    <tr>\n",
       "      <th>Quin_gut_liver_cirrhosis</th>\n",
       "      <td>HD-10</td>\n",
       "      <td>hd-10</td>\n",
       "      <td>stool</td>\n",
       "      <td>n</td>\n",
       "      <td>40</td>\n",
       "      <td>female</td>\n",
       "      <td>china</td>\n",
       "      <td>Illumina</td>\n",
       "      <td>25079328</td>\n",
       "      <td>nd</td>\n",
       "      <td>...</td>\n",
       "      <td>0</td>\n",
       "      <td>0</td>\n",
       "      <td>0</td>\n",
       "      <td>0</td>\n",
       "      <td>0</td>\n",
       "      <td>0</td>\n",
       "      <td>0</td>\n",
       "      <td>0</td>\n",
       "      <td>0</td>\n",
       "      <td>0</td>\n",
       "    </tr>\n",
       "    <tr>\n",
       "      <th>Quin_gut_liver_cirrhosis.1</th>\n",
       "      <td>HD-11</td>\n",
       "      <td>hd-11</td>\n",
       "      <td>stool</td>\n",
       "      <td>n</td>\n",
       "      <td>38</td>\n",
       "      <td>female</td>\n",
       "      <td>china</td>\n",
       "      <td>Illumina</td>\n",
       "      <td>25079328</td>\n",
       "      <td>nd</td>\n",
       "      <td>...</td>\n",
       "      <td>0</td>\n",
       "      <td>0</td>\n",
       "      <td>0</td>\n",
       "      <td>0</td>\n",
       "      <td>0</td>\n",
       "      <td>0</td>\n",
       "      <td>0</td>\n",
       "      <td>0</td>\n",
       "      <td>0</td>\n",
       "      <td>0</td>\n",
       "    </tr>\n",
       "    <tr>\n",
       "      <th>Quin_gut_liver_cirrhosis.2</th>\n",
       "      <td>HD-12</td>\n",
       "      <td>hd-12</td>\n",
       "      <td>stool</td>\n",
       "      <td>n</td>\n",
       "      <td>40</td>\n",
       "      <td>male</td>\n",
       "      <td>china</td>\n",
       "      <td>Illumina</td>\n",
       "      <td>25079328</td>\n",
       "      <td>nd</td>\n",
       "      <td>...</td>\n",
       "      <td>0</td>\n",
       "      <td>0</td>\n",
       "      <td>0</td>\n",
       "      <td>0</td>\n",
       "      <td>0</td>\n",
       "      <td>0</td>\n",
       "      <td>0</td>\n",
       "      <td>0</td>\n",
       "      <td>0</td>\n",
       "      <td>0</td>\n",
       "    </tr>\n",
       "    <tr>\n",
       "      <th>Quin_gut_liver_cirrhosis.3</th>\n",
       "      <td>HD-13</td>\n",
       "      <td>hd-13</td>\n",
       "      <td>stool</td>\n",
       "      <td>n</td>\n",
       "      <td>56</td>\n",
       "      <td>female</td>\n",
       "      <td>china</td>\n",
       "      <td>Illumina</td>\n",
       "      <td>25079328</td>\n",
       "      <td>nd</td>\n",
       "      <td>...</td>\n",
       "      <td>0</td>\n",
       "      <td>0</td>\n",
       "      <td>0</td>\n",
       "      <td>0</td>\n",
       "      <td>0</td>\n",
       "      <td>0</td>\n",
       "      <td>0</td>\n",
       "      <td>0</td>\n",
       "      <td>0</td>\n",
       "      <td>0</td>\n",
       "    </tr>\n",
       "    <tr>\n",
       "      <th>Quin_gut_liver_cirrhosis.4</th>\n",
       "      <td>HD-14</td>\n",
       "      <td>hd-14</td>\n",
       "      <td>stool</td>\n",
       "      <td>n</td>\n",
       "      <td>51</td>\n",
       "      <td>male</td>\n",
       "      <td>china</td>\n",
       "      <td>Illumina</td>\n",
       "      <td>25079328</td>\n",
       "      <td>nd</td>\n",
       "      <td>...</td>\n",
       "      <td>0</td>\n",
       "      <td>0</td>\n",
       "      <td>0</td>\n",
       "      <td>0</td>\n",
       "      <td>0</td>\n",
       "      <td>0</td>\n",
       "      <td>0</td>\n",
       "      <td>0</td>\n",
       "      <td>0</td>\n",
       "      <td>0</td>\n",
       "    </tr>\n",
       "  </tbody>\n",
       "</table>\n",
       "<p>5 rows × 752 columns</p>\n",
       "</div>"
      ],
      "text/plain": [
       "dataset_name               sampleID subjectID bodysite disease age  gender  \\\n",
       "Quin_gut_liver_cirrhosis      HD-10     hd-10    stool       n  40  female   \n",
       "Quin_gut_liver_cirrhosis.1    HD-11     hd-11    stool       n  38  female   \n",
       "Quin_gut_liver_cirrhosis.2    HD-12     hd-12    stool       n  40    male   \n",
       "Quin_gut_liver_cirrhosis.3    HD-13     hd-13    stool       n  56  female   \n",
       "Quin_gut_liver_cirrhosis.4    HD-14     hd-14    stool       n  51    male   \n",
       "\n",
       "dataset_name               country sequencing_technology  pubmedid camp  ...  \\\n",
       "Quin_gut_liver_cirrhosis     china              Illumina  25079328   nd  ...   \n",
       "Quin_gut_liver_cirrhosis.1   china              Illumina  25079328   nd  ...   \n",
       "Quin_gut_liver_cirrhosis.2   china              Illumina  25079328   nd  ...   \n",
       "Quin_gut_liver_cirrhosis.3   china              Illumina  25079328   nd  ...   \n",
       "Quin_gut_liver_cirrhosis.4   china              Illumina  25079328   nd  ...   \n",
       "\n",
       "dataset_name               k__Bacteria|p__Fusobacteria|c__Fusobacteriia|o__Fusobacteriales|f__Fusobacteriaceae|g__Cetobacterium|s__Cetobacterium_somerae  \\\n",
       "Quin_gut_liver_cirrhosis                                                    0                                                                              \n",
       "Quin_gut_liver_cirrhosis.1                                                  0                                                                              \n",
       "Quin_gut_liver_cirrhosis.2                                                  0                                                                              \n",
       "Quin_gut_liver_cirrhosis.3                                                  0                                                                              \n",
       "Quin_gut_liver_cirrhosis.4                                                  0                                                                              \n",
       "\n",
       "dataset_name               k__Bacteria|p__Fusobacteria|c__Fusobacteriia|o__Fusobacteriales|f__Fusobacteriaceae|g__Fusobacterium|s__Fusobacterium_varium  \\\n",
       "Quin_gut_liver_cirrhosis                                                    0                                                                             \n",
       "Quin_gut_liver_cirrhosis.1                                                  0                                                                             \n",
       "Quin_gut_liver_cirrhosis.2                                                  0                                                                             \n",
       "Quin_gut_liver_cirrhosis.3                                                  0                                                                             \n",
       "Quin_gut_liver_cirrhosis.4                                                  0                                                                             \n",
       "\n",
       "dataset_name               k__Bacteria|p__Proteobacteria|c__Deltaproteobacteria|o__Desulfovibrionales|f__Desulfovibrionaceae|g__Bilophila|s__Bilophila_sp_4_1_30  \\\n",
       "Quin_gut_liver_cirrhosis                                                    0                                                                                      \n",
       "Quin_gut_liver_cirrhosis.1                                                  0                                                                                      \n",
       "Quin_gut_liver_cirrhosis.2                                                  0                                                                                      \n",
       "Quin_gut_liver_cirrhosis.3                                                  0                                                                                      \n",
       "Quin_gut_liver_cirrhosis.4                                                  0                                                                                      \n",
       "\n",
       "dataset_name               k__Bacteria|p__Proteobacteria|c__Gammaproteobacteria|o__Aeromonadales|f__Aeromonadaceae|g__Aeromonas|s__Aeromonas_veronii  \\\n",
       "Quin_gut_liver_cirrhosis                                                    0                                                                          \n",
       "Quin_gut_liver_cirrhosis.1                                                  0                                                                          \n",
       "Quin_gut_liver_cirrhosis.2                                                  0                                                                          \n",
       "Quin_gut_liver_cirrhosis.3                                                  0                                                                          \n",
       "Quin_gut_liver_cirrhosis.4                                                  0                                                                          \n",
       "\n",
       "dataset_name               k__Bacteria|p__Proteobacteria|c__Gammaproteobacteria|o__Enterobacteriales|f__Enterobacteriaceae|g__Escherichia|s__Escherichia_albertii  \\\n",
       "Quin_gut_liver_cirrhosis                                                    0                                                                                       \n",
       "Quin_gut_liver_cirrhosis.1                                                  0                                                                                       \n",
       "Quin_gut_liver_cirrhosis.2                                                  0                                                                                       \n",
       "Quin_gut_liver_cirrhosis.3                                                  0                                                                                       \n",
       "Quin_gut_liver_cirrhosis.4                                                  0                                                                                       \n",
       "\n",
       "dataset_name               k__Bacteria|p__Proteobacteria|c__Gammaproteobacteria|o__Enterobacteriales|f__Enterobacteriaceae|g__Escherichia|s__Escherichia_fergusonii  \\\n",
       "Quin_gut_liver_cirrhosis                                                    0                                                                                         \n",
       "Quin_gut_liver_cirrhosis.1                                                  0                                                                                         \n",
       "Quin_gut_liver_cirrhosis.2                                                  0                                                                                         \n",
       "Quin_gut_liver_cirrhosis.3                                                  0                                                                                         \n",
       "Quin_gut_liver_cirrhosis.4                                                  0                                                                                         \n",
       "\n",
       "dataset_name               k__Bacteria|p__Proteobacteria|c__Gammaproteobacteria|o__Enterobacteriales|f__Enterobacteriaceae|g__Klebsiella|s__Klebsiella_variicola  \\\n",
       "Quin_gut_liver_cirrhosis                                                    0                                                                                      \n",
       "Quin_gut_liver_cirrhosis.1                                                  0                                                                                      \n",
       "Quin_gut_liver_cirrhosis.2                                                  0                                                                                      \n",
       "Quin_gut_liver_cirrhosis.3                                                  0                                                                                      \n",
       "Quin_gut_liver_cirrhosis.4                                                  0                                                                                      \n",
       "\n",
       "dataset_name               k__Bacteria|p__Proteobacteria|c__Gammaproteobacteria|o__Enterobacteriales|f__Enterobacteriaceae|g__Kosakonia|s__Kosakonia_radicincitans  \\\n",
       "Quin_gut_liver_cirrhosis                                                    0                                                                                        \n",
       "Quin_gut_liver_cirrhosis.1                                                  0                                                                                        \n",
       "Quin_gut_liver_cirrhosis.2                                                  0                                                                                        \n",
       "Quin_gut_liver_cirrhosis.3                                                  0                                                                                        \n",
       "Quin_gut_liver_cirrhosis.4                                                  0                                                                                        \n",
       "\n",
       "dataset_name               k__Bacteria|p__Proteobacteria|c__Gammaproteobacteria|o__Enterobacteriales|f__Enterobacteriaceae|g__Pectobacterium|s__Pectobacterium_carotovorum  \\\n",
       "Quin_gut_liver_cirrhosis                                                    0                                                                                                \n",
       "Quin_gut_liver_cirrhosis.1                                                  0                                                                                                \n",
       "Quin_gut_liver_cirrhosis.2                                                  0                                                                                                \n",
       "Quin_gut_liver_cirrhosis.3                                                  0                                                                                                \n",
       "Quin_gut_liver_cirrhosis.4                                                  0                                                                                                \n",
       "\n",
       "dataset_name               k__Bacteria|p__Proteobacteria|c__Gammaproteobacteria|o__Enterobacteriales|f__Enterobacteriaceae|g__Plesiomonas|s__Plesiomonas_shigelloides  \n",
       "Quin_gut_liver_cirrhosis                                                    0                                                                                          \n",
       "Quin_gut_liver_cirrhosis.1                                                  0                                                                                          \n",
       "Quin_gut_liver_cirrhosis.2                                                  0                                                                                          \n",
       "Quin_gut_liver_cirrhosis.3                                                  0                                                                                          \n",
       "Quin_gut_liver_cirrhosis.4                                                  0                                                                                          \n",
       "\n",
       "[5 rows x 752 columns]"
      ]
     },
     "execution_count": 12,
     "metadata": {},
     "output_type": "execute_result"
    }
   ],
   "source": [
    "dfs[0].head()"
   ]
  },
  {
   "cell_type": "code",
   "execution_count": 23,
   "metadata": {},
   "outputs": [
    {
     "data": {
      "text/plain": [
       "Index(['k__Archaea|p__Euryarchaeota|c__Methanobacteria|o__Methanobacteriales|f__Methanobacteriaceae|g__Methanobrevibacter|s__Methanobrevibacter_smithii',\n",
       "       'k__Archaea|p__Euryarchaeota|c__Methanobacteria|o__Methanobacteriales|f__Methanobacteriaceae|g__Methanobrevibacter|s__Methanobrevibacter_unclassified',\n",
       "       'k__Archaea|p__Euryarchaeota|c__Methanobacteria|o__Methanobacteriales|f__Methanobacteriaceae|g__Methanosphaera|s__Methanosphaera_stadtmanae',\n",
       "       'k__Bacteria|p__Actinobacteria|c__Actinobacteria|o__Actinomycetales|f__Actinomycetaceae|g__Actinomyces|s__Actinomyces_graevenitzii',\n",
       "       'k__Bacteria|p__Actinobacteria|c__Actinobacteria|o__Actinomycetales|f__Actinomycetaceae|g__Actinomyces|s__Actinomyces_odontolyticus',\n",
       "       'k__Bacteria|p__Actinobacteria|c__Actinobacteria|o__Actinomycetales|f__Actinomycetaceae|g__Actinomyces|s__Actinomyces_turicensis',\n",
       "       'k__Bacteria|p__Actinobacteria|c__Actinobacteria|o__Actinomycetales|f__Micrococcaceae|g__Rothia|s__Rothia_mucilaginosa',\n",
       "       'k__Bacteria|p__Actinobacteria|c__Actinobacteria|o__Actinomycetales|f__Micrococcaceae|g__Rothia|s__Rothia_unclassified',\n",
       "       'k__Bacteria|p__Actinobacteria|c__Actinobacteria|o__Bifidobacteriales|f__Bifidobacteriaceae|g__Bifidobacterium|s__Bifidobacterium_adolescentis',\n",
       "       'k__Bacteria|p__Actinobacteria|c__Actinobacteria|o__Bifidobacteriales|f__Bifidobacteriaceae|g__Bifidobacterium|s__Bifidobacterium_bifidum',\n",
       "       ...\n",
       "       'k__Bacteria|p__Firmicutes|c__Bacilli|o__Lactobacillales|f__Lactobacillaceae|g__Lactobacillus|s__Lactobacillus_ultunensis',\n",
       "       'k__Bacteria|p__Firmicutes|c__Bacilli|o__Lactobacillales|f__Lactobacillaceae|g__Pediococcus|s__Pediococcus_lolii',\n",
       "       'k__Bacteria|p__Firmicutes|c__Bacilli|o__Bacillales|f__Staphylococcaceae|g__Staphylococcus|s__Staphylococcus_equorum',\n",
       "       'k__Bacteria|p__Firmicutes|c__Clostridia|o__Clostridiales|f__Clostridiaceae|g__Clostridium|s__Clostridium_sp_HGF2',\n",
       "       'k__Bacteria|p__Actinobacteria|c__Actinobacteria|o__Actinomycetales|f__Corynebacteriaceae|g__Corynebacterium|s__Corynebacterium_glutamicum',\n",
       "       'k__Bacteria|p__Firmicutes|c__Bacilli|o__Bacillales|f__Bacillaceae|g__Lysinibacillus|s__Lysinibacillus_unclassified',\n",
       "       'k__Bacteria|p__Firmicutes|c__Bacilli|o__Lactobacillales|f__Lactobacillaceae|g__Lactobacillus|s__Lactobacillus_antri',\n",
       "       'k__Bacteria|p__Bacteroidetes|c__Bacteroidia|o__Bacteroidales|f__Bacteroidaceae|g__Bacteroides|s__Bacteroides_sp_2_2_4',\n",
       "       'k__Bacteria|p__Firmicutes|c__Bacilli|o__Bacillales|f__Bacillaceae|g__Lysinibacillus|s__Lysinibacillus_fusiformis',\n",
       "       'k__Bacteria|p__Firmicutes|c__Bacilli|o__Bacillales|f__Bacillaceae|g__Lysinibacillus|s__Lysinibacillus_sphaericus'],\n",
       "      dtype='object', name='dataset_name', length=596)"
      ]
     },
     "execution_count": 23,
     "metadata": {},
     "output_type": "execute_result"
    }
   ],
   "source": [
    "cols[0].append( cols[1] ).unique()"
   ]
  },
  {
   "cell_type": "code",
   "execution_count": 17,
   "metadata": {},
   "outputs": [
    {
     "name": "stdout",
     "output_type": "stream",
     "text": [
      "Quin_gut_liver_cirrhosis\n",
      "(542,)\n",
      "1.0\n",
      "0.6033210332103321\n",
      "0.7416974169741697\n",
      "0.6955719557195572\n",
      "0.6752767527675276\n",
      "0.8468634686346863\n",
      "WT2D\n",
      "(381,)\n",
      "0.8582677165354331\n",
      "1.0\n",
      "0.916010498687664\n",
      "0.8871391076115486\n",
      "0.8766404199475065\n",
      "0.910761154855643\n",
      "Zeller_fecal_colorectal_cancer\n",
      "(503,)\n",
      "0.7992047713717694\n",
      "0.6938369781312127\n",
      "1.0\n",
      "0.7534791252485089\n",
      "0.7375745526838966\n",
      "0.8449304174950298\n",
      "Chatelier_gut_obesity\n",
      "(465,)\n",
      "0.810752688172043\n",
      "0.7268817204301076\n",
      "0.8150537634408602\n",
      "1.0\n",
      "0.8602150537634409\n",
      "0.864516129032258\n",
      "metahit\n",
      "(443,)\n",
      "0.8261851015801355\n",
      "0.7539503386004515\n",
      "0.837471783295711\n",
      "0.9029345372460497\n",
      "1.0\n",
      "0.8826185101580135\n",
      "t2dmeta_long\n",
      "(572,)\n",
      "0.8024475524475524\n",
      "0.6066433566433567\n",
      "0.743006993006993\n",
      "0.7027972027972028\n",
      "0.6835664335664335\n",
      "1.0\n"
     ]
    }
   ],
   "source": [
    "for i in range(len(cols)):\n",
    "    print(dfs[i].index[0])\n",
    "    print(cols[i].shape)\n",
    "    for j in range(0, len(cols)):\n",
    "            print(sum(cols[i].isin(cols[j]))/cols[i].shape[0])"
   ]
  },
  {
   "cell_type": "code",
   "execution_count": 14,
   "metadata": {},
   "outputs": [
    {
     "name": "stdout",
     "output_type": "stream",
     "text": [
      "Quin_gut_liver_cirrhosis\n",
      "(108034,)\n",
      "1.0\n",
      "0.8081900142547717\n",
      "0.7052501990114224\n",
      "0.8160949330766241\n",
      "0.6885980339522743\n",
      "0.7463668844993243\n",
      "WT2D\n",
      "(120553,)\n",
      "0.724262357635231\n",
      "1.0\n",
      "0.6351397310726402\n",
      "0.8075701143895216\n",
      "0.5951075460585801\n",
      "0.678373827279288\n",
      "Zeller_fecal_colorectal_cancer\n",
      "(91756,)\n",
      "0.830365316709534\n",
      "0.8344740398448058\n",
      "1.0\n",
      "0.866842495313658\n",
      "0.7612908147696064\n",
      "0.9068834735603122\n",
      "Chatelier_gut_obesity\n",
      "(119792,)\n",
      "0.7359923868037932\n",
      "0.8127003472685989\n",
      "0.663967543742487\n",
      "1.0\n",
      "0.6197408841992788\n",
      "0.7092042874315481\n",
      "metahit\n",
      "(83456,)\n",
      "0.8913918711656442\n",
      "0.8596386119631901\n",
      "0.837003930214724\n",
      "0.8895705521472392\n",
      "1.0\n",
      "0.8721721625766872\n",
      "t2dmeta_long\n",
      "(99568,)\n",
      "0.8098284589426322\n",
      "0.8213482243291017\n",
      "0.8357303551341797\n",
      "0.8532560662060099\n",
      "0.7310380845251486\n",
      "1.0\n"
     ]
    }
   ],
   "source": [
    "for i in range(len(marker_cols)):\n",
    "    print(dfs[i].index[0])\n",
    "    print(marker_cols[i].shape)\n",
    "    for j in range(0, len(marker_cols)):\n",
    "            print(sum(marker_cols[i].isin(marker_cols[j]))/marker_cols[i].shape[0])"
   ]
  },
  {
   "cell_type": "markdown",
   "metadata": {},
   "source": [
    "We have good overlap rates ==> good news for my project"
   ]
  },
  {
   "cell_type": "code",
   "execution_count": null,
   "metadata": {},
   "outputs": [],
   "source": [
    "[dfs[i][cols[i]] for i in range(len(dfs))]"
   ]
  },
  {
   "cell_type": "code",
   "execution_count": 94,
   "metadata": {},
   "outputs": [],
   "source": [
    "all_dfs = pd.concat( [dfs[i][cols[i]].astype(float) for i in range(len(dfs))], axis = 1).fillna(0)\n",
    "all_dfs = all_dfs.T.groupby('dataset_name').sum().T\n",
    "all_dfs['dataset'] = all_dfs.index.str.split('.').str[0]\n",
    "all_dfs = all_dfs[['dataset']+list(all_dfs.columns[:-1])]\n",
    "all_dfs = all_dfs.reset_index(drop=True)"
   ]
  },
  {
   "cell_type": "code",
   "execution_count": 49,
   "metadata": {},
   "outputs": [],
   "source": [
    "all_dfs = all_dfs.fillna(0)"
   ]
  },
  {
   "cell_type": "code",
   "execution_count": 95,
   "metadata": {},
   "outputs": [
    {
     "data": {
      "text/html": [
       "<div>\n",
       "<style scoped>\n",
       "    .dataframe tbody tr th:only-of-type {\n",
       "        vertical-align: middle;\n",
       "    }\n",
       "\n",
       "    .dataframe tbody tr th {\n",
       "        vertical-align: top;\n",
       "    }\n",
       "\n",
       "    .dataframe thead th {\n",
       "        text-align: right;\n",
       "    }\n",
       "</style>\n",
       "<table border=\"1\" class=\"dataframe\">\n",
       "  <thead>\n",
       "    <tr style=\"text-align: right;\">\n",
       "      <th>dataset_name</th>\n",
       "      <th>dataset</th>\n",
       "      <th>k__Archaea|p__Euryarchaeota|c__Archaeoglobi|o__Archaeoglobales|f__Archaeoglobaceae|g__Archaeoglobaceae_unclassified</th>\n",
       "      <th>k__Archaea|p__Euryarchaeota|c__Methanobacteria|o__Methanobacteriales|f__Methanobacteriaceae|g__Methanobacterium|s__Methanobacterium_unclassified</th>\n",
       "      <th>k__Archaea|p__Euryarchaeota|c__Methanobacteria|o__Methanobacteriales|f__Methanobacteriaceae|g__Methanobrevibacter|s__Methanobrevibacter_smithii</th>\n",
       "      <th>k__Archaea|p__Euryarchaeota|c__Methanobacteria|o__Methanobacteriales|f__Methanobacteriaceae|g__Methanobrevibacter|s__Methanobrevibacter_unclassified</th>\n",
       "      <th>k__Archaea|p__Euryarchaeota|c__Methanobacteria|o__Methanobacteriales|f__Methanobacteriaceae|g__Methanosphaera|s__Methanosphaera_stadtmanae</th>\n",
       "      <th>k__Archaea|p__Euryarchaeota|c__Methanococci|o__Methanococcales|f__Methanocaldococcaceae|g__Methanocaldococcaceae_unclassified</th>\n",
       "      <th>k__Archaea|p__Euryarchaeota|c__Methanococci|o__Methanococcales|f__Methanocaldococcaceae|g__Methanocaldococcus|s__Methanocaldococcus_unclassified</th>\n",
       "      <th>k__Bacteria|p__Acidobacteria|c__Acidobacteriia|o__Acidobacteriales|f__Acidobacteriaceae|g__Acidobacteriaceae_unclassified</th>\n",
       "      <th>k__Bacteria|p__Acidobacteria|c__Acidobacteriia|o__Acidobacteriales|f__Acidobacteriaceae|g__Granulicella|s__Granulicella_unclassified</th>\n",
       "      <th>...</th>\n",
       "      <th>k__Eukaryota|p__Ascomycota|c__Saccharomycetes|o__Saccharomycetales|f__Saccharomycetaceae|g__Nakaseomyces|s__Candida_glabrata</th>\n",
       "      <th>k__Eukaryota|p__Ascomycota|c__Saccharomycetes|o__Saccharomycetales|f__Saccharomycetaceae|g__Naumovozyma|s__Naumovozyma_unclassified</th>\n",
       "      <th>k__Eukaryota|p__Ascomycota|c__Saccharomycetes|o__Saccharomycetales|f__Saccharomycetaceae|g__Saccharomyces|s__Saccharomyces_cerevisiae</th>\n",
       "      <th>k__Eukaryota|p__Ascomycota|c__Saccharomycetes|o__Saccharomycetales|f__Saccharomycetaceae|g__Saccharomycetaceae_unclassified</th>\n",
       "      <th>k__Eukaryota|p__Ascomycota|c__Saccharomycetes|o__Saccharomycetales|f__Saccharomycetales_noname|g__Candida|s__Candida_albicans</th>\n",
       "      <th>k__Eukaryota|p__Ascomycota|c__Saccharomycetes|o__Saccharomycetales|f__Saccharomycetales_noname|g__Candida|s__Candida_tropicalis</th>\n",
       "      <th>k__Eukaryota|p__Ascomycota|c__Schizosaccharomycetes|o__Schizosaccharomycetales|f__Schizosaccharomycetaceae|g__Schizosaccharomyces|s__Schizosaccharomyces_pombe</th>\n",
       "      <th>k__Eukaryota|p__Ascomycota|c__Schizosaccharomycetes|o__Schizosaccharomycetales|f__Schizosaccharomycetaceae|g__Schizosaccharomyces|s__Schizosaccharomyces_unclassified</th>\n",
       "      <th>k__Eukaryota|p__Eukaryota_noname|c__Eukaryota_noname|o__Eukaryota_noname|f__Eukaryota_noname|g__Entamoeba|s__Entamoeba_dispar</th>\n",
       "      <th>k__Eukaryota|p__Eukaryota_noname|c__Eukaryota_noname|o__Eukaryota_noname|f__Hexamitidae|g__Giardia|s__Giardia_intestinalis</th>\n",
       "    </tr>\n",
       "  </thead>\n",
       "  <tbody>\n",
       "    <tr>\n",
       "      <th>0</th>\n",
       "      <td>Quin_gut_liver_cirrhosis</td>\n",
       "      <td>0.0</td>\n",
       "      <td>0.0</td>\n",
       "      <td>0.0</td>\n",
       "      <td>0.0</td>\n",
       "      <td>0.0</td>\n",
       "      <td>0.0</td>\n",
       "      <td>0.0</td>\n",
       "      <td>0.0</td>\n",
       "      <td>0.0</td>\n",
       "      <td>...</td>\n",
       "      <td>0.0</td>\n",
       "      <td>0.0</td>\n",
       "      <td>0.0</td>\n",
       "      <td>0.0</td>\n",
       "      <td>0.0</td>\n",
       "      <td>0.0</td>\n",
       "      <td>0.0</td>\n",
       "      <td>0.0</td>\n",
       "      <td>0.0</td>\n",
       "      <td>0.0</td>\n",
       "    </tr>\n",
       "    <tr>\n",
       "      <th>1</th>\n",
       "      <td>Quin_gut_liver_cirrhosis</td>\n",
       "      <td>0.0</td>\n",
       "      <td>0.0</td>\n",
       "      <td>0.0</td>\n",
       "      <td>0.0</td>\n",
       "      <td>0.0</td>\n",
       "      <td>0.0</td>\n",
       "      <td>0.0</td>\n",
       "      <td>0.0</td>\n",
       "      <td>0.0</td>\n",
       "      <td>...</td>\n",
       "      <td>0.0</td>\n",
       "      <td>0.0</td>\n",
       "      <td>0.0</td>\n",
       "      <td>0.0</td>\n",
       "      <td>0.0</td>\n",
       "      <td>0.0</td>\n",
       "      <td>0.0</td>\n",
       "      <td>0.0</td>\n",
       "      <td>0.0</td>\n",
       "      <td>0.0</td>\n",
       "    </tr>\n",
       "    <tr>\n",
       "      <th>2</th>\n",
       "      <td>Quin_gut_liver_cirrhosis</td>\n",
       "      <td>0.0</td>\n",
       "      <td>0.0</td>\n",
       "      <td>0.0</td>\n",
       "      <td>0.0</td>\n",
       "      <td>0.0</td>\n",
       "      <td>0.0</td>\n",
       "      <td>0.0</td>\n",
       "      <td>0.0</td>\n",
       "      <td>0.0</td>\n",
       "      <td>...</td>\n",
       "      <td>0.0</td>\n",
       "      <td>0.0</td>\n",
       "      <td>0.0</td>\n",
       "      <td>0.0</td>\n",
       "      <td>0.0</td>\n",
       "      <td>0.0</td>\n",
       "      <td>0.0</td>\n",
       "      <td>0.0</td>\n",
       "      <td>0.0</td>\n",
       "      <td>0.0</td>\n",
       "    </tr>\n",
       "    <tr>\n",
       "      <th>3</th>\n",
       "      <td>Quin_gut_liver_cirrhosis</td>\n",
       "      <td>0.0</td>\n",
       "      <td>0.0</td>\n",
       "      <td>0.0</td>\n",
       "      <td>0.0</td>\n",
       "      <td>0.0</td>\n",
       "      <td>0.0</td>\n",
       "      <td>0.0</td>\n",
       "      <td>0.0</td>\n",
       "      <td>0.0</td>\n",
       "      <td>...</td>\n",
       "      <td>0.0</td>\n",
       "      <td>0.0</td>\n",
       "      <td>0.0</td>\n",
       "      <td>0.0</td>\n",
       "      <td>0.0</td>\n",
       "      <td>0.0</td>\n",
       "      <td>0.0</td>\n",
       "      <td>0.0</td>\n",
       "      <td>0.0</td>\n",
       "      <td>0.0</td>\n",
       "    </tr>\n",
       "    <tr>\n",
       "      <th>4</th>\n",
       "      <td>Quin_gut_liver_cirrhosis</td>\n",
       "      <td>0.0</td>\n",
       "      <td>0.0</td>\n",
       "      <td>0.0</td>\n",
       "      <td>0.0</td>\n",
       "      <td>0.0</td>\n",
       "      <td>0.0</td>\n",
       "      <td>0.0</td>\n",
       "      <td>0.0</td>\n",
       "      <td>0.0</td>\n",
       "      <td>...</td>\n",
       "      <td>0.0</td>\n",
       "      <td>0.0</td>\n",
       "      <td>0.0</td>\n",
       "      <td>0.0</td>\n",
       "      <td>0.0</td>\n",
       "      <td>0.0</td>\n",
       "      <td>0.0</td>\n",
       "      <td>0.0</td>\n",
       "      <td>0.0</td>\n",
       "      <td>0.0</td>\n",
       "    </tr>\n",
       "  </tbody>\n",
       "</table>\n",
       "<p>5 rows × 772 columns</p>\n",
       "</div>"
      ],
      "text/plain": [
       "dataset_name                   dataset  \\\n",
       "0             Quin_gut_liver_cirrhosis   \n",
       "1             Quin_gut_liver_cirrhosis   \n",
       "2             Quin_gut_liver_cirrhosis   \n",
       "3             Quin_gut_liver_cirrhosis   \n",
       "4             Quin_gut_liver_cirrhosis   \n",
       "\n",
       "dataset_name  k__Archaea|p__Euryarchaeota|c__Archaeoglobi|o__Archaeoglobales|f__Archaeoglobaceae|g__Archaeoglobaceae_unclassified  \\\n",
       "0                                                           0.0                                                                     \n",
       "1                                                           0.0                                                                     \n",
       "2                                                           0.0                                                                     \n",
       "3                                                           0.0                                                                     \n",
       "4                                                           0.0                                                                     \n",
       "\n",
       "dataset_name  k__Archaea|p__Euryarchaeota|c__Methanobacteria|o__Methanobacteriales|f__Methanobacteriaceae|g__Methanobacterium|s__Methanobacterium_unclassified  \\\n",
       "0                                                           0.0                                                                                                  \n",
       "1                                                           0.0                                                                                                  \n",
       "2                                                           0.0                                                                                                  \n",
       "3                                                           0.0                                                                                                  \n",
       "4                                                           0.0                                                                                                  \n",
       "\n",
       "dataset_name  k__Archaea|p__Euryarchaeota|c__Methanobacteria|o__Methanobacteriales|f__Methanobacteriaceae|g__Methanobrevibacter|s__Methanobrevibacter_smithii  \\\n",
       "0                                                           0.0                                                                                                 \n",
       "1                                                           0.0                                                                                                 \n",
       "2                                                           0.0                                                                                                 \n",
       "3                                                           0.0                                                                                                 \n",
       "4                                                           0.0                                                                                                 \n",
       "\n",
       "dataset_name  k__Archaea|p__Euryarchaeota|c__Methanobacteria|o__Methanobacteriales|f__Methanobacteriaceae|g__Methanobrevibacter|s__Methanobrevibacter_unclassified  \\\n",
       "0                                                           0.0                                                                                                      \n",
       "1                                                           0.0                                                                                                      \n",
       "2                                                           0.0                                                                                                      \n",
       "3                                                           0.0                                                                                                      \n",
       "4                                                           0.0                                                                                                      \n",
       "\n",
       "dataset_name  k__Archaea|p__Euryarchaeota|c__Methanobacteria|o__Methanobacteriales|f__Methanobacteriaceae|g__Methanosphaera|s__Methanosphaera_stadtmanae  \\\n",
       "0                                                           0.0                                                                                            \n",
       "1                                                           0.0                                                                                            \n",
       "2                                                           0.0                                                                                            \n",
       "3                                                           0.0                                                                                            \n",
       "4                                                           0.0                                                                                            \n",
       "\n",
       "dataset_name  k__Archaea|p__Euryarchaeota|c__Methanococci|o__Methanococcales|f__Methanocaldococcaceae|g__Methanocaldococcaceae_unclassified  \\\n",
       "0                                                           0.0                                                                               \n",
       "1                                                           0.0                                                                               \n",
       "2                                                           0.0                                                                               \n",
       "3                                                           0.0                                                                               \n",
       "4                                                           0.0                                                                               \n",
       "\n",
       "dataset_name  k__Archaea|p__Euryarchaeota|c__Methanococci|o__Methanococcales|f__Methanocaldococcaceae|g__Methanocaldococcus|s__Methanocaldococcus_unclassified  \\\n",
       "0                                                           0.0                                                                                                  \n",
       "1                                                           0.0                                                                                                  \n",
       "2                                                           0.0                                                                                                  \n",
       "3                                                           0.0                                                                                                  \n",
       "4                                                           0.0                                                                                                  \n",
       "\n",
       "dataset_name  k__Bacteria|p__Acidobacteria|c__Acidobacteriia|o__Acidobacteriales|f__Acidobacteriaceae|g__Acidobacteriaceae_unclassified  \\\n",
       "0                                                           0.0                                                                           \n",
       "1                                                           0.0                                                                           \n",
       "2                                                           0.0                                                                           \n",
       "3                                                           0.0                                                                           \n",
       "4                                                           0.0                                                                           \n",
       "\n",
       "dataset_name  k__Bacteria|p__Acidobacteria|c__Acidobacteriia|o__Acidobacteriales|f__Acidobacteriaceae|g__Granulicella|s__Granulicella_unclassified  \\\n",
       "0                                                           0.0                                                                                      \n",
       "1                                                           0.0                                                                                      \n",
       "2                                                           0.0                                                                                      \n",
       "3                                                           0.0                                                                                      \n",
       "4                                                           0.0                                                                                      \n",
       "\n",
       "dataset_name  ...  \\\n",
       "0             ...   \n",
       "1             ...   \n",
       "2             ...   \n",
       "3             ...   \n",
       "4             ...   \n",
       "\n",
       "dataset_name  k__Eukaryota|p__Ascomycota|c__Saccharomycetes|o__Saccharomycetales|f__Saccharomycetaceae|g__Nakaseomyces|s__Candida_glabrata  \\\n",
       "0                                                           0.0                                                                              \n",
       "1                                                           0.0                                                                              \n",
       "2                                                           0.0                                                                              \n",
       "3                                                           0.0                                                                              \n",
       "4                                                           0.0                                                                              \n",
       "\n",
       "dataset_name  k__Eukaryota|p__Ascomycota|c__Saccharomycetes|o__Saccharomycetales|f__Saccharomycetaceae|g__Naumovozyma|s__Naumovozyma_unclassified  \\\n",
       "0                                                           0.0                                                                                     \n",
       "1                                                           0.0                                                                                     \n",
       "2                                                           0.0                                                                                     \n",
       "3                                                           0.0                                                                                     \n",
       "4                                                           0.0                                                                                     \n",
       "\n",
       "dataset_name  k__Eukaryota|p__Ascomycota|c__Saccharomycetes|o__Saccharomycetales|f__Saccharomycetaceae|g__Saccharomyces|s__Saccharomyces_cerevisiae  \\\n",
       "0                                                           0.0                                                                                       \n",
       "1                                                           0.0                                                                                       \n",
       "2                                                           0.0                                                                                       \n",
       "3                                                           0.0                                                                                       \n",
       "4                                                           0.0                                                                                       \n",
       "\n",
       "dataset_name  k__Eukaryota|p__Ascomycota|c__Saccharomycetes|o__Saccharomycetales|f__Saccharomycetaceae|g__Saccharomycetaceae_unclassified  \\\n",
       "0                                                           0.0                                                                             \n",
       "1                                                           0.0                                                                             \n",
       "2                                                           0.0                                                                             \n",
       "3                                                           0.0                                                                             \n",
       "4                                                           0.0                                                                             \n",
       "\n",
       "dataset_name  k__Eukaryota|p__Ascomycota|c__Saccharomycetes|o__Saccharomycetales|f__Saccharomycetales_noname|g__Candida|s__Candida_albicans  \\\n",
       "0                                                           0.0                                                                               \n",
       "1                                                           0.0                                                                               \n",
       "2                                                           0.0                                                                               \n",
       "3                                                           0.0                                                                               \n",
       "4                                                           0.0                                                                               \n",
       "\n",
       "dataset_name  k__Eukaryota|p__Ascomycota|c__Saccharomycetes|o__Saccharomycetales|f__Saccharomycetales_noname|g__Candida|s__Candida_tropicalis  \\\n",
       "0                                                           0.0                                                                                 \n",
       "1                                                           0.0                                                                                 \n",
       "2                                                           0.0                                                                                 \n",
       "3                                                           0.0                                                                                 \n",
       "4                                                           0.0                                                                                 \n",
       "\n",
       "dataset_name  k__Eukaryota|p__Ascomycota|c__Schizosaccharomycetes|o__Schizosaccharomycetales|f__Schizosaccharomycetaceae|g__Schizosaccharomyces|s__Schizosaccharomyces_pombe  \\\n",
       "0                                                           0.0                                                                                                                \n",
       "1                                                           0.0                                                                                                                \n",
       "2                                                           0.0                                                                                                                \n",
       "3                                                           0.0                                                                                                                \n",
       "4                                                           0.0                                                                                                                \n",
       "\n",
       "dataset_name  k__Eukaryota|p__Ascomycota|c__Schizosaccharomycetes|o__Schizosaccharomycetales|f__Schizosaccharomycetaceae|g__Schizosaccharomyces|s__Schizosaccharomyces_unclassified  \\\n",
       "0                                                           0.0                                                                                                                       \n",
       "1                                                           0.0                                                                                                                       \n",
       "2                                                           0.0                                                                                                                       \n",
       "3                                                           0.0                                                                                                                       \n",
       "4                                                           0.0                                                                                                                       \n",
       "\n",
       "dataset_name  k__Eukaryota|p__Eukaryota_noname|c__Eukaryota_noname|o__Eukaryota_noname|f__Eukaryota_noname|g__Entamoeba|s__Entamoeba_dispar  \\\n",
       "0                                                           0.0                                                                               \n",
       "1                                                           0.0                                                                               \n",
       "2                                                           0.0                                                                               \n",
       "3                                                           0.0                                                                               \n",
       "4                                                           0.0                                                                               \n",
       "\n",
       "dataset_name  k__Eukaryota|p__Eukaryota_noname|c__Eukaryota_noname|o__Eukaryota_noname|f__Hexamitidae|g__Giardia|s__Giardia_intestinalis  \n",
       "0                                                           0.0                                                                           \n",
       "1                                                           0.0                                                                           \n",
       "2                                                           0.0                                                                           \n",
       "3                                                           0.0                                                                           \n",
       "4                                                           0.0                                                                           \n",
       "\n",
       "[5 rows x 772 columns]"
      ]
     },
     "execution_count": 95,
     "metadata": {},
     "output_type": "execute_result"
    }
   ],
   "source": [
    "all_dfs.head()"
   ]
  },
  {
   "cell_type": "code",
   "execution_count": 96,
   "metadata": {},
   "outputs": [],
   "source": [
    "from sklearn.decomposition import PCA\n",
    "import matplotlib.pyplot as plt\n",
    "import seaborn as sns"
   ]
  },
  {
   "cell_type": "code",
   "execution_count": 97,
   "metadata": {},
   "outputs": [],
   "source": [
    "qq = all_dfs.loc[all_dfs.dataset.isin(['Zeller_fecal_colorectal_cancer', 'Chatelier_gut_obesity'])]"
   ]
  },
  {
   "cell_type": "code",
   "execution_count": 66,
   "metadata": {},
   "outputs": [
    {
     "data": {
      "text/plain": [
       "array(['Quin_gut_liver_cirrhosis', 'WT2D',\n",
       "       'Zeller_fecal_colorectal_cancer', 'Chatelier_gut_obesity',\n",
       "       'metahit', 't2dmeta_long', 't2dmeta_short'], dtype=object)"
      ]
     },
     "execution_count": 66,
     "metadata": {},
     "output_type": "execute_result"
    }
   ],
   "source": [
    "all_dfs.dataset.unique()"
   ]
  },
  {
   "cell_type": "code",
   "execution_count": 69,
   "metadata": {},
   "outputs": [
    {
     "data": {
      "text/plain": [
       "96"
      ]
     },
     "execution_count": 69,
     "metadata": {},
     "output_type": "execute_result"
    }
   ],
   "source": [
    "(all_dfs.dataset == 'WT2D' ).sum()"
   ]
  },
  {
   "cell_type": "code",
   "execution_count": 101,
   "metadata": {},
   "outputs": [
    {
     "data": {
      "image/png": "[encoded data removed]",
      "text/plain": [
       "<Figure size 720x360 with 1 Axes>"
      ]
     },
     "metadata": {
      "needs_background": "light"
     },
     "output_type": "display_data"
    }
   ],
   "source": [
    "pc = PCA(n_components = 2)\n",
    "plt.figure(figsize = (10,5))\n",
    "x = pc.fit_transform( np.log10(1 + all_dfs.iloc[:, 1:].values) )\n",
    "sns.scatterplot(x = x[:, 0], y = x[:, 1], hue = all_dfs['dataset'], alpha = 0.5)#.str.upper().str.strip())\n",
    "plt.title('PCA Visualizing Placenta data: Iter FEAST')\n",
    "plt.xlabel('PC1')\n",
    "plt.ylabel('PC2')\n",
    "#plt.xlim([-0.025, 0.001])\n",
    "plt.show()"
   ]
  },
  {
   "cell_type": "markdown",
   "metadata": {},
   "source": [
    "## Good news! It doesn't seem like we have severe batch effects, at least based on the PCA plot"
   ]
  }
 ],
 "metadata": {
  "kernelspec": {
   "display_name": "dnabert",
   "language": "python",
   "name": "dnabert"
  },
  "language_info": {
   "codemirror_mode": {
    "name": "ipython",
    "version": 3
   },
   "file_extension": ".py",
   "mimetype": "text/x-python",
   "name": "python",
   "nbconvert_exporter": "python",
   "pygments_lexer": "ipython3",
   "version": "3.6.12"
  }
 },
 "nbformat": 4,
 "nbformat_minor": 2
}
