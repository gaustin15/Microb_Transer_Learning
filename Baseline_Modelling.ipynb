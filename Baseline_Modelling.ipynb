{
 "cells": [
  {
   "cell_type": "code",
   "execution_count": 1,
   "metadata": {},
   "outputs": [],
   "source": [
    "import pandas as pd\n",
    "import numpy as np\n",
    "import os"
   ]
  },
  {
   "cell_type": "markdown",
   "metadata": {},
   "source": [
    "## Creating the Dataloader"
   ]
  },
  {
   "cell_type": "code",
   "execution_count": 2,
   "metadata": {
    "scrolled": true
   },
   "outputs": [],
   "source": [
    "dfs = []\n",
    "ys = []\n",
    "for file in os.listdir('data/abundance/'):\n",
    "    df = pd.read_csv('data/abundance/' + file, sep = '\\t') \n",
    "#     y = pd.read_csv('data/marker/' + 'marker' + '_' + file.split('_')[1] , sep = '\\t').head(5)\n",
    "    \n",
    "    df.index = df.dataset_name\n",
    "    dfs.append(df.T.drop('dataset_name') )\n",
    "    \n",
    "#     y.index = y.dataset_name\n",
    "#     ys.append(y.T.drop('dataset_name'))\n",
    "    \n",
    "    \n",
    "dfs[3].loc[dfs[3].disease=='leaness', 'disease']='n'"
   ]
  },
  {
   "cell_type": "code",
   "execution_count": null,
   "metadata": {},
   "outputs": [],
   "source": []
  },
  {
   "cell_type": "code",
   "execution_count": 3,
   "metadata": {},
   "outputs": [
    {
     "name": "stdout",
     "output_type": "stream",
     "text": [
      "marker_Cirrhosis.txt  marker_IBD.txt        marker_T2D.txt\r\n",
      "marker_Colorectal.txt marker_Obesity.txt    marker_WT2D.txt\r\n"
     ]
    }
   ],
   "source": [
    "!ls data/marker"
   ]
  },
  {
   "cell_type": "code",
   "execution_count": 4,
   "metadata": {},
   "outputs": [
    {
     "name": "stderr",
     "output_type": "stream",
     "text": [
      "/Users/george/anaconda2/envs/dnabert/lib/python3.6/site-packages/IPython/core/interactiveshell.py:3072: DtypeWarning: Columns (1,2,3,4,5,6,7,8,9,10,11,12,13,14,15,16,17,18,19,20,21,22,23,24,25,26,27,28,29,30,31,32,33,34,35,36,37,38,39,40,41,42,43,44,45,46,47,48,49,50,51,52,53,54,55,56,57,58,59,60,61,62,63,64,65,66,67,68,69,70,71,72,73,74,75,76,77,78,79,80,81,82,83,84,85,86,87,88,89,90,91,92,93,94,95,96,97,98,99,100,101,102,103,104,105,106,107,108,109,110,111,112,113,114,115,116,117,118,119,120,121) have mixed types.Specify dtype option on import or set low_memory=False.\n",
      "  interactivity=interactivity, compiler=compiler, result=result)\n"
     ]
    }
   ],
   "source": [
    "test = pd.read_csv('data/marker/marker_Colorectal.txt', sep = '\\t')\n",
    "test.index = test.dataset_name\n",
    "test = test.T.drop('dataset_name')"
   ]
  },
  {
   "cell_type": "code",
   "execution_count": null,
   "metadata": {},
   "outputs": [],
   "source": []
  },
  {
   "cell_type": "code",
   "execution_count": 5,
   "metadata": {},
   "outputs": [
    {
     "data": {
      "text/plain": [
       "Index(['gi|104773257|ref|NC_008054.1|:116729-117526',\n",
       "       'gi|104773257|ref|NC_008054.1|:1737697-1738332',\n",
       "       'gi|104773257|ref|NC_008054.1|:266275-267207',\n",
       "       'gi|104773257|ref|NC_008054.1|:294312-294563',\n",
       "       'gi|104773257|ref|NC_008054.1|:444407-444904',\n",
       "       'gi|104773257|ref|NC_008054.1|:54492-55274',\n",
       "       'gi|104773257|ref|NC_008054.1|:794401-794844',\n",
       "       'gi|104773257|ref|NC_008054.1|:c1060211-1059462',\n",
       "       'gi|104773257|ref|NC_008054.1|:c1169983-1168085',\n",
       "       'gi|104773257|ref|NC_008054.1|:c1327487-1326282',\n",
       "       ...\n",
       "       'gi|62425186|ref|NZ_AAGP01000009.1|:99890-100180',\n",
       "       'gi|62425382|ref|NZ_AAGP01000007.1|:c1202-885',\n",
       "       'gi|62425382|ref|NZ_AAGP01000007.1|:c33801-33373',\n",
       "       'gi|62425382|ref|NZ_AAGP01000007.1|:c34305-33829',\n",
       "       'gi|62425604|ref|NZ_AAGP01000005.1|:60113-60766',\n",
       "       'gi|62425604|ref|NZ_AAGP01000005.1|:97318-98013',\n",
       "       'gi|62425739|ref|NZ_AAGP01000004.1|:59838-60017',\n",
       "       'gi|62425898|ref|NZ_AAGP01000003.1|:c34741-34619',\n",
       "       'gi|62426048|ref|NZ_AAGP01000002.1|:c74491-73856',\n",
       "       'gi|89892746|ref|NC_007907.1|:41100-41594'],\n",
       "      dtype='object', name='dataset_name', length=108034)"
      ]
     },
     "execution_count": 5,
     "metadata": {},
     "output_type": "execute_result"
    }
   ],
   "source": [
    "test.columns[test.columns.str.contains('gi[|]')]"
   ]
  },
  {
   "cell_type": "code",
   "execution_count": 6,
   "metadata": {},
   "outputs": [
    {
     "data": {
      "text/plain": [
       "(121, 108244)"
      ]
     },
     "execution_count": 6,
     "metadata": {},
     "output_type": "execute_result"
    }
   ],
   "source": [
    "test.shape"
   ]
  },
  {
   "cell_type": "code",
   "execution_count": 7,
   "metadata": {},
   "outputs": [
    {
     "data": {
      "text/plain": [
       "[cirrhosis    118\n",
       " n            114\n",
       " Name: disease, dtype: int64,\n",
       " t2d    53\n",
       " n      43\n",
       " Name: disease, dtype: int64,\n",
       " cancer           48\n",
       " n                47\n",
       " small_adenoma    26\n",
       " Name: disease, dtype: int64,\n",
       " obesity    164\n",
       " n           89\n",
       " Name: disease, dtype: int64,\n",
       " n                         85\n",
       " ibd_ulcerative_colitis    21\n",
       " ibd_crohn_disease          4\n",
       " Name: disease, dtype: int64,\n",
       " n      174\n",
       " t2d    170\n",
       " Name: disease, dtype: int64]"
      ]
     },
     "execution_count": 7,
     "metadata": {},
     "output_type": "execute_result"
    }
   ],
   "source": [
    "[df.disease.value_counts() for df in dfs]"
   ]
  },
  {
   "cell_type": "code",
   "execution_count": 8,
   "metadata": {},
   "outputs": [],
   "source": [
    "import torch\n",
    "from torch.utils.data import Dataset, DataLoader\n",
    "import torch.nn as nn"
   ]
  },
  {
   "cell_type": "code",
   "execution_count": 9,
   "metadata": {},
   "outputs": [
    {
     "data": {
      "text/plain": [
       "[None, None, None, None, None, None]"
      ]
     },
     "execution_count": 9,
     "metadata": {},
     "output_type": "execute_result"
    }
   ],
   "source": [
    "cols = []\n",
    "[cols.append( df.columns[df.columns.str.contains('k__')] ) for df in dfs]"
   ]
  },
  {
   "cell_type": "code",
   "execution_count": 258,
   "metadata": {},
   "outputs": [],
   "source": [
    "Dataset()\n",
    "\n",
    "class MicroDataset(Dataset):\n",
    "    \"\"\"Dataset class for column dataset.\n",
    "    Args:\n",
    "       cats (list of str): List of the name of columns contain\n",
    "                           categorical variables.\n",
    "       conts (list of str): List of the name of columns which \n",
    "                           contain continuous variables.\n",
    "       y (Tensor, optional): Target variables.\n",
    "       is_reg (bool): If the task is regression, set ``True``, \n",
    "                      otherwise (classification) ``False``.\n",
    "       is_multi (bool): If the task is multi-label classification, \n",
    "                        set ``True``.\n",
    "    \"\"\"\n",
    "    def __init__(self, df, is_marker = False):\n",
    "        df = df.sample(frac=1)\n",
    "        if not is_marker:\n",
    "            self.taxa_cols = df.columns[df.columns.str.contains('k__')] \n",
    "        else:\n",
    "            self.taxa_cols = df.columns[df.columns.str.contains('gi[|]')] \n",
    "        self.matrix = torch.Tensor( df[self.taxa_cols].astype(float).values ).float()\n",
    "        self.y = torch.Tensor(df.disease != 'n' ).long()\n",
    "        \n",
    "        self.n_samples, self.n_taxa= self.matrix.shape\n",
    "        \n",
    "    def __len__(self): return len(self.y)\n",
    "    def __getitem__(self, idx):\n",
    "        return [self.matrix[idx], self.y[idx]]"
   ]
  },
  {
   "cell_type": "code",
   "execution_count": 11,
   "metadata": {},
   "outputs": [],
   "source": [
    "dataset = MicroDataset(dfs[0])\n",
    "loader = DataLoader(dataset, batch_size = 50, shuffle = True)"
   ]
  },
  {
   "cell_type": "code",
   "execution_count": 12,
   "metadata": {},
   "outputs": [],
   "source": [
    "def make_split(df, perc = .8):\n",
    "    df = df.sample(frac = 1)\n",
    "    neg_samps = df.loc[df.disease == 'n']\n",
    "    pos_samps = df.loc[df.disease != 'n']\n",
    "    \n",
    "    neg_idx = round( neg_samps.shape[0] * perc )\n",
    "    pos_idx = round( pos_samps.shape[0] * perc )\n",
    "    \n",
    "    train = pd.concat( [neg_samps.iloc[:neg_idx], \n",
    "                       pos_samps.iloc[:pos_idx] ], axis = 0 )\n",
    "    \n",
    "    valid = pd.concat( [neg_samps.iloc[neg_idx:], \n",
    "                       pos_samps.iloc[pos_idx:] ], axis = 0 )\n",
    "    \n",
    "    return(train, valid)"
   ]
  },
  {
   "cell_type": "markdown",
   "metadata": {},
   "source": [
    "## creating the baseline models"
   ]
  },
  {
   "cell_type": "code",
   "execution_count": 13,
   "metadata": {},
   "outputs": [
    {
     "data": {
      "text/plain": [
       "542"
      ]
     },
     "execution_count": 13,
     "metadata": {},
     "output_type": "execute_result"
    }
   ],
   "source": [
    "dataset.n_taxa"
   ]
  },
  {
   "cell_type": "code",
   "execution_count": 14,
   "metadata": {},
   "outputs": [],
   "source": [
    "class FFNN(torch.nn.Module):\n",
    "    def __init__(self, \n",
    "                 dataset, \n",
    "                 layer_sizes = [128, 64, 32], \n",
    "                dropout = .2):\n",
    "        super(FFNN, self).__init__()\n",
    "        \n",
    "        linear_layers = [ nn.Linear( dataset.n_taxa, layer_sizes[0]), \n",
    "                          nn.BatchNorm1d(layer_sizes[0]), \n",
    "                          nn.Dropout(dropout), \n",
    "                          nn.GELU()]\n",
    "        \n",
    "        for i in range(len(layer_sizes)-1):\n",
    "            linear_layers += [ nn.Linear(layer_sizes[i], layer_sizes[i+1]), \n",
    "                               nn.BatchNorm1d(layer_sizes[i+1]), \n",
    "                               nn.Dropout(dropout), \n",
    "                               nn.GELU()]\n",
    "            \n",
    "        linear_layers += [ nn.Linear(layer_sizes[-1], 2), \n",
    "                           nn.Softmax() ]\n",
    "        \n",
    "        self.linear_net = nn.Sequential(*linear_layers)\n",
    "        \n",
    "    def forward(self, x):\n",
    "        out = self.linear_net(x.float())\n",
    "        return(out)\n",
    "    \n",
    "    \n",
    "    \n",
    "    \n",
    "class SAE(torch.nn.Module):\n",
    "    \"\"\"\n",
    "    The shallow autoencoder\n",
    "    \"\"\"\n",
    "    def __init__(self, \n",
    "                 dataset, \n",
    "                 layer_dim = 64, \n",
    "                 dropout = .2):\n",
    "        super(SAE, self).__init__()\n",
    "        self.encoder = nn.Sequential(*[nn.Linear(dataset.n_taxa, layer_dim), nn.ReLU()])\n",
    "        self.decoder = nn.Sequential(*[nn.Linear(layer_dim, dataset.n_taxa), nn.ReLU(), nn.Softmax()])\n",
    "        \n",
    "    def forward(self, x):\n",
    "        out = self.decoder( self.encoder(x) )\n",
    "        return(out)\n",
    "    \n",
    "    def encode(self, x):\n",
    "        return( self.encoder(x) )"
   ]
  },
  {
   "cell_type": "code",
   "execution_count": 18,
   "metadata": {},
   "outputs": [],
   "source": [
    "model = FFNN(dataset)"
   ]
  },
  {
   "cell_type": "code",
   "execution_count": 19,
   "metadata": {},
   "outputs": [],
   "source": [
    "import pytorch_lightning as pl\n",
    "import torch.nn.functional as F"
   ]
  },
  {
   "cell_type": "code",
   "execution_count": 20,
   "metadata": {},
   "outputs": [],
   "source": [
    "def to_categorical(y, num_classes):\n",
    "    \"\"\" 1-hot encodes a tensor \"\"\"\n",
    "    return torch.Tensor( np.eye(num_classes, dtype='uint8')[y] )"
   ]
  },
  {
   "cell_type": "code",
   "execution_count": 21,
   "metadata": {},
   "outputs": [],
   "source": [
    "class LitClassifier(pl.LightningModule):\n",
    "    def __init__(self, \n",
    "                 train_df,\n",
    "                 valid_df, \n",
    "                 layer_sizes = [128, 64, 32],\n",
    "                 dropout = .2,\n",
    "                 learning_rate=1e-3):\n",
    "        super().__init__()\n",
    "        \n",
    "        self.train_dataset = MicroDataset(train_df)\n",
    "        self.valid_dataset = MicroDataset(valid_df)\n",
    "        #self.test_dataset = MicroDataset(test_df)\n",
    "        \n",
    "        \n",
    "        self.train_loader = DataLoader(self.train_dataset, batch_size = 50, shuffle = True)\n",
    "        self.valid_loader = DataLoader(self.valid_dataset, batch_size = 50, shuffle = False)\n",
    "        #test_dataloader = DataLoader(self.test_dataset, batch_size = 50, shuffle = False)\n",
    "        self.model = FFNN(self.train_dataset, layer_sizes = layer_sizes, dropout = dropout)\n",
    "        self.learning_rate = learning_rate\n",
    "        \n",
    "        \n",
    "    def train_dataloader(self):\n",
    "        return(self.train_loader)\n",
    "    \n",
    "    def valid_dataloader(self):\n",
    "        return(self.valid_loader)\n",
    "    \n",
    "    def forward(self, x):\n",
    "        x = self.model(x)\n",
    "        return x\n",
    "\n",
    "    def split_batch(self, batch):\n",
    "        return batch[0], batch[1]\n",
    "\n",
    "    def training_step(self, batch, batch_idx):\n",
    "        x, y = self.split_batch(batch)\n",
    "        y_hat = self(x)\n",
    "        loss = F.cross_entropy(y_hat, y)\n",
    "        return loss\n",
    "\n",
    "    def validation_step(self, batch, batch_idx):\n",
    "        x, y = self.split_batch(batch)\n",
    "        y_hat = self(x)\n",
    "        loss = F.cross_entropy(y_hat, y)\n",
    "        self.log('val_loss', loss)\n",
    "\n",
    "#     def test_step(self, batch, batch_idx):\n",
    "#         x, y = self.split_batch(batch)\n",
    "#         y_hat = self(x)\n",
    "#         loss = F.cross_entropy(y_hat, y)\n",
    "#         self.log('test_loss', loss)\n",
    "\n",
    "    def configure_optimizers(self):\n",
    "        return torch.optim.Adam(self.parameters(), lr=self.learning_rate)\n",
    "\n",
    "#     @staticmethod\n",
    "#     def add_model_specific_args(parent_parser):\n",
    "#         parser = parent_parser.add_argument_group(\"LitClassifier\")\n",
    "#         parser.add_argument('--hidden_dim', type=int, default=128)\n",
    "#         parser.add_argument('--learning_rate', type=float, default=0.0001)\n",
    "#         return parent_parser\n"
   ]
  },
  {
   "cell_type": "code",
   "execution_count": 139,
   "metadata": {},
   "outputs": [],
   "source": [
    "class LitEncoderDecoder(pl.LightningModule):\n",
    "    def __init__(self, \n",
    "                 train_df,\n",
    "                 valid_df, \n",
    "                 layer_dim = 64,\n",
    "                 dropout = .2,\n",
    "                 learning_rate=1e-3):\n",
    "        super().__init__()\n",
    "        \n",
    "        self.train_dataset = MicroDataset(train_df)\n",
    "        self.valid_dataset = MicroDataset(valid_df)\n",
    "        #self.test_dataset = MicroDataset(test_df)\n",
    "        \n",
    "        \n",
    "        self.train_loader = DataLoader(self.train_dataset, batch_size = 50, shuffle = True)\n",
    "        self.valid_loader = DataLoader(self.valid_dataset, batch_size = 50, shuffle = False)\n",
    "        #test_dataloader = DataLoader(self.test_dataset, batch_size = 50, shuffle = False)\n",
    "        self.model = SAE(self.train_dataset, layer_dim = layer_dim, dropout = dropout)\n",
    "        self.learning_rate = learning_rate\n",
    "        \n",
    "        # they use MSE for reconstruction loss\n",
    "        self.loss_func = nn.MSELoss()\n",
    "        self.log('val_loss', 10)\n",
    "        \n",
    "        \n",
    "    def train_dataloader(self):\n",
    "        return(self.train_loader)\n",
    "    \n",
    "    def valid_dataloader(self):\n",
    "        return(self.valid_loader)\n",
    "    \n",
    "    def forward(self, x):\n",
    "        x = self.model(x)\n",
    "        return x\n",
    "\n",
    "    def split_batch(self, batch):\n",
    "        return batch[0], batch[1]\n",
    "\n",
    "    def training_step(self, batch, batch_idx):\n",
    "        x, y = self.split_batch(batch)\n",
    "        y_hat = self(x)\n",
    "        loss = self.loss_func(y_hat, x)\n",
    "        return loss\n",
    "\n",
    "    def validation_step(self, batch, batch_idx):\n",
    "        x, y = self.split_batch(batch)\n",
    "        y_hat = self(x)\n",
    "        loss = self.loss_func(y_hat, x)\n",
    "        self.log('val_loss', loss)\n",
    "\n",
    "#     def test_step(self, batch, batch_idx):\n",
    "#         x, y = self.split_batch(batch)\n",
    "#         y_hat = self(x)\n",
    "#         loss = F.cross_entropy(y_hat, y)\n",
    "#         self.log('test_loss', loss)\n",
    "\n",
    "    def configure_optimizers(self):\n",
    "        return torch.optim.Adam(self.parameters(), lr=self.learning_rate)\n",
    "\n"
   ]
  },
  {
   "cell_type": "markdown",
   "metadata": {},
   "source": [
    "## running initial test"
   ]
  },
  {
   "cell_type": "code",
   "execution_count": 23,
   "metadata": {},
   "outputs": [],
   "source": [
    "train_df, valid_df = make_split(dfs[0])"
   ]
  },
  {
   "cell_type": "code",
   "execution_count": 24,
   "metadata": {
    "scrolled": true
   },
   "outputs": [],
   "source": [
    "# lightning = LitClassifier(train_df, \n",
    "#                           valid_df, \n",
    "#                           layer_sizes = [200], learning_rate = 1e-5)\n",
    "\n",
    "# they report that cirhossis SAE did best with layer dim of 32, learning rate .001\n",
    "lightning = LitEncoderDecoder(train_df, \n",
    "                          valid_df, \n",
    "                          layer_dim = 32, learning_rate = .001)"
   ]
  },
  {
   "cell_type": "code",
   "execution_count": 25,
   "metadata": {
    "scrolled": true
   },
   "outputs": [
    {
     "name": "stderr",
     "output_type": "stream",
     "text": [
      "GPU available: False, used: False\n",
      "TPU available: None, using: 0 TPU cores\n",
      "/Users/george/anaconda2/envs/dnabert/lib/python3.6/site-packages/pytorch_lightning/utilities/distributed.py:51: UserWarning: you defined a validation_step but have no val_dataloader. Skipping validation loop\n",
      "  warnings.warn(*args, **kwargs)\n",
      "\n",
      "  | Name      | Type    | Params\n",
      "--------------------------------------\n",
      "0 | model     | SAE     | 35.3 K\n",
      "1 | loss_func | MSELoss | 0     \n",
      "--------------------------------------\n",
      "35.3 K    Trainable params\n",
      "0         Non-trainable params\n",
      "35.3 K    Total params\n",
      "0.141     Total estimated model params size (MB)\n"
     ]
    },
    {
     "name": "stdout",
     "output_type": "stream",
     "text": [
      "Epoch 7:  25%|██▌       | 1/4 [00:00<00:00, 163.29it/s, loss=2.63, v_num=20]"
     ]
    },
    {
     "name": "stderr",
     "output_type": "stream",
     "text": [
      "/Users/george/anaconda2/envs/dnabert/lib/python3.6/site-packages/pytorch_lightning/utilities/distributed.py:51: UserWarning: The dataloader, train dataloader, does not have many workers which may be a bottleneck. Consider increasing the value of the `num_workers` argument` (try 8 which is the number of cpus on this machine) in the `DataLoader` init to improve performance.\n",
      "  warnings.warn(*args, **kwargs)\n",
      "/Users/george/anaconda2/envs/dnabert/lib/python3.6/site-packages/torch/nn/modules/container.py:117: UserWarning: Implicit dimension choice for softmax has been deprecated. Change the call to include dim=X as an argument.\n",
      "  input = module(input)\n"
     ]
    },
    {
     "name": "stdout",
     "output_type": "stream",
     "text": [
      "Epoch 199: 100%|██████████| 4/4 [00:00<00:00, 130.54it/s, loss=2.53, v_num=20]\n"
     ]
    },
    {
     "data": {
      "text/plain": [
       "1"
      ]
     },
     "execution_count": 25,
     "metadata": {},
     "output_type": "execute_result"
    }
   ],
   "source": [
    "trainer = pl.Trainer(max_epochs = 200,\n",
    "                     check_val_every_n_epoch=10 )\n",
    "\n",
    "trainer.fit(lightning)"
   ]
  },
  {
   "cell_type": "code",
   "execution_count": null,
   "metadata": {
    "scrolled": true
   },
   "outputs": [],
   "source": []
  },
  {
   "cell_type": "code",
   "execution_count": 26,
   "metadata": {},
   "outputs": [],
   "source": [
    "for batch in lightning.train_loader:\n",
    "    break"
   ]
  },
  {
   "cell_type": "code",
   "execution_count": 27,
   "metadata": {
    "scrolled": true
   },
   "outputs": [
    {
     "data": {
      "text/plain": [
       "torch.Size([50, 542])"
      ]
     },
     "execution_count": 27,
     "metadata": {},
     "output_type": "execute_result"
    }
   ],
   "source": [
    "batch[0].shape"
   ]
  },
  {
   "cell_type": "code",
   "execution_count": 29,
   "metadata": {},
   "outputs": [],
   "source": [
    "import matplotlib.pyplot as plt"
   ]
  },
  {
   "cell_type": "code",
   "execution_count": 30,
   "metadata": {},
   "outputs": [
    {
     "data": {
      "text/plain": [
       "[<matplotlib.lines.Line2D at 0x13781cb00>]"
      ]
     },
     "execution_count": 30,
     "metadata": {},
     "output_type": "execute_result"
    },
    {
     "data": {
      "image/png": "[encoded data removed]",
      "text/plain": [
       "<Figure size 432x288 with 1 Axes>"
      ]
     },
     "metadata": {
      "needs_background": "light"
     },
     "output_type": "display_data"
    }
   ],
   "source": [
    "plt.plot( batch[0][0] )"
   ]
  },
  {
   "cell_type": "code",
   "execution_count": 31,
   "metadata": {},
   "outputs": [
    {
     "name": "stderr",
     "output_type": "stream",
     "text": [
      "/Users/george/anaconda2/envs/dnabert/lib/python3.6/site-packages/torch/nn/modules/container.py:117: UserWarning: Implicit dimension choice for softmax has been deprecated. Change the call to include dim=X as an argument.\n",
      "  input = module(input)\n"
     ]
    },
    {
     "data": {
      "text/plain": [
       "[<matplotlib.lines.Line2D at 0x137928e80>]"
      ]
     },
     "execution_count": 31,
     "metadata": {},
     "output_type": "execute_result"
    },
    {
     "data": {
      "image/png": "[encoded data removed]",
      "text/plain": [
       "<Figure size 432x288 with 1 Axes>"
      ]
     },
     "metadata": {
      "needs_background": "light"
     },
     "output_type": "display_data"
    }
   ],
   "source": [
    "plt.plot( lightning(batch[0]).detach().numpy()[0] )"
   ]
  },
  {
   "cell_type": "code",
   "execution_count": 104,
   "metadata": {},
   "outputs": [],
   "source": [
    "from sklearn.ensemble import RandomForestClassifier\n",
    "from sklearn.svm import SVC\n",
    "from sklearn.metrics import roc_curve\n",
    "from sklearn.metrics import auc"
   ]
  },
  {
   "cell_type": "code",
   "execution_count": 33,
   "metadata": {},
   "outputs": [],
   "source": [
    "def run_training(train_df,\n",
    "                y,\n",
    "                n_folds = 5, \n",
    "                model = RandomForestClassifier(), \n",
    "                shuffle = True):\n",
    "\n",
    "        #split the positive/negative samples so we can have evenly distributed folds\n",
    "        t1, t2 = train_df[y==0], train_df[y==1]\n",
    "\n",
    "        if shuffle:\n",
    "            np.random.shuffle(t1), np.random.shuffle(t2)\n",
    "\n",
    "        t1_folds = np.linspace(0, t1.shape[0], n_folds+1, dtype = np.int64)\n",
    "        t1_folds = [ (t1_folds[i], t1_folds[i+1]) for i in range(n_folds) ]\n",
    "\n",
    "        t2_folds = np.linspace(0, t2.shape[0], n_folds+1, dtype = np.int64)\n",
    "        t2_folds = [ (t2_folds[i], t2_folds[i+1]) for i in range(n_folds) ]\n",
    "\n",
    "\n",
    "        all_trues = list()\n",
    "        all_preds = list()\n",
    "\n",
    "        t1_split = [t1[a[0]:a[1]] for a in t1_folds]\n",
    "        t2_split = [t2[a[0]:a[1]] for a in t2_folds]\n",
    "\n",
    "        for i in range(n_folds):\n",
    "\n",
    "            t1_train = np.vstack( [x for j,x in enumerate(t1_split) if j!=i] )\n",
    "            t2_train = np.vstack( [x for j,x in enumerate(t2_split) if j!=i] )\n",
    "\n",
    "            t1_test = t1_split[i]\n",
    "            t2_test = t2_split[i]\n",
    "\n",
    "            train_labels = np.hstack((np.zeros(t1_train.shape[0]),\n",
    "                       np.ones(t2_train.shape[0]) ) )\n",
    "\n",
    "            test_labels = np.hstack((np.zeros(t1_test.shape[0]),\n",
    "                       np.ones(t2_test.shape[0]) ) )\n",
    "\n",
    "            full_train = np.vstack((t1_train, t2_train))\n",
    "            full_test = np.vstack((t1_test, t2_test))\n",
    "\n",
    "            rf = model#RandomForestClassifier()\n",
    "            rf.fit(full_train, train_labels)\n",
    "\n",
    "            all_trues.append( test_labels )\n",
    "            all_preds.append( rf.predict_proba(full_test) )\n",
    "\n",
    "        y = np.hstack(all_trues)\n",
    "        y_hat = np.vstack(all_preds)[:, 1]\n",
    "\n",
    "        return(roc_curve(y, y_hat), rf)"
   ]
  },
  {
   "cell_type": "code",
   "execution_count": 34,
   "metadata": {},
   "outputs": [],
   "source": [
    "DDD = MicroDataset(train_df)"
   ]
  },
  {
   "cell_type": "code",
   "execution_count": 35,
   "metadata": {},
   "outputs": [],
   "source": [
    "#roc, model = run_training(lightning.model.encode(DDD.matrix).detach().numpy(), DDD.y.detach().numpy() )\n",
    "roc, model = run_training(DDD.matrix.detach().numpy(), DDD.y.detach().numpy() )"
   ]
  },
  {
   "cell_type": "code",
   "execution_count": 36,
   "metadata": {},
   "outputs": [
    {
     "data": {
      "text/plain": [
       "0.9448795884966098"
      ]
     },
     "execution_count": 36,
     "metadata": {},
     "output_type": "execute_result"
    }
   ],
   "source": [
    "auc(roc[0], roc[1])\n",
    "\n"
   ]
  },
  {
   "cell_type": "code",
   "execution_count": 41,
   "metadata": {
    "scrolled": true
   },
   "outputs": [],
   "source": [
    "# test_preds = model.predict_proba( lightning.model.encode(lightning.valid_dataset.matrix).detach().numpy() )\n",
    "# da_roc = roc_curve(lightning.valid_dataset.y.detach().numpy(), test_preds[:, 1])\n",
    "# auc(da_roc[0],da_roc[1])"
   ]
  },
  {
   "cell_type": "code",
   "execution_count": 42,
   "metadata": {},
   "outputs": [
    {
     "data": {
      "text/plain": [
       "0.9230072463768115"
      ]
     },
     "execution_count": 42,
     "metadata": {},
     "output_type": "execute_result"
    }
   ],
   "source": [
    "test_preds = model.predict_proba( lightning.valid_dataset.matrix.detach().numpy() )\n",
    "da_roc = roc_curve(lightning.valid_dataset.y.detach().numpy(), test_preds[:, 1])\n",
    "auc(da_roc[0],da_roc[1])"
   ]
  },
  {
   "cell_type": "markdown",
   "metadata": {},
   "source": [
    "I didn't do their exact training/validation/testing scheme here. but this test result is better than what they showed for Cirrhosis + SAE + either RF or SVM... still worse than just straight up RF though.... I guess these preliminary results are consistent with what they're showing"
   ]
  },
  {
   "cell_type": "code",
   "execution_count": 43,
   "metadata": {},
   "outputs": [],
   "source": [
    "from sklearn.decomposition import PCA\n",
    "import matplotlib.pyplot as plt\n",
    "import seaborn as sns"
   ]
  },
  {
   "cell_type": "code",
   "execution_count": 44,
   "metadata": {},
   "outputs": [
    {
     "data": {
      "image/png": "[encoded data removed]",
      "text/plain": [
       "<Figure size 720x360 with 1 Axes>"
      ]
     },
     "metadata": {
      "needs_background": "light"
     },
     "output_type": "display_data"
    }
   ],
   "source": [
    "pc = PCA(n_components = 2)\n",
    "plt.figure(figsize = (10,5))\n",
    "x = pc.fit_transform( lightning.train_dataset.matrix.detach().numpy() )\n",
    "sns.scatterplot(x = x[:, 0], y = x[:, 1], hue = lightning.train_dataset.y.detach().numpy(), alpha = 0.5)#.str.upper().str.strip())\n",
    "plt.title('PCA of OG Cirrhosis Data')\n",
    "plt.xlabel('PC1')\n",
    "plt.ylabel('PC2')\n",
    "#plt.xlim([-0.025, 0.001])\n",
    "plt.show()"
   ]
  },
  {
   "cell_type": "code",
   "execution_count": 46,
   "metadata": {},
   "outputs": [
    {
     "data": {
      "image/png": "[encoded data removed]",
      "text/plain": [
       "<Figure size 720x360 with 1 Axes>"
      ]
     },
     "metadata": {
      "needs_background": "light"
     },
     "output_type": "display_data"
    }
   ],
   "source": [
    "pc = PCA(n_components = 2)\n",
    "plt.figure(figsize = (10,5))\n",
    "x = pc.fit_transform( lightning.model.encode(lightning.train_dataset.matrix).detach().numpy() )\n",
    "sns.scatterplot(x = x[:, 0], y = x[:, 1], hue = lightning.train_dataset.y.detach().numpy(), alpha = 0.5)#.str.upper().str.strip())\n",
    "plt.title('PCA Encoded Cirrhosis Data')\n",
    "plt.xlabel('PC1')\n",
    "plt.ylabel('PC2')\n",
    "#plt.xlim([-0.025, 0.001])\n",
    "plt.show()"
   ]
  },
  {
   "cell_type": "code",
   "execution_count": null,
   "metadata": {},
   "outputs": [],
   "source": [
    "# listing out the parameters that need to be tuned\n",
    "layer_size = [32, 64, 128, 256, 512]\n",
    "n_layers = [1,2]\n",
    "classifier_model = ['svm', 'rf']"
   ]
  },
  {
   "cell_type": "code",
   "execution_count": null,
   "metadata": {},
   "outputs": [],
   "source": [
    "# rf tuning\n",
    "n_estimators = [100, 300, 500, 700, 900]\n",
    "min_samples_leaf = [1, 2, 3, 4, 5]\n",
    "criteria = ['Gini impurity', 'information gain']\n",
    "\n",
    "#svm tuning\n",
    "C = [np.power(2., a) for a in [-5, -3, -1, 1, 3, 5]]\n",
    "rbf_coef = [np.power(2., a) for a in [-15, -13, -11, -9, -7, -5, -3, -1, 2, 23]]"
   ]
  },
  {
   "cell_type": "code",
   "execution_count": null,
   "metadata": {},
   "outputs": [],
   "source": [
    "# need 2 layers of tuning... rather"
   ]
  },
  {
   "cell_type": "code",
   "execution_count": 135,
   "metadata": {},
   "outputs": [],
   "source": [
    "from pytorch_lightning.callbacks.early_stopping import EarlyStopping\n",
    "from pytorch_lightning.callbacks import ModelCheckpoint\n",
    "from pytorch_lightning.loggers import TestTubeLogger"
   ]
  },
  {
   "cell_type": "code",
   "execution_count": 136,
   "metadata": {},
   "outputs": [],
   "source": []
  },
  {
   "cell_type": "code",
   "execution_count": 260,
   "metadata": {},
   "outputs": [],
   "source": [
    "class LitEncoderDecoder(pl.LightningModule):\n",
    "    def __init__(self, \n",
    "                 train_df,\n",
    "                 valid_df, \n",
    "                 layer_dim = 64,\n",
    "                 dropout = .2,\n",
    "                 learning_rate=1e-3, \n",
    "                 batch_size=50, \n",
    "                 is_marker=False):\n",
    "        super().__init__()\n",
    "        \n",
    "        self.train_dataset = MicroDataset(train_df, is_marker=is_marker)\n",
    "        self.valid_dataset = MicroDataset(valid_df, is_marker=is_marker)\n",
    "        #self.test_dataset = MicroDataset(test_df)\n",
    "        \n",
    "        \n",
    "        self.train_loader = DataLoader(self.train_dataset, batch_size = batch_size, shuffle = True)\n",
    "        self.valid_loader = DataLoader(self.valid_dataset, batch_size = batch_size, shuffle = False)\n",
    "        #test_dataloader = DataLoader(self.test_dataset, batch_size = 50, shuffle = False)\n",
    "        self.model = SAE(self.train_dataset, layer_dim = layer_dim, dropout = dropout)\n",
    "        self.learning_rate = learning_rate\n",
    "        \n",
    "        # they use MSE for reconstruction loss\n",
    "        self.loss_func = nn.MSELoss()\n",
    "        \n",
    "        \n",
    "    def train_dataloader(self):\n",
    "        return(self.train_loader)\n",
    "    \n",
    "    def val_dataloader(self):\n",
    "        return(self.valid_loader)\n",
    "    \n",
    "    def forward(self, x):\n",
    "        x = self.model(x)\n",
    "        return x\n",
    "\n",
    "    def split_batch(self, batch):\n",
    "        return batch[0], batch[1]\n",
    "\n",
    "    def training_step(self, batch, batch_idx):\n",
    "        x, y = self.split_batch(batch)\n",
    "        y_hat = self(x)\n",
    "        loss = self.loss_func(y_hat, x)\n",
    "        return loss\n",
    "\n",
    "    def validation_step(self, batch, batch_idx):\n",
    "        x, y = self.split_batch(batch)\n",
    "        y_hat = self(x)\n",
    "        loss = self.loss_func(y_hat, x)\n",
    "        self.log('val_loss', loss)\n",
    "        return {'val_loss':loss}\n",
    "        \n",
    "#     def validation_epoch_end(self, outputs):\n",
    "#         # OPTIONAL\n",
    "#         avg_loss = torch.stack([x['val_loss'] for x in outputs]).mean()\n",
    "#         print('on val end')\n",
    "#         return {'val_loss': avg_loss}\n",
    "\n",
    "#     def test_step(self, batch, batch_idx):\n",
    "#         x, y = self.split_batch(batch)\n",
    "#         y_hat = self(x)\n",
    "#         loss = F.cross_entropy(y_hat, y)\n",
    "#         self.log('test_loss', loss)\n",
    "\n",
    "    def configure_optimizers(self):\n",
    "        return torch.optim.Adam(self.parameters(), lr=self.learning_rate)\n",
    "\n",
    "\n"
   ]
  },
  {
   "cell_type": "code",
   "execution_count": 179,
   "metadata": {},
   "outputs": [
    {
     "name": "stderr",
     "output_type": "stream",
     "text": [
      "GPU available: False, used: False\n",
      "TPU available: None, using: 0 TPU cores\n"
     ]
    },
    {
     "name": "stdout",
     "output_type": "stream",
     "text": [
      "done!\n"
     ]
    }
   ],
   "source": [
    "lightning = LitEncoderDecoder(train_df, \n",
    "                              valid_df, \n",
    "                              layer_dim = 32, \n",
    "                              learning_rate = .001,\n",
    "                              batch_size=50\n",
    "                              )\n",
    "checkpoint_callback=ModelCheckpoint(\n",
    "                dirpath = 'checkpoint_dir',\n",
    "                save_top_k=1,\n",
    "                verbose=False,\n",
    "                monitor='val_loss',\n",
    "                mode='min'\n",
    "                )\n",
    "\n",
    "tube_logger = TestTubeLogger('checkpoint_dir', \n",
    "                            name='test_tube_logger')\n",
    "\n",
    "trainer = pl.Trainer(max_epochs = 500,\n",
    "                     logger=tube_logger,\n",
    "                     progress_bar_refresh_rate=0,\n",
    "                     weights_summary=None,\n",
    "                     check_val_every_n_epoch=1,\n",
    "                     checkpoint_callback=checkpoint_callback,\n",
    "                    callbacks=[EarlyStopping(monitor='val_loss', \n",
    "                                            patience=20)])\n",
    "\n",
    "trainer.fit(lightning)\n",
    "\n",
    "lightning.load_state_dict(torch.load(checkpoint_callback.best_model_path )['state_dict'])\n",
    "lightning=lightning.eval()\n",
    "print('done!')"
   ]
  },
  {
   "cell_type": "code",
   "execution_count": 146,
   "metadata": {
    "scrolled": true
   },
   "outputs": [
    {
     "data": {
      "text/plain": [
       "'1.2.4'"
      ]
     },
     "execution_count": 146,
     "metadata": {},
     "output_type": "execute_result"
    }
   ],
   "source": [
    "pl.__version__"
   ]
  },
  {
   "cell_type": "code",
   "execution_count": null,
   "metadata": {},
   "outputs": [],
   "source": [
    "# rf tuning\n",
    "n_estimators = [100, 300, 500, 700, 900]\n",
    "min_samples_leaf = [1, 2, 3, 4, 5]\n",
    "criteria = ['Gini impurity', 'information gain']\n",
    "\n",
    "#svm tuning\n",
    "C = [np.power(2., a) for a in [-5, -3, -1, 1, 3, 5]]\n",
    "rbf_coef = [np.power(2., a) for a in [-15, -13, -11, -9, -7, -5, -3, -1, 2, 23]]"
   ]
  },
  {
   "cell_type": "code",
   "execution_count": null,
   "metadata": {},
   "outputs": [],
   "source": []
  },
  {
   "cell_type": "code",
   "execution_count": 129,
   "metadata": {},
   "outputs": [],
   "source": [
    "SAE_parameters = [\n",
    "    {\n",
    "     'name':'layer_size', \n",
    "     'type':'choice', \n",
    "     'values':[32, 64, 128, 256, 512]\n",
    "    },\n",
    "    {\n",
    "    'name':'classifier_model',\n",
    "    'type':'choice',\n",
    "    'values':['svm', 'rf']\n",
    "    }\n",
    "    ]\n",
    "\n",
    "rf_parameters = [\n",
    "      {\n",
    "     'name':'n_estimators', \n",
    "     'type':'choice', \n",
    "     'values':[100, 300, 500, 700, 900]\n",
    "    },\n",
    "         {\n",
    "     'name':'min_samples_leaf', \n",
    "     'type':'choice', \n",
    "     'values':[1, 2, 3, 4, 5]\n",
    "    },\n",
    "         {\n",
    "     'name':'criterion', \n",
    "     'type':'choice', \n",
    "     'values':['gini', 'entropy']\n",
    "    }\n",
    "]\n",
    "\n",
    "svm_parameters = [\n",
    "          {\n",
    "     'name':'C',\n",
    "     'type':'choice', \n",
    "     'values': [-5, -3, -1, 1, 3, 5]#[np.power(2., a).astype(float) for a in [-5, -3, -1, 1, 3, 5]]\n",
    "    },\n",
    "         {\n",
    "     'name':'gamma', \n",
    "     'type':'choice', \n",
    "     'values':[-15, -13, -11, -9, -7, -5, -3, -1, 2, 23]#[np.power(2., a).astype(float) for a in [-15, -13, -11, -9, -7, -5, -3, -1, 2, 23]]\n",
    "    }\n",
    "]"
   ]
  },
  {
   "cell_type": "code",
   "execution_count": 115,
   "metadata": {},
   "outputs": [
    {
     "data": {
      "text/plain": [
       "[0.03125, 0.125, 0.5, 2.0, 8.0, 32.0]"
      ]
     },
     "execution_count": 115,
     "metadata": {},
     "output_type": "execute_result"
    }
   ],
   "source": [
    "[np.power(2., a).astype(float) for a in [-5, -3, -1, 1, 3, 5]]"
   ]
  },
  {
   "cell_type": "code",
   "execution_count": 114,
   "metadata": {},
   "outputs": [
    {
     "data": {
      "text/plain": [
       "[3.0517578125e-05,\n",
       " 0.0001220703125,\n",
       " 0.00048828125,\n",
       " 0.001953125,\n",
       " 0.0078125,\n",
       " 0.03125,\n",
       " 0.125,\n",
       " 0.5,\n",
       " 4.0,\n",
       " 8388608.0]"
      ]
     },
     "execution_count": 114,
     "metadata": {},
     "output_type": "execute_result"
    }
   ],
   "source": [
    "[np.power(2., a).astype(float) for a in [-15, -13, -11, -9, -7, -5, -3, -1, 2, 23]]"
   ]
  },
  {
   "cell_type": "code",
   "execution_count": 95,
   "metadata": {},
   "outputs": [],
   "source": [
    "rf_param = {'n_estimators':400,\n",
    "           'min_samples_leaf':3, \n",
    "           'criterion':'gini'}"
   ]
  },
  {
   "cell_type": "code",
   "execution_count": 51,
   "metadata": {},
   "outputs": [],
   "source": [
    "train_dataset = MicroDataset(train_df)\n",
    "valid_dataset = MicroDataset(valid_df)"
   ]
  },
  {
   "cell_type": "code",
   "execution_count": 64,
   "metadata": {},
   "outputs": [],
   "source": [
    "recombined_df = np.vstack([train_dataset.matrix.detach().numpy(), valid_dataset.matrix.detach().numpy()])"
   ]
  },
  {
   "cell_type": "code",
   "execution_count": 72,
   "metadata": {},
   "outputs": [],
   "source": [
    "recombined_y = np.hstack([train_dataset.y.detach().numpy(),\n",
    "                          valid_dataset.y.detach().numpy()] )"
   ]
  },
  {
   "cell_type": "code",
   "execution_count": null,
   "metadata": {},
   "outputs": [],
   "source": [
    "RandomForestClassifier(rf_param)"
   ]
  },
  {
   "cell_type": "code",
   "execution_count": null,
   "metadata": {},
   "outputs": [],
   "source": [
    "run_training()"
   ]
  },
  {
   "cell_type": "code",
   "execution_count": 74,
   "metadata": {},
   "outputs": [],
   "source": [
    "model = RandomForestClassifier()"
   ]
  },
  {
   "cell_type": "code",
   "execution_count": 85,
   "metadata": {},
   "outputs": [
    {
     "data": {
      "text/plain": [
       "[None, None, None]"
      ]
     },
     "execution_count": 85,
     "metadata": {},
     "output_type": "execute_result"
    }
   ],
   "source": [
    "[ setattr(model, a, q) for a,q in rf_param.items() ]"
   ]
  },
  {
   "cell_type": "code",
   "execution_count": null,
   "metadata": {},
   "outputs": [],
   "source": []
  },
  {
   "cell_type": "code",
   "execution_count": 86,
   "metadata": {},
   "outputs": [
    {
     "data": {
      "text/plain": [
       "'atba'"
      ]
     },
     "execution_count": 86,
     "metadata": {},
     "output_type": "execute_result"
    }
   ],
   "source": [
    "model.criterion"
   ]
  },
  {
   "cell_type": "code",
   "execution_count": 92,
   "metadata": {},
   "outputs": [],
   "source": [
    "X = recombined_df\n",
    "y=recombined_y\n",
    "n_folds=5"
   ]
  },
  {
   "cell_type": "code",
   "execution_count": 96,
   "metadata": {},
   "outputs": [],
   "source": [
    "def evaluation_func(p):\n",
    "    model=RandomForestClassifier()\n",
    "    [setattr(model, a, q) for a,q in p.items()]\n",
    "    roc, model = run_training(X, y, n_folds=n_folds, model=model)\n",
    "    return(auc(roc[0], roc[1]))\n"
   ]
  },
  {
   "cell_type": "code",
   "execution_count": 97,
   "metadata": {},
   "outputs": [
    {
     "data": {
      "text/plain": [
       "0.9471454058876004"
      ]
     },
     "execution_count": 97,
     "metadata": {},
     "output_type": "execute_result"
    }
   ],
   "source": [
    "evaluation_func(rf_param)"
   ]
  },
  {
   "cell_type": "code",
   "execution_count": 128,
   "metadata": {},
   "outputs": [
    {
     "data": {
      "text/plain": [
       "[{'name': 'n_estimators',\n",
       "  'type': 'choice',\n",
       "  'values': [100, 300, 500, 700, 900]},\n",
       " {'name': 'min_samples_leaf', 'type': 'choice', 'values': [1, 2, 3, 4, 5]},\n",
       " {'name': 'criteria', 'type': 'choice', 'criterion': ['gini', 'entropy']}]"
      ]
     },
     "execution_count": 128,
     "metadata": {},
     "output_type": "execute_result"
    }
   ],
   "source": [
    "rf_parameters"
   ]
  },
  {
   "cell_type": "code",
   "execution_count": 201,
   "metadata": {},
   "outputs": [],
   "source": [
    "def rf_eval(X, y, rf_hyperparams, n_folds=5, total_trials=10):\n",
    "    # find the best hyperamas vis k-fold cross-validation\n",
    "    \n",
    "    def evaluation_func(p):\n",
    "        #the function used for the hyperparameter tuning\n",
    "        model=RandomForestClassifier()\n",
    "        [setattr(model, a, q) for a,q in p.items()]\n",
    "        roc, model = run_training(X, y, n_folds=n_folds, model=model)\n",
    "        return(auc(roc[0], roc[1]))\n",
    "    \n",
    "    best_parameters, best_values, experiment, model = optimize(\n",
    "        parameters = rf_hyperparams,\n",
    "        evaluation_function=evaluation_func,\n",
    "        total_trials=total_trials, \n",
    "        minimize=False)\n",
    "    \n",
    "    return(best_parameters)\n",
    "    \n",
    "    \n",
    "def svm_eval(X, y, svm_hyperparams, n_folds=5, total_trials=10):\n",
    "    # find the best hyperamas vis k-fold cross-validation\n",
    "    \n",
    "    def evaluation_func(p):\n",
    "        #the function used for the hyperparameter tuning\n",
    "        model=SVC(probability=True)\n",
    "        [setattr(model, a, np.power(2., q)) for a,q in p.items()]\n",
    "        roc, model = run_training(X, y, n_folds=n_folds, model=model)\n",
    "        return(auc(roc[0], roc[1]))\n",
    "    \n",
    "    best_parameters, best_values, experiment, model = optimize(\n",
    "        parameters = svm_hyperparams,\n",
    "        evaluation_function=evaluation_func, \n",
    "        total_trials = total_trials, \n",
    "        minimize=False)\n",
    "    \n",
    "    return(best_parameters)\n",
    "    "
   ]
  },
  {
   "cell_type": "code",
   "execution_count": null,
   "metadata": {},
   "outputs": [],
   "source": []
  },
  {
   "cell_type": "code",
   "execution_count": 200,
   "metadata": {},
   "outputs": [
    {
     "data": {
      "text/plain": [
       "{'n_estimators': 700, 'min_samples_leaf': 1, 'criterion': 'gini'}"
      ]
     },
     "execution_count": 200,
     "metadata": {},
     "output_type": "execute_result"
    }
   ],
   "source": [
    "best_params"
   ]
  },
  {
   "cell_type": "code",
   "execution_count": 198,
   "metadata": {},
   "outputs": [
    {
     "name": "stderr",
     "output_type": "stream",
     "text": [
      "[INFO 03-27 13:37:27] ax.modelbridge.dispatch_utils: Using Sobol generation strategy.\n",
      "[INFO 03-27 13:37:27] ax.service.managed_loop: Started full optimization with 10 steps.\n",
      "[INFO 03-27 13:37:27] ax.service.managed_loop: Running optimization trial 1...\n",
      "[INFO 03-27 13:37:31] ax.service.managed_loop: Running optimization trial 2...\n"
     ]
    },
    {
     "name": "stdout",
     "output_type": "stream",
     "text": [
      "                                                              \r"
     ]
    },
    {
     "name": "stderr",
     "output_type": "stream",
     "text": [
      "[INFO 03-27 13:37:37] ax.service.managed_loop: Running optimization trial 3...\n",
      "[INFO 03-27 13:37:44] ax.service.managed_loop: Running optimization trial 4...\n",
      "[INFO 03-27 13:37:50] ax.service.managed_loop: Running optimization trial 5...\n",
      "[INFO 03-27 13:37:51] ax.service.managed_loop: Running optimization trial 6...\n",
      "[INFO 03-27 13:37:58] ax.service.managed_loop: Running optimization trial 7...\n",
      "[INFO 03-27 13:37:59] ax.service.managed_loop: Running optimization trial 8...\n",
      "[INFO 03-27 13:38:06] ax.service.managed_loop: Running optimization trial 9...\n",
      "[INFO 03-27 13:38:09] ax.service.managed_loop: Running optimization trial 10...\n"
     ]
    }
   ],
   "source": [
    "best_params, best_rf_model = rf_eval(recombined_df, recombined_y, rf_parameters)"
   ]
  },
  {
   "cell_type": "code",
   "execution_count": 199,
   "metadata": {},
   "outputs": [
    {
     "data": {
      "text/plain": [
       "<ax.modelbridge.random.RandomModelBridge at 0x1a5a80b550>"
      ]
     },
     "execution_count": 199,
     "metadata": {},
     "output_type": "execute_result"
    }
   ],
   "source": [
    "best_rf_model"
   ]
  },
  {
   "cell_type": "code",
   "execution_count": 126,
   "metadata": {},
   "outputs": [
    {
     "name": "stderr",
     "output_type": "stream",
     "text": [
      "[INFO 03-27 12:36:28] ax.modelbridge.dispatch_utils: Using Sobol generation strategy.\n",
      "[INFO 03-27 12:36:28] ax.service.managed_loop: Started full optimization with 10 steps.\n",
      "[INFO 03-27 12:36:28] ax.service.managed_loop: Running optimization trial 1...\n",
      "[INFO 03-27 12:36:28] ax.service.managed_loop: Running optimization trial 2...\n",
      "[INFO 03-27 12:36:29] ax.service.managed_loop: Running optimization trial 3...\n",
      "[INFO 03-27 12:36:29] ax.service.managed_loop: Running optimization trial 4...\n",
      "[INFO 03-27 12:36:30] ax.service.managed_loop: Running optimization trial 5...\n",
      "[INFO 03-27 12:36:31] ax.service.managed_loop: Running optimization trial 6...\n",
      "[INFO 03-27 12:36:32] ax.service.managed_loop: Running optimization trial 7...\n",
      "[INFO 03-27 12:36:32] ax.service.managed_loop: Running optimization trial 8...\n",
      "[INFO 03-27 12:36:33] ax.service.managed_loop: Running optimization trial 9...\n",
      "[INFO 03-27 12:36:34] ax.service.managed_loop: Running optimization trial 10...\n"
     ]
    }
   ],
   "source": [
    "best_params, best_svm_model = svm_eval(recombined_df, recombined_y, svm_parameters)"
   ]
  },
  {
   "cell_type": "code",
   "execution_count": 132,
   "metadata": {},
   "outputs": [
    {
     "data": {
      "text/plain": [
       "<ax.modelbridge.random.RandomModelBridge at 0x1a59cec400>"
      ]
     },
     "execution_count": 132,
     "metadata": {},
     "output_type": "execute_result"
    }
   ],
   "source": [
    "best_svm_model"
   ]
  },
  {
   "cell_type": "code",
   "execution_count": 133,
   "metadata": {},
   "outputs": [
    {
     "data": {
      "text/plain": [
       "{'n_estimators': 900, 'min_samples_leaf': 2, 'criterion': 'entropy'}"
      ]
     },
     "execution_count": 133,
     "metadata": {},
     "output_type": "execute_result"
    }
   ],
   "source": [
    "best_params"
   ]
  },
  {
   "cell_type": "code",
   "execution_count": 102,
   "metadata": {},
   "outputs": [],
   "source": [
    "from ax import optimize"
   ]
  },
  {
   "cell_type": "code",
   "execution_count": null,
   "metadata": {},
   "outputs": [],
   "source": [
    "SAE_parameters = [\n",
    "    {\n",
    "     'name':'layer_size', \n",
    "     'type':'choice', \n",
    "     'values':[32, 64, 128, 256, 512]\n",
    "    },\n",
    "    {\n",
    "    'name':'classifier_model',\n",
    "    'type':'choice',\n",
    "    'values':['svm', 'rf']\n",
    "    }\n",
    "    ]\n",
    "\n"
   ]
  },
  {
   "cell_type": "code",
   "execution_count": 192,
   "metadata": {},
   "outputs": [],
   "source": [
    "sae_params={'layer_size':30, \n",
    "           'classifier_model':'rf'}"
   ]
  },
  {
   "cell_type": "code",
   "execution_count": 267,
   "metadata": {},
   "outputs": [],
   "source": [
    "dataset = markers[0]\n",
    "train_df, test_df = make_split(dataset)\n",
    "train_df, valid_df = make_split(train_df)\n",
    "\n",
    "def SAE_eval(hyperparams):\n",
    "    \"\"\"this function runs a complete train/valid/testing loop\n",
    "        for an SAE model, given the specified hyperparameters, \n",
    "        it returns the AUC on the test set\"\"\"\n",
    "    #Initialize the model\n",
    "    lightning = LitEncoderDecoder(train_df, \n",
    "                                  valid_df, \n",
    "                                  layer_dim = hyperparams['layer_size'], \n",
    "                                  learning_rate = .001,\n",
    "                                  batch_size=50, \n",
    "                                  is_marker=is_marker\n",
    "                                  )\n",
    "    \n",
    "    #setr up the trainer/logger/callbacks\n",
    "    checkpoint_callback=ModelCheckpoint(\n",
    "                    dirpath = 'checkpoint_dir',\n",
    "                    save_top_k=1,\n",
    "                    verbose=False,\n",
    "                    monitor='val_loss',\n",
    "                    mode='min'\n",
    "                    )\n",
    "\n",
    "    tube_logger = TestTubeLogger('checkpoint_dir', \n",
    "                                name='test_tube_logger')\n",
    "\n",
    "    trainer = pl.Trainer(max_epochs = 500,\n",
    "                         logger=tube_logger,\n",
    "                         progress_bar_refresh_rate=0,\n",
    "                         weights_summary=None,\n",
    "                         check_val_every_n_epoch=1,\n",
    "                         checkpoint_callback=checkpoint_callback,\n",
    "                        callbacks=[EarlyStopping(monitor='val_loss', \n",
    "                                                patience=20)]) #the patience of 20 is mentioned in the DeepMicro paper\n",
    "\n",
    "    #run training\n",
    "    trainer.fit(lightning)\n",
    "\n",
    "    #load model from best-performing epoch\n",
    "    lightning.load_state_dict(torch.load(checkpoint_callback.best_model_path )['state_dict'])\n",
    "    #set model to eval()\n",
    "    lightning=lightning.eval()\n",
    "    \n",
    "    #recombine the train/valid datasets for k-fold validation, as descrbed in the paper\n",
    "    X = np.vstack([lightning.model.encode(lightning.train_dataset.matrix).detach().numpy(), \n",
    "                   lightning.model.encode(lightning.valid_dataset.matrix).detach().numpy()])\n",
    "    \n",
    "    y = np.hstack([lightning.train_dataset.y.detach().numpy(),\n",
    "                   lightning.valid_dataset.y.detach().numpy()] )\n",
    "    \n",
    "    #set up classifier model tuning\n",
    "    if hyperparams['classifier_model']=='rf':\n",
    "        eval_model=rf_eval\n",
    "        eval_params = rf_parameters\n",
    "    elif hyperparams['classifier_model']=='svm':\n",
    "        eval_model=svm_eval\n",
    "        eval_params=svm_parameters\n",
    "    \n",
    "    #tune the best classifier model, using 5-fold CV\n",
    "    best_parameters=eval_model(X,y, eval_params)\n",
    "    \n",
    "    # make a classifier with teh best hyperparams\n",
    "    if hyperparams['classifier_model']=='rf':\n",
    "        best_classifier=RandomForestClassifier()\n",
    "        [setattr(model, a, q) for a,q in best_parameters.items()]\n",
    "        \n",
    "    elif hyperparams['classifier_model']=='svm':\n",
    "        best_classifier=SVC(probability=True)\n",
    "        [setattr(best_classifier, a, np.power(2., q)) for a,q in best_parameters.items()]\n",
    "        \n",
    "    # fit it on the full train, valid data\n",
    "    best_classifier.fit(X, y)\n",
    "    \n",
    "    # Get AUC for the full setup on the test set\n",
    "    test_dataset=MicroDataset(test_df, is_marker=is_marker)\n",
    "    test_preds=best_classifier.predict_proba( lightning.model.encode(test_dataset.matrix).detach().numpy() )\n",
    "    test_roc = roc_curve( test_dataset.y.detach().numpy(), test_preds[:,1] )\n",
    "    return(auc(test_roc[0], test_roc[1]) )"
   ]
  },
  {
   "cell_type": "code",
   "execution_count": 216,
   "metadata": {},
   "outputs": [
    {
     "data": {
      "text/plain": [
       "[{'name': 'layer_size', 'type': 'choice', 'values': [32, 64, 128, 256, 512]},\n",
       " {'name': 'classifier_model', 'type': 'choice', 'values': ['svm', 'rf']}]"
      ]
     },
     "execution_count": 216,
     "metadata": {},
     "output_type": "execute_result"
    }
   ],
   "source": [
    "SAE_parameters"
   ]
  },
  {
   "cell_type": "code",
   "execution_count": 222,
   "metadata": {},
   "outputs": [],
   "source": [
    "def tune_SAE(dataset, SAE_parameters, is_marker=False, seed=0,  total_trials=8):\n",
    "    #set a seed so that splits are the same across different model tests\n",
    "    np.random.seed(seed)\n",
    "    #make data splits\n",
    "    train_df, test_df = make_split(dataset)\n",
    "    train_df, valid_df = make_split(train_df)\n",
    "    \n",
    "     \n",
    "    best_parameters, best_values, experiment, model = optimize(\n",
    "        parameters = SAE_parameters,\n",
    "        evaluation_function=SAE_eval, \n",
    "        total_trials = total_trials, \n",
    "        minimize=False)\n",
    "    \n",
    "    data_name=dataset.index[0] \n",
    "    if is_marker==False:\n",
    "        data_type='Abundance'\n",
    "    else:\n",
    "        data_type='Marker'\n",
    "    \n",
    "    return([data_type, data_name, best_parameters, best_values])\n"
   ]
  },
  {
   "cell_type": "code",
   "execution_count": 268,
   "metadata": {},
   "outputs": [
    {
     "name": "stderr",
     "output_type": "stream",
     "text": [
      "[INFO 03-27 15:14:50] ax.modelbridge.dispatch_utils: Using Sobol generation strategy.\n",
      "[INFO 03-27 15:14:50] ax.service.managed_loop: Started full optimization with 8 steps.\n",
      "[INFO 03-27 15:14:50] ax.service.managed_loop: Running optimization trial 1...\n",
      "/Users/george/anaconda2/envs/dnabert/lib/python3.6/site-packages/pytorch_lightning/utilities/distributed.py:51: UserWarning:\n",
      "\n",
      "Checkpoint directory checkpoint_dir exists and is not empty.\n",
      "\n",
      "GPU available: False, used: False\n",
      "TPU available: None, using: 0 TPU cores\n",
      "/Users/george/anaconda2/envs/dnabert/lib/python3.6/site-packages/pytorch_lightning/utilities/distributed.py:51: UserWarning:\n",
      "\n",
      "The dataloader, val dataloader 0, does not have many workers which may be a bottleneck. Consider increasing the value of the `num_workers` argument` (try 8 which is the number of cpus on this machine) in the `DataLoader` init to improve performance.\n",
      "\n",
      "/Users/george/anaconda2/envs/dnabert/lib/python3.6/site-packages/torch/nn/modules/container.py:117: UserWarning:\n",
      "\n",
      "Implicit dimension choice for softmax has been deprecated. Change the call to include dim=X as an argument.\n",
      "\n",
      "/Users/george/anaconda2/envs/dnabert/lib/python3.6/site-packages/pytorch_lightning/utilities/distributed.py:51: UserWarning:\n",
      "\n",
      "The dataloader, train dataloader, does not have many workers which may be a bottleneck. Consider increasing the value of the `num_workers` argument` (try 8 which is the number of cpus on this machine) in the `DataLoader` init to improve performance.\n",
      "\n",
      "[INFO 03-27 15:16:13] ax.modelbridge.dispatch_utils: Using Sobol generation strategy.\n",
      "[INFO 03-27 15:16:13] ax.service.managed_loop: Started full optimization with 10 steps.\n",
      "[INFO 03-27 15:16:13] ax.service.managed_loop: Running optimization trial 1...\n",
      "[INFO 03-27 15:16:17] ax.service.managed_loop: Running optimization trial 2...\n",
      "[INFO 03-27 15:16:23] ax.service.managed_loop: Running optimization trial 3...\n",
      "[INFO 03-27 15:16:25] ax.service.managed_loop: Running optimization trial 4...\n",
      "[INFO 03-27 15:16:27] ax.service.managed_loop: Running optimization trial 5...\n",
      "[INFO 03-27 15:16:34] ax.service.managed_loop: Running optimization trial 6...\n",
      "[INFO 03-27 15:16:34] ax.service.managed_loop: Running optimization trial 7...\n",
      "[INFO 03-27 15:16:39] ax.service.managed_loop: Running optimization trial 8...\n",
      "[INFO 03-27 15:16:40] ax.service.managed_loop: Running optimization trial 9...\n",
      "[INFO 03-27 15:16:41] ax.service.managed_loop: Running optimization trial 10...\n",
      "[INFO 03-27 15:16:45] ax.service.managed_loop: Running optimization trial 2...\n",
      "/Users/george/anaconda2/envs/dnabert/lib/python3.6/site-packages/pytorch_lightning/utilities/distributed.py:51: UserWarning:\n",
      "\n",
      "Checkpoint directory checkpoint_dir exists and is not empty.\n",
      "\n",
      "GPU available: False, used: False\n",
      "TPU available: None, using: 0 TPU cores\n",
      "/Users/george/anaconda2/envs/dnabert/lib/python3.6/site-packages/pytorch_lightning/utilities/distributed.py:51: UserWarning:\n",
      "\n",
      "The dataloader, val dataloader 0, does not have many workers which may be a bottleneck. Consider increasing the value of the `num_workers` argument` (try 8 which is the number of cpus on this machine) in the `DataLoader` init to improve performance.\n",
      "\n",
      "/Users/george/anaconda2/envs/dnabert/lib/python3.6/site-packages/torch/nn/modules/container.py:117: UserWarning:\n",
      "\n",
      "Implicit dimension choice for softmax has been deprecated. Change the call to include dim=X as an argument.\n",
      "\n",
      "/Users/george/anaconda2/envs/dnabert/lib/python3.6/site-packages/pytorch_lightning/utilities/distributed.py:51: UserWarning:\n",
      "\n",
      "The dataloader, train dataloader, does not have many workers which may be a bottleneck. Consider increasing the value of the `num_workers` argument` (try 8 which is the number of cpus on this machine) in the `DataLoader` init to improve performance.\n",
      "\n",
      "/Users/george/anaconda2/envs/dnabert/lib/python3.6/site-packages/pytorch_lightning/utilities/distributed.py:51: UserWarning:\n",
      "\n",
      "Detected KeyboardInterrupt, attempting graceful shutdown...\n",
      "\n",
      "[INFO 03-27 15:17:05] ax.modelbridge.dispatch_utils: Using Sobol generation strategy.\n",
      "[INFO 03-27 15:17:05] ax.service.managed_loop: Started full optimization with 10 steps.\n",
      "[INFO 03-27 15:17:05] ax.service.managed_loop: Running optimization trial 1...\n",
      "[INFO 03-27 15:17:05] ax.service.managed_loop: Running optimization trial 2...\n",
      "[INFO 03-27 15:17:06] ax.service.managed_loop: Running optimization trial 3...\n",
      "[INFO 03-27 15:17:06] ax.service.managed_loop: Running optimization trial 4...\n",
      "[INFO 03-27 15:17:06] ax.service.managed_loop: Running optimization trial 5...\n",
      "[INFO 03-27 15:17:06] ax.service.managed_loop: Running optimization trial 6...\n",
      "[INFO 03-27 15:17:06] ax.service.managed_loop: Running optimization trial 7...\n",
      "[INFO 03-27 15:17:06] ax.service.managed_loop: Running optimization trial 8...\n",
      "[INFO 03-27 15:17:06] ax.service.managed_loop: Running optimization trial 9...\n",
      "[INFO 03-27 15:17:07] ax.service.managed_loop: Running optimization trial 10...\n",
      "[INFO 03-27 15:17:07] ax.service.managed_loop: Running optimization trial 3...\n",
      "/Users/george/anaconda2/envs/dnabert/lib/python3.6/site-packages/pytorch_lightning/utilities/distributed.py:51: UserWarning:\n",
      "\n",
      "Checkpoint directory checkpoint_dir exists and is not empty.\n",
      "\n",
      "GPU available: False, used: False\n",
      "TPU available: None, using: 0 TPU cores\n",
      "/Users/george/anaconda2/envs/dnabert/lib/python3.6/site-packages/pytorch_lightning/utilities/distributed.py:51: UserWarning:\n",
      "\n",
      "The dataloader, val dataloader 0, does not have many workers which may be a bottleneck. Consider increasing the value of the `num_workers` argument` (try 8 which is the number of cpus on this machine) in the `DataLoader` init to improve performance.\n",
      "\n",
      "/Users/george/anaconda2/envs/dnabert/lib/python3.6/site-packages/torch/nn/modules/container.py:117: UserWarning:\n",
      "\n",
      "Implicit dimension choice for softmax has been deprecated. Change the call to include dim=X as an argument.\n",
      "\n",
      "/Users/george/anaconda2/envs/dnabert/lib/python3.6/site-packages/pytorch_lightning/utilities/distributed.py:51: UserWarning:\n",
      "\n",
      "The dataloader, train dataloader, does not have many workers which may be a bottleneck. Consider increasing the value of the `num_workers` argument` (try 8 which is the number of cpus on this machine) in the `DataLoader` init to improve performance.\n",
      "\n",
      "/Users/george/anaconda2/envs/dnabert/lib/python3.6/site-packages/pytorch_lightning/utilities/distributed.py:51: UserWarning:\n",
      "\n",
      "Detected KeyboardInterrupt, attempting graceful shutdown...\n",
      "\n",
      "[INFO 03-27 15:17:15] ax.modelbridge.dispatch_utils: Using Sobol generation strategy.\n",
      "[INFO 03-27 15:17:15] ax.service.managed_loop: Started full optimization with 10 steps.\n",
      "[INFO 03-27 15:17:15] ax.service.managed_loop: Running optimization trial 1...\n",
      "[INFO 03-27 15:17:18] ax.service.managed_loop: Running optimization trial 2...\n",
      "[INFO 03-27 15:17:23] ax.service.managed_loop: Running optimization trial 3...\n",
      "[INFO 03-27 15:17:29] ax.service.managed_loop: Running optimization trial 4...\n",
      "[INFO 03-27 15:17:34] ax.service.managed_loop: Running optimization trial 5...\n",
      "[INFO 03-27 15:17:36] ax.service.managed_loop: Running optimization trial 6...\n",
      "[INFO 03-27 15:17:41] ax.service.managed_loop: Running optimization trial 7...\n",
      "[INFO 03-27 15:17:42] ax.service.managed_loop: Running optimization trial 8...\n",
      "[INFO 03-27 15:17:45] ax.service.managed_loop: Running optimization trial 9...\n",
      "[INFO 03-27 15:17:47] ax.service.managed_loop: Running optimization trial 10...\n",
      "[INFO 03-27 15:17:51] ax.service.managed_loop: Running optimization trial 4...\n",
      "/Users/george/anaconda2/envs/dnabert/lib/python3.6/site-packages/pytorch_lightning/utilities/distributed.py:51: UserWarning:\n",
      "\n",
      "Checkpoint directory checkpoint_dir exists and is not empty.\n",
      "\n",
      "GPU available: False, used: False\n",
      "TPU available: None, using: 0 TPU cores\n",
      "/Users/george/anaconda2/envs/dnabert/lib/python3.6/site-packages/pytorch_lightning/utilities/distributed.py:51: UserWarning:\n",
      "\n",
      "The dataloader, val dataloader 0, does not have many workers which may be a bottleneck. Consider increasing the value of the `num_workers` argument` (try 8 which is the number of cpus on this machine) in the `DataLoader` init to improve performance.\n",
      "\n",
      "/Users/george/anaconda2/envs/dnabert/lib/python3.6/site-packages/torch/nn/modules/container.py:117: UserWarning:\n",
      "\n",
      "Implicit dimension choice for softmax has been deprecated. Change the call to include dim=X as an argument.\n",
      "\n",
      "/Users/george/anaconda2/envs/dnabert/lib/python3.6/site-packages/pytorch_lightning/utilities/distributed.py:51: UserWarning:\n",
      "\n",
      "The dataloader, train dataloader, does not have many workers which may be a bottleneck. Consider increasing the value of the `num_workers` argument` (try 8 which is the number of cpus on this machine) in the `DataLoader` init to improve performance.\n",
      "\n"
     ]
    },
    {
     "name": "stderr",
     "output_type": "stream",
     "text": [
      "[INFO 03-27 15:19:16] ax.modelbridge.dispatch_utils: Using Sobol generation strategy.\n",
      "[INFO 03-27 15:19:16] ax.service.managed_loop: Started full optimization with 10 steps.\n",
      "[INFO 03-27 15:19:16] ax.service.managed_loop: Running optimization trial 1...\n",
      "[INFO 03-27 15:19:17] ax.service.managed_loop: Running optimization trial 2...\n",
      "[INFO 03-27 15:19:17] ax.service.managed_loop: Running optimization trial 3...\n",
      "[INFO 03-27 15:19:17] ax.service.managed_loop: Running optimization trial 4...\n",
      "[INFO 03-27 15:19:17] ax.service.managed_loop: Running optimization trial 5...\n",
      "[INFO 03-27 15:19:17] ax.service.managed_loop: Running optimization trial 6...\n",
      "[INFO 03-27 15:19:17] ax.service.managed_loop: Running optimization trial 7...\n",
      "[INFO 03-27 15:19:17] ax.service.managed_loop: Running optimization trial 8...\n",
      "[INFO 03-27 15:19:17] ax.service.managed_loop: Running optimization trial 9...\n",
      "[INFO 03-27 15:19:17] ax.service.managed_loop: Running optimization trial 10...\n",
      "[INFO 03-27 15:19:17] ax.service.managed_loop: Running optimization trial 5...\n",
      "/Users/george/anaconda2/envs/dnabert/lib/python3.6/site-packages/pytorch_lightning/utilities/distributed.py:51: UserWarning:\n",
      "\n",
      "Checkpoint directory checkpoint_dir exists and is not empty.\n",
      "\n",
      "GPU available: False, used: False\n",
      "TPU available: None, using: 0 TPU cores\n",
      "/Users/george/anaconda2/envs/dnabert/lib/python3.6/site-packages/pytorch_lightning/utilities/distributed.py:51: UserWarning:\n",
      "\n",
      "The dataloader, val dataloader 0, does not have many workers which may be a bottleneck. Consider increasing the value of the `num_workers` argument` (try 8 which is the number of cpus on this machine) in the `DataLoader` init to improve performance.\n",
      "\n",
      "/Users/george/anaconda2/envs/dnabert/lib/python3.6/site-packages/torch/nn/modules/container.py:117: UserWarning:\n",
      "\n",
      "Implicit dimension choice for softmax has been deprecated. Change the call to include dim=X as an argument.\n",
      "\n",
      "/Users/george/anaconda2/envs/dnabert/lib/python3.6/site-packages/pytorch_lightning/utilities/distributed.py:51: UserWarning:\n",
      "\n",
      "The dataloader, train dataloader, does not have many workers which may be a bottleneck. Consider increasing the value of the `num_workers` argument` (try 8 which is the number of cpus on this machine) in the `DataLoader` init to improve performance.\n",
      "\n",
      "[INFO 03-27 15:20:04] ax.modelbridge.dispatch_utils: Using Sobol generation strategy.\n",
      "[INFO 03-27 15:20:04] ax.service.managed_loop: Started full optimization with 10 steps.\n",
      "[INFO 03-27 15:20:04] ax.service.managed_loop: Running optimization trial 1...\n",
      "[INFO 03-27 15:20:04] ax.service.managed_loop: Running optimization trial 2...\n",
      "[INFO 03-27 15:20:04] ax.service.managed_loop: Running optimization trial 3...\n",
      "[INFO 03-27 15:20:04] ax.service.managed_loop: Running optimization trial 4...\n",
      "[INFO 03-27 15:20:04] ax.service.managed_loop: Running optimization trial 5...\n",
      "[INFO 03-27 15:20:04] ax.service.managed_loop: Running optimization trial 6...\n",
      "[INFO 03-27 15:20:04] ax.service.managed_loop: Running optimization trial 7...\n",
      "[INFO 03-27 15:20:04] ax.service.managed_loop: Running optimization trial 8...\n",
      "[INFO 03-27 15:20:05] ax.service.managed_loop: Running optimization trial 9...\n",
      "[INFO 03-27 15:20:05] ax.service.managed_loop: Running optimization trial 10...\n",
      "[INFO 03-27 15:20:05] ax.service.managed_loop: Running optimization trial 6...\n",
      "/Users/george/anaconda2/envs/dnabert/lib/python3.6/site-packages/pytorch_lightning/utilities/distributed.py:51: UserWarning:\n",
      "\n",
      "Checkpoint directory checkpoint_dir exists and is not empty.\n",
      "\n",
      "GPU available: False, used: False\n",
      "TPU available: None, using: 0 TPU cores\n",
      "/Users/george/anaconda2/envs/dnabert/lib/python3.6/site-packages/pytorch_lightning/utilities/distributed.py:51: UserWarning:\n",
      "\n",
      "The dataloader, val dataloader 0, does not have many workers which may be a bottleneck. Consider increasing the value of the `num_workers` argument` (try 8 which is the number of cpus on this machine) in the `DataLoader` init to improve performance.\n",
      "\n",
      "/Users/george/anaconda2/envs/dnabert/lib/python3.6/site-packages/torch/nn/modules/container.py:117: UserWarning:\n",
      "\n",
      "Implicit dimension choice for softmax has been deprecated. Change the call to include dim=X as an argument.\n",
      "\n",
      "/Users/george/anaconda2/envs/dnabert/lib/python3.6/site-packages/pytorch_lightning/utilities/distributed.py:51: UserWarning:\n",
      "\n",
      "The dataloader, train dataloader, does not have many workers which may be a bottleneck. Consider increasing the value of the `num_workers` argument` (try 8 which is the number of cpus on this machine) in the `DataLoader` init to improve performance.\n",
      "\n",
      "[INFO 03-27 15:20:56] ax.modelbridge.dispatch_utils: Using Sobol generation strategy.\n",
      "[INFO 03-27 15:20:56] ax.service.managed_loop: Started full optimization with 10 steps.\n",
      "[INFO 03-27 15:20:56] ax.service.managed_loop: Running optimization trial 1...\n",
      "[INFO 03-27 15:21:02] ax.service.managed_loop: Running optimization trial 2...\n",
      "[INFO 03-27 15:21:07] ax.service.managed_loop: Running optimization trial 3...\n",
      "[INFO 03-27 15:21:10] ax.service.managed_loop: Running optimization trial 4...\n",
      "[INFO 03-27 15:21:13] ax.service.managed_loop: Running optimization trial 5...\n",
      "[INFO 03-27 15:21:15] ax.service.managed_loop: Running optimization trial 6...\n",
      "[INFO 03-27 15:21:17] ax.service.managed_loop: Running optimization trial 7...\n",
      "[INFO 03-27 15:21:21] ax.service.managed_loop: Running optimization trial 8...\n",
      "[INFO 03-27 15:21:24] ax.service.managed_loop: Running optimization trial 9...\n",
      "[INFO 03-27 15:21:25] ax.service.managed_loop: Running optimization trial 10...\n",
      "[INFO 03-27 15:21:31] ax.service.managed_loop: Running optimization trial 7...\n",
      "/Users/george/anaconda2/envs/dnabert/lib/python3.6/site-packages/pytorch_lightning/utilities/distributed.py:51: UserWarning:\n",
      "\n",
      "Checkpoint directory checkpoint_dir exists and is not empty.\n",
      "\n",
      "GPU available: False, used: False\n",
      "TPU available: None, using: 0 TPU cores\n",
      "/Users/george/anaconda2/envs/dnabert/lib/python3.6/site-packages/pytorch_lightning/utilities/distributed.py:51: UserWarning:\n",
      "\n",
      "The dataloader, val dataloader 0, does not have many workers which may be a bottleneck. Consider increasing the value of the `num_workers` argument` (try 8 which is the number of cpus on this machine) in the `DataLoader` init to improve performance.\n",
      "\n",
      "/Users/george/anaconda2/envs/dnabert/lib/python3.6/site-packages/torch/nn/modules/container.py:117: UserWarning:\n",
      "\n",
      "Implicit dimension choice for softmax has been deprecated. Change the call to include dim=X as an argument.\n",
      "\n",
      "/Users/george/anaconda2/envs/dnabert/lib/python3.6/site-packages/pytorch_lightning/utilities/distributed.py:51: UserWarning:\n",
      "\n",
      "The dataloader, train dataloader, does not have many workers which may be a bottleneck. Consider increasing the value of the `num_workers` argument` (try 8 which is the number of cpus on this machine) in the `DataLoader` init to improve performance.\n",
      "\n",
      "[INFO 03-27 15:22:50] ax.modelbridge.dispatch_utils: Using Sobol generation strategy.\n",
      "[INFO 03-27 15:22:50] ax.service.managed_loop: Started full optimization with 10 steps.\n",
      "[INFO 03-27 15:22:50] ax.service.managed_loop: Running optimization trial 1...\n",
      "[INFO 03-27 15:22:50] ax.service.managed_loop: Running optimization trial 2...\n",
      "[INFO 03-27 15:22:50] ax.service.managed_loop: Running optimization trial 3...\n",
      "[INFO 03-27 15:22:50] ax.service.managed_loop: Running optimization trial 4...\n",
      "[INFO 03-27 15:22:50] ax.service.managed_loop: Running optimization trial 5...\n",
      "[INFO 03-27 15:22:50] ax.service.managed_loop: Running optimization trial 6...\n",
      "[INFO 03-27 15:22:50] ax.service.managed_loop: Running optimization trial 7...\n",
      "[INFO 03-27 15:22:50] ax.service.managed_loop: Running optimization trial 8...\n",
      "[INFO 03-27 15:22:50] ax.service.managed_loop: Running optimization trial 9...\n",
      "[INFO 03-27 15:22:50] ax.service.managed_loop: Running optimization trial 10...\n",
      "[INFO 03-27 15:22:51] ax.service.managed_loop: Running optimization trial 8...\n",
      "/Users/george/anaconda2/envs/dnabert/lib/python3.6/site-packages/pytorch_lightning/utilities/distributed.py:51: UserWarning:\n",
      "\n",
      "Checkpoint directory checkpoint_dir exists and is not empty.\n",
      "\n",
      "GPU available: False, used: False\n",
      "TPU available: None, using: 0 TPU cores\n",
      "/Users/george/anaconda2/envs/dnabert/lib/python3.6/site-packages/pytorch_lightning/utilities/distributed.py:51: UserWarning:\n",
      "\n",
      "The dataloader, val dataloader 0, does not have many workers which may be a bottleneck. Consider increasing the value of the `num_workers` argument` (try 8 which is the number of cpus on this machine) in the `DataLoader` init to improve performance.\n",
      "\n",
      "/Users/george/anaconda2/envs/dnabert/lib/python3.6/site-packages/torch/nn/modules/container.py:117: UserWarning:\n",
      "\n",
      "Implicit dimension choice for softmax has been deprecated. Change the call to include dim=X as an argument.\n",
      "\n",
      "/Users/george/anaconda2/envs/dnabert/lib/python3.6/site-packages/pytorch_lightning/utilities/distributed.py:51: UserWarning:\n",
      "\n",
      "The dataloader, train dataloader, does not have many workers which may be a bottleneck. Consider increasing the value of the `num_workers` argument` (try 8 which is the number of cpus on this machine) in the `DataLoader` init to improve performance.\n",
      "\n"
     ]
    },
    {
     "name": "stderr",
     "output_type": "stream",
     "text": [
      "[INFO 03-27 15:24:50] ax.modelbridge.dispatch_utils: Using Sobol generation strategy.\n",
      "[INFO 03-27 15:24:50] ax.service.managed_loop: Started full optimization with 10 steps.\n",
      "[INFO 03-27 15:24:50] ax.service.managed_loop: Running optimization trial 1...\n",
      "[INFO 03-27 15:24:53] ax.service.managed_loop: Running optimization trial 2...\n",
      "[INFO 03-27 15:24:55] ax.service.managed_loop: Running optimization trial 3...\n",
      "[INFO 03-27 15:25:02] ax.service.managed_loop: Running optimization trial 4...\n",
      "[INFO 03-27 15:25:07] ax.service.managed_loop: Running optimization trial 5...\n",
      "[INFO 03-27 15:25:09] ax.service.managed_loop: Running optimization trial 6...\n",
      "[INFO 03-27 15:25:10] ax.service.managed_loop: Running optimization trial 7...\n",
      "[INFO 03-27 15:25:12] ax.service.managed_loop: Running optimization trial 8...\n",
      "[INFO 03-27 15:25:13] ax.service.managed_loop: Running optimization trial 9...\n",
      "[INFO 03-27 15:25:13] ax.service.managed_loop: Running optimization trial 10...\n"
     ]
    }
   ],
   "source": [
    "model_results = tune_SAE(dataset, SAE_parameters)"
   ]
  },
  {
   "cell_type": "code",
   "execution_count": 271,
   "metadata": {},
   "outputs": [],
   "source": [
    "model_results[0] = 'Marker'"
   ]
  },
  {
   "cell_type": "code",
   "execution_count": 272,
   "metadata": {},
   "outputs": [
    {
     "data": {
      "text/plain": [
       "['Marker',\n",
       " 'Zeller_fecal_colorectal_cancer',\n",
       " {'layer_size': 512, 'classifier_model': 'svm'},\n",
       " ({'objective': 0.7259259259259259}, {'objective': {'objective': 0.0}})]"
      ]
     },
     "execution_count": 272,
     "metadata": {},
     "output_type": "execute_result"
    }
   ],
   "source": [
    "model_results"
   ]
  },
  {
   "cell_type": "code",
   "execution_count": 234,
   "metadata": {},
   "outputs": [
    {
     "data": {
      "text/plain": [
       "[128, 'svm']"
      ]
     },
     "execution_count": 234,
     "metadata": {},
     "output_type": "execute_result"
    }
   ],
   "source": [
    "[b for a,b in model_results[2].items()]"
   ]
  },
  {
   "cell_type": "code",
   "execution_count": 236,
   "metadata": {},
   "outputs": [
    {
     "data": {
      "text/plain": [
       "['Abundance',\n",
       " 'Quin_gut_liver_cirrhosis',\n",
       " {'layer_size': 128, 'classifier_model': 'svm'},\n",
       " ({'objective': 0.8369565217391305}, {'objective': {'objective': 0.0}})]"
      ]
     },
     "execution_count": 236,
     "metadata": {},
     "output_type": "execute_result"
    }
   ],
   "source": [
    "model_results"
   ]
  },
  {
   "cell_type": "code",
   "execution_count": null,
   "metadata": {},
   "outputs": [],
   "source": [
    "a"
   ]
  },
  {
   "cell_type": "code",
   "execution_count": 273,
   "metadata": {},
   "outputs": [
    {
     "data": {
      "text/plain": [
       "['Marker', 'Zeller_fecal_colorectal_cancer', [512, 'svm'], 0.7259259259259259]"
      ]
     },
     "execution_count": 273,
     "metadata": {},
     "output_type": "execute_result"
    }
   ],
   "source": [
    "[a if type(a)==str \n",
    "     else [b for c,b in a.items()] if type(a) == dict \n",
    "     else a[0]['objective']\n",
    "    for a in model_results  ]"
   ]
  },
  {
   "cell_type": "code",
   "execution_count": 244,
   "metadata": {},
   "outputs": [
    {
     "data": {
      "text/html": [
       "<div>\n",
       "<style scoped>\n",
       "    .dataframe tbody tr th:only-of-type {\n",
       "        vertical-align: middle;\n",
       "    }\n",
       "\n",
       "    .dataframe tbody tr th {\n",
       "        vertical-align: top;\n",
       "    }\n",
       "\n",
       "    .dataframe thead th {\n",
       "        text-align: right;\n",
       "    }\n",
       "</style>\n",
       "<table border=\"1\" class=\"dataframe\">\n",
       "  <thead>\n",
       "    <tr style=\"text-align: right;\">\n",
       "      <th></th>\n",
       "      <th>0</th>\n",
       "      <th>1</th>\n",
       "      <th>2</th>\n",
       "      <th>3</th>\n",
       "    </tr>\n",
       "  </thead>\n",
       "  <tbody>\n",
       "    <tr>\n",
       "      <th>0</th>\n",
       "      <td>Abundance</td>\n",
       "      <td>Quin_gut_liver_cirrhosis</td>\n",
       "      <td>[128, svm]</td>\n",
       "      <td>0.836957</td>\n",
       "    </tr>\n",
       "  </tbody>\n",
       "</table>\n",
       "</div>"
      ],
      "text/plain": [
       "           0                         1           2         3\n",
       "0  Abundance  Quin_gut_liver_cirrhosis  [128, svm]  0.836957"
      ]
     },
     "execution_count": 244,
     "metadata": {},
     "output_type": "execute_result"
    }
   ],
   "source": [
    "SAE_results"
   ]
  },
  {
   "cell_type": "code",
   "execution_count": 251,
   "metadata": {},
   "outputs": [],
   "source": [
    "SAE_results = pd.DataFrame(['SAE'] + [a if type(a)==str \n",
    "                         else [b for c,b in a.items()] if type(a) == dict \n",
    "                         else a[0]['objective']\n",
    "                        for a in model_results]).T\n",
    "\n",
    "SAE_results.columns = ['Model Type', 'Data Type', 'Dataset', 'hyperparams', 'AUC']"
   ]
  },
  {
   "cell_type": "code",
   "execution_count": 254,
   "metadata": {},
   "outputs": [
    {
     "data": {
      "text/html": [
       "<div>\n",
       "<style scoped>\n",
       "    .dataframe tbody tr th:only-of-type {\n",
       "        vertical-align: middle;\n",
       "    }\n",
       "\n",
       "    .dataframe tbody tr th {\n",
       "        vertical-align: top;\n",
       "    }\n",
       "\n",
       "    .dataframe thead th {\n",
       "        text-align: right;\n",
       "    }\n",
       "</style>\n",
       "<table border=\"1\" class=\"dataframe\">\n",
       "  <thead>\n",
       "    <tr style=\"text-align: right;\">\n",
       "      <th></th>\n",
       "      <th>Model Type</th>\n",
       "      <th>Data Type</th>\n",
       "      <th>Dataset</th>\n",
       "      <th>hyperparams</th>\n",
       "      <th>AUC</th>\n",
       "    </tr>\n",
       "  </thead>\n",
       "  <tbody>\n",
       "    <tr>\n",
       "      <th>0</th>\n",
       "      <td>SAE</td>\n",
       "      <td>Abundance</td>\n",
       "      <td>Quin_gut_liver_cirrhosis</td>\n",
       "      <td>[128, 'svm']</td>\n",
       "      <td>0.836957</td>\n",
       "    </tr>\n",
       "    <tr>\n",
       "      <th>0</th>\n",
       "      <td>SAE</td>\n",
       "      <td>Abundance</td>\n",
       "      <td>Quin_gut_liver_cirrhosis</td>\n",
       "      <td>[128, svm]</td>\n",
       "      <td>0.836957</td>\n",
       "    </tr>\n",
       "  </tbody>\n",
       "</table>\n",
       "</div>"
      ],
      "text/plain": [
       "  Model Type  Data Type                   Dataset   hyperparams       AUC\n",
       "0        SAE  Abundance  Quin_gut_liver_cirrhosis  [128, 'svm']  0.836957\n",
       "0        SAE  Abundance  Quin_gut_liver_cirrhosis    [128, svm]  0.836957"
      ]
     },
     "execution_count": 254,
     "metadata": {},
     "output_type": "execute_result"
    }
   ],
   "source": [
    "pd.concat( [pd.read_csv('SAE_results.csv'),SAE_results], axis=0 )\n",
    "            "
   ]
  },
  {
   "cell_type": "code",
   "execution_count": null,
   "metadata": {},
   "outputs": [],
   "source": []
  },
  {
   "cell_type": "code",
   "execution_count": 252,
   "metadata": {},
   "outputs": [],
   "source": [
    "SAE_results.to_csv('SAE_results.csv', index=False)"
   ]
  },
  {
   "cell_type": "code",
   "execution_count": 250,
   "metadata": {},
   "outputs": [
    {
     "data": {
      "text/html": [
       "<div>\n",
       "<style scoped>\n",
       "    .dataframe tbody tr th:only-of-type {\n",
       "        vertical-align: middle;\n",
       "    }\n",
       "\n",
       "    .dataframe tbody tr th {\n",
       "        vertical-align: top;\n",
       "    }\n",
       "\n",
       "    .dataframe thead th {\n",
       "        text-align: right;\n",
       "    }\n",
       "</style>\n",
       "<table border=\"1\" class=\"dataframe\">\n",
       "  <thead>\n",
       "    <tr style=\"text-align: right;\">\n",
       "      <th></th>\n",
       "      <th>Data Type</th>\n",
       "      <th>Dataset</th>\n",
       "      <th>hyperparams</th>\n",
       "      <th>AUC</th>\n",
       "    </tr>\n",
       "  </thead>\n",
       "  <tbody>\n",
       "    <tr>\n",
       "      <th>0</th>\n",
       "      <td>Abundance</td>\n",
       "      <td>Quin_gut_liver_cirrhosis</td>\n",
       "      <td>[128, 'svm']</td>\n",
       "      <td>0.836957</td>\n",
       "    </tr>\n",
       "  </tbody>\n",
       "</table>\n",
       "</div>"
      ],
      "text/plain": [
       "   Data Type                   Dataset   hyperparams       AUC\n",
       "0  Abundance  Quin_gut_liver_cirrhosis  [128, 'svm']  0.836957"
      ]
     },
     "execution_count": 250,
     "metadata": {},
     "output_type": "execute_result"
    }
   ],
   "source": [
    "pd.read_csv('SAE_results.csv')."
   ]
  },
  {
   "cell_type": "code",
   "execution_count": 225,
   "metadata": {},
   "outputs": [
    {
     "data": {
      "text/plain": [
       "{'layer_size': 128, 'classifier_model': 'svm'}"
      ]
     },
     "execution_count": 225,
     "metadata": {},
     "output_type": "execute_result"
    }
   ],
   "source": [
    "model_results[2]"
   ]
  },
  {
   "cell_type": "code",
   "execution_count": 226,
   "metadata": {},
   "outputs": [
    {
     "name": "stderr",
     "output_type": "stream",
     "text": [
      "/Users/george/anaconda2/envs/dnabert/lib/python3.6/site-packages/pytorch_lightning/utilities/distributed.py:51: UserWarning:\n",
      "\n",
      "Checkpoint directory checkpoint_dir exists and is not empty.\n",
      "\n",
      "GPU available: False, used: False\n",
      "TPU available: None, using: 0 TPU cores\n",
      "/Users/george/anaconda2/envs/dnabert/lib/python3.6/site-packages/pytorch_lightning/utilities/distributed.py:51: UserWarning:\n",
      "\n",
      "The dataloader, val dataloader 0, does not have many workers which may be a bottleneck. Consider increasing the value of the `num_workers` argument` (try 8 which is the number of cpus on this machine) in the `DataLoader` init to improve performance.\n",
      "\n",
      "/Users/george/anaconda2/envs/dnabert/lib/python3.6/site-packages/torch/nn/modules/container.py:117: UserWarning:\n",
      "\n",
      "Implicit dimension choice for softmax has been deprecated. Change the call to include dim=X as an argument.\n",
      "\n",
      "/Users/george/anaconda2/envs/dnabert/lib/python3.6/site-packages/pytorch_lightning/utilities/distributed.py:51: UserWarning:\n",
      "\n",
      "The dataloader, train dataloader, does not have many workers which may be a bottleneck. Consider increasing the value of the `num_workers` argument` (try 8 which is the number of cpus on this machine) in the `DataLoader` init to improve performance.\n",
      "\n",
      "[INFO 03-27 14:08:44] ax.modelbridge.dispatch_utils: Using Sobol generation strategy.\n",
      "[INFO 03-27 14:08:44] ax.service.managed_loop: Started full optimization with 10 steps.\n",
      "[INFO 03-27 14:08:44] ax.service.managed_loop: Running optimization trial 1...\n",
      "[INFO 03-27 14:08:44] ax.service.managed_loop: Running optimization trial 2...\n",
      "[INFO 03-27 14:08:44] ax.service.managed_loop: Running optimization trial 3...\n",
      "[INFO 03-27 14:08:44] ax.service.managed_loop: Running optimization trial 4...\n",
      "[INFO 03-27 14:08:45] ax.service.managed_loop: Running optimization trial 5...\n",
      "[INFO 03-27 14:08:45] ax.service.managed_loop: Running optimization trial 6...\n",
      "[INFO 03-27 14:08:45] ax.service.managed_loop: Running optimization trial 7...\n",
      "[INFO 03-27 14:08:45] ax.service.managed_loop: Running optimization trial 8...\n",
      "[INFO 03-27 14:08:45] ax.service.managed_loop: Running optimization trial 9...\n",
      "[INFO 03-27 14:08:45] ax.service.managed_loop: Running optimization trial 10...\n"
     ]
    },
    {
     "data": {
      "text/plain": [
       "0.8188405797101449"
      ]
     },
     "execution_count": 226,
     "metadata": {},
     "output_type": "execute_result"
    }
   ],
   "source": [
    "SAE_eval(model_results[2])"
   ]
  },
  {
   "cell_type": "code",
   "execution_count": 213,
   "metadata": {},
   "outputs": [
    {
     "data": {
      "text/html": [
       "<div>\n",
       "<style scoped>\n",
       "    .dataframe tbody tr th:only-of-type {\n",
       "        vertical-align: middle;\n",
       "    }\n",
       "\n",
       "    .dataframe tbody tr th {\n",
       "        vertical-align: top;\n",
       "    }\n",
       "\n",
       "    .dataframe thead th {\n",
       "        text-align: right;\n",
       "    }\n",
       "</style>\n",
       "<table border=\"1\" class=\"dataframe\">\n",
       "  <thead>\n",
       "    <tr style=\"text-align: right;\">\n",
       "      <th>dataset_name</th>\n",
       "      <th>sampleID</th>\n",
       "      <th>subjectID</th>\n",
       "      <th>bodysite</th>\n",
       "      <th>disease</th>\n",
       "      <th>age</th>\n",
       "      <th>gender</th>\n",
       "      <th>country</th>\n",
       "      <th>sequencing_technology</th>\n",
       "      <th>pubmedid</th>\n",
       "      <th>camp</th>\n",
       "      <th>...</th>\n",
       "      <th>read_length</th>\n",
       "      <th>total_reads</th>\n",
       "      <th>matched_reads</th>\n",
       "      <th>uniquely_matching_reads</th>\n",
       "      <th>uniquely_matched_reads</th>\n",
       "      <th>gene_number</th>\n",
       "      <th>gene_number_for_11m_uniquely_matched_reads</th>\n",
       "      <th>hitchip_probe_number</th>\n",
       "      <th>bmi</th>\n",
       "      <th>gene_count_class</th>\n",
       "    </tr>\n",
       "  </thead>\n",
       "  <tbody>\n",
       "    <tr>\n",
       "      <th>Quin_gut_liver_cirrhosis</th>\n",
       "      <td>HD-10</td>\n",
       "      <td>hd-10</td>\n",
       "      <td>stool</td>\n",
       "      <td>n</td>\n",
       "      <td>40</td>\n",
       "      <td>female</td>\n",
       "      <td>china</td>\n",
       "      <td>Illumina</td>\n",
       "      <td>25079328</td>\n",
       "      <td>nd</td>\n",
       "      <td>...</td>\n",
       "      <td>nd</td>\n",
       "      <td>nd</td>\n",
       "      <td>nd</td>\n",
       "      <td>nd</td>\n",
       "      <td>nd</td>\n",
       "      <td>nd</td>\n",
       "      <td>nd</td>\n",
       "      <td>nd</td>\n",
       "      <td>20.2</td>\n",
       "      <td>nd</td>\n",
       "    </tr>\n",
       "    <tr>\n",
       "      <th>Quin_gut_liver_cirrhosis.1</th>\n",
       "      <td>HD-11</td>\n",
       "      <td>hd-11</td>\n",
       "      <td>stool</td>\n",
       "      <td>n</td>\n",
       "      <td>38</td>\n",
       "      <td>female</td>\n",
       "      <td>china</td>\n",
       "      <td>Illumina</td>\n",
       "      <td>25079328</td>\n",
       "      <td>nd</td>\n",
       "      <td>...</td>\n",
       "      <td>nd</td>\n",
       "      <td>nd</td>\n",
       "      <td>nd</td>\n",
       "      <td>nd</td>\n",
       "      <td>nd</td>\n",
       "      <td>nd</td>\n",
       "      <td>nd</td>\n",
       "      <td>nd</td>\n",
       "      <td>19.95</td>\n",
       "      <td>nd</td>\n",
       "    </tr>\n",
       "    <tr>\n",
       "      <th>Quin_gut_liver_cirrhosis.2</th>\n",
       "      <td>HD-12</td>\n",
       "      <td>hd-12</td>\n",
       "      <td>stool</td>\n",
       "      <td>n</td>\n",
       "      <td>40</td>\n",
       "      <td>male</td>\n",
       "      <td>china</td>\n",
       "      <td>Illumina</td>\n",
       "      <td>25079328</td>\n",
       "      <td>nd</td>\n",
       "      <td>...</td>\n",
       "      <td>nd</td>\n",
       "      <td>nd</td>\n",
       "      <td>nd</td>\n",
       "      <td>nd</td>\n",
       "      <td>nd</td>\n",
       "      <td>nd</td>\n",
       "      <td>nd</td>\n",
       "      <td>nd</td>\n",
       "      <td>22.55</td>\n",
       "      <td>nd</td>\n",
       "    </tr>\n",
       "    <tr>\n",
       "      <th>Quin_gut_liver_cirrhosis.3</th>\n",
       "      <td>HD-13</td>\n",
       "      <td>hd-13</td>\n",
       "      <td>stool</td>\n",
       "      <td>n</td>\n",
       "      <td>56</td>\n",
       "      <td>female</td>\n",
       "      <td>china</td>\n",
       "      <td>Illumina</td>\n",
       "      <td>25079328</td>\n",
       "      <td>nd</td>\n",
       "      <td>...</td>\n",
       "      <td>nd</td>\n",
       "      <td>nd</td>\n",
       "      <td>nd</td>\n",
       "      <td>nd</td>\n",
       "      <td>nd</td>\n",
       "      <td>nd</td>\n",
       "      <td>nd</td>\n",
       "      <td>nd</td>\n",
       "      <td>21.48</td>\n",
       "      <td>nd</td>\n",
       "    </tr>\n",
       "    <tr>\n",
       "      <th>Quin_gut_liver_cirrhosis.4</th>\n",
       "      <td>HD-14</td>\n",
       "      <td>hd-14</td>\n",
       "      <td>stool</td>\n",
       "      <td>n</td>\n",
       "      <td>51</td>\n",
       "      <td>male</td>\n",
       "      <td>china</td>\n",
       "      <td>Illumina</td>\n",
       "      <td>25079328</td>\n",
       "      <td>nd</td>\n",
       "      <td>...</td>\n",
       "      <td>nd</td>\n",
       "      <td>nd</td>\n",
       "      <td>nd</td>\n",
       "      <td>nd</td>\n",
       "      <td>nd</td>\n",
       "      <td>nd</td>\n",
       "      <td>nd</td>\n",
       "      <td>nd</td>\n",
       "      <td>22.58</td>\n",
       "      <td>nd</td>\n",
       "    </tr>\n",
       "  </tbody>\n",
       "</table>\n",
       "<p>5 rows × 21 columns</p>\n",
       "</div>"
      ],
      "text/plain": [
       "dataset_name               sampleID subjectID bodysite disease age  gender  \\\n",
       "Quin_gut_liver_cirrhosis      HD-10     hd-10    stool       n  40  female   \n",
       "Quin_gut_liver_cirrhosis.1    HD-11     hd-11    stool       n  38  female   \n",
       "Quin_gut_liver_cirrhosis.2    HD-12     hd-12    stool       n  40    male   \n",
       "Quin_gut_liver_cirrhosis.3    HD-13     hd-13    stool       n  56  female   \n",
       "Quin_gut_liver_cirrhosis.4    HD-14     hd-14    stool       n  51    male   \n",
       "\n",
       "dataset_name               country sequencing_technology  pubmedid camp  ...  \\\n",
       "Quin_gut_liver_cirrhosis     china              Illumina  25079328   nd  ...   \n",
       "Quin_gut_liver_cirrhosis.1   china              Illumina  25079328   nd  ...   \n",
       "Quin_gut_liver_cirrhosis.2   china              Illumina  25079328   nd  ...   \n",
       "Quin_gut_liver_cirrhosis.3   china              Illumina  25079328   nd  ...   \n",
       "Quin_gut_liver_cirrhosis.4   china              Illumina  25079328   nd  ...   \n",
       "\n",
       "dataset_name               read_length total_reads matched_reads  \\\n",
       "Quin_gut_liver_cirrhosis            nd          nd            nd   \n",
       "Quin_gut_liver_cirrhosis.1          nd          nd            nd   \n",
       "Quin_gut_liver_cirrhosis.2          nd          nd            nd   \n",
       "Quin_gut_liver_cirrhosis.3          nd          nd            nd   \n",
       "Quin_gut_liver_cirrhosis.4          nd          nd            nd   \n",
       "\n",
       "dataset_name               uniquely_matching_reads uniquely_matched_reads  \\\n",
       "Quin_gut_liver_cirrhosis                        nd                     nd   \n",
       "Quin_gut_liver_cirrhosis.1                      nd                     nd   \n",
       "Quin_gut_liver_cirrhosis.2                      nd                     nd   \n",
       "Quin_gut_liver_cirrhosis.3                      nd                     nd   \n",
       "Quin_gut_liver_cirrhosis.4                      nd                     nd   \n",
       "\n",
       "dataset_name               gene_number  \\\n",
       "Quin_gut_liver_cirrhosis            nd   \n",
       "Quin_gut_liver_cirrhosis.1          nd   \n",
       "Quin_gut_liver_cirrhosis.2          nd   \n",
       "Quin_gut_liver_cirrhosis.3          nd   \n",
       "Quin_gut_liver_cirrhosis.4          nd   \n",
       "\n",
       "dataset_name               gene_number_for_11m_uniquely_matched_reads  \\\n",
       "Quin_gut_liver_cirrhosis                                           nd   \n",
       "Quin_gut_liver_cirrhosis.1                                         nd   \n",
       "Quin_gut_liver_cirrhosis.2                                         nd   \n",
       "Quin_gut_liver_cirrhosis.3                                         nd   \n",
       "Quin_gut_liver_cirrhosis.4                                         nd   \n",
       "\n",
       "dataset_name               hitchip_probe_number    bmi gene_count_class  \n",
       "Quin_gut_liver_cirrhosis                     nd   20.2               nd  \n",
       "Quin_gut_liver_cirrhosis.1                   nd  19.95               nd  \n",
       "Quin_gut_liver_cirrhosis.2                   nd  22.55               nd  \n",
       "Quin_gut_liver_cirrhosis.3                   nd  21.48               nd  \n",
       "Quin_gut_liver_cirrhosis.4                   nd  22.58               nd  \n",
       "\n",
       "[5 rows x 21 columns]"
      ]
     },
     "execution_count": 213,
     "metadata": {},
     "output_type": "execute_result"
    }
   ],
   "source": [
    "dataset.iloc[:5, :2]"
   ]
  },
  {
   "cell_type": "code",
   "execution_count": 255,
   "metadata": {},
   "outputs": [
    {
     "name": "stderr",
     "output_type": "stream",
     "text": [
      "/Users/george/anaconda2/envs/dnabert/lib/python3.6/site-packages/IPython/core/interactiveshell.py:3072: DtypeWarning:\n",
      "\n",
      "Columns (1,2,3,4,5,6,7,8,9,10,11,12,13,14,15,16,17,18,19,20,21,22,23,24,25,26,27,28,29,30,31,32,33,34,35,36,37,38,39,40,41,42,43,44,45,46,47,48,49,50,51,52,53,54,55,56,57,58,59,60,61,62,63,64,65,66,67,68,69,70,71,72,73,74,75,76,77,78,79,80,81,82,83,84,85,86,87,88,89,90,91,92,93,94,95,96,97,98,99,100,101,102,103,104,105,106,107,108,109,110,111,112,113,114,115,116,117,118,119,120,121) have mixed types.Specify dtype option on import or set low_memory=False.\n",
      "\n",
      "/Users/george/anaconda2/envs/dnabert/lib/python3.6/site-packages/IPython/core/interactiveshell.py:3072: DtypeWarning:\n",
      "\n",
      "Columns (1,2,3,4,5,6,7,8,9,10,11,12,13,14,15,16,17,18,19,20,21,22,23,24,25,26,27,28,29,30,31,32,33,34,35,36,37,38,39,40,41,42,43,44,45,46,47,48,49,50,51,52,53,54,55,56,57,58,59,60,61,62,63,64,65,66,67,68,69,70,71,72,73,74,75,76,77,78,79,80,81,82,83,84,85,86,87,88,89,90,91,92,93,94,95,96,97,98,99,100,101,102,103,104,105,106,107,108,109,110,111,112,113,114,115,116,117,118,119,120,121,122,123,124,125,126,127,128,129,130,131,132,133,134,135,136,137,138,139,140,141,142,143,144,145,146,147,148,149,150,151,152,153,154,155,156,157,158,159,160,161,162,163,164,165,166,167,168,169,170,171,172,173,174,175,176,177,178,179,180,181,182,183,184,185,186,187,188,189,190,191,192,193,194,195,196,197,198,199,200,201,202,203,204,205,206,207,208,209,210,211,212,213,214,215,216,217,218,219,220,221,222,223,224,225,226,227,228,229,230,231,232) have mixed types.Specify dtype option on import or set low_memory=False.\n",
      "\n",
      "/Users/george/anaconda2/envs/dnabert/lib/python3.6/site-packages/IPython/core/interactiveshell.py:3072: DtypeWarning:\n",
      "\n",
      "Columns (1,2,3,4,5,6,7,8,9,10,11,12,13,14,15,16,17,18,19,20,21,22,23,24,25,26,27,28,29,30,31,32,33,34,35,36,37,38,39,40,41,42,43,44,45,46,47,48,49,50,51,52,53,54,55,56,57,58,59,60,61,62,63,64,65,66,67,68,69,70,71,72,73,74,75,76,77,78,79,80,81,82,83,84,85,86,87,88,89,90,91,92,93,94,95,96,97,98,99,100,101,102,103,104,105,106,107,108,109,110) have mixed types.Specify dtype option on import or set low_memory=False.\n",
      "\n",
      "/Users/george/anaconda2/envs/dnabert/lib/python3.6/site-packages/IPython/core/interactiveshell.py:3072: DtypeWarning:\n",
      "\n",
      "Columns (1,2,3,4,5,6,7,8,9,10,11,12,13,14,15,16,17,18,19,20,21,22,23,24,25,26,27,28,29,30,31,32,33,34,35,36,37,38,39,40,41,42,43,44,45,46,47,48,49,50,51,52,53,54,55,56,57,58,59,60,61,62,63,64,65,66,67,68,69,70,71,72,73,74,75,76,77,78,79,80,81,82,83,84,85,86,87,88,89,90,91,92,93,94,95,96,97,98,99,100,101,102,103,104,105,106,107,108,109,110,111,112,113,114,115,116,117,118,119,120,121,122,123,124,125,126,127,128,129,130,131,132,133,134,135,136,137,138,139,140,141,142,143,144,145,146,147,148,149,150,151,152,153,154,155,156,157,158,159,160,161,162,163,164,165,166,167,168,169,170,171,172,173,174,175,176,177,178,179,180,181,182,183,184,185,186,187,188,189,190,191,192,193,194,195,196,197,198,199,200,201,202,203,204,205,206,207,208,209,210,211,212,213,214,215,216,217,218,219,220,221,222,223,224,225,226,227,228,229,230,231,232,233,234,235,236,237,238,239,240,241,242,243,244,245,246,247,248,249,250,251,252,253,254,255,256,257,258,259,260,261,262,263,264,265,266,267,268,269,270,271,272,273,274,275,276,277,278,279,280,281,282,283,284,285,286,287,288,289,290,291,292,293,294,295,296,297,298,299,300,301,302,303,304,305,306,307,308,309,310,311,312,313,314,315,316,317,318,319,320,321,322,323,324,325,326,327,328,329,330,331,332,333,334,335,336,337,338,339,340,341,342,343,344) have mixed types.Specify dtype option on import or set low_memory=False.\n",
      "\n",
      "/Users/george/anaconda2/envs/dnabert/lib/python3.6/site-packages/IPython/core/interactiveshell.py:3072: DtypeWarning:\n",
      "\n",
      "Columns (1,2,3,4,5,6,7,8,9,10,11,12,13,14,15,16,17,18,19,20,21,22,23,24,25,26,27,28,29,30,31,32,33,34,35,36,37,38,39,40,41,42,43,44,45,46,47,48,49,50,51,52,53,54,55,56,57,58,59,60,61,62,63,64,65,66,67,68,69,70,71,72,73,74,75,76,77,78,79,80,81,82,83,84,85,86,87,88,89,90,91,92,93,94,95,96) have mixed types.Specify dtype option on import or set low_memory=False.\n",
      "\n",
      "/Users/george/anaconda2/envs/dnabert/lib/python3.6/site-packages/IPython/core/interactiveshell.py:3072: DtypeWarning:\n",
      "\n",
      "Columns (1,2,3,4,5,6,7,8,9,10,11,12,13,14,15,16,17,18,19,20,21,22,23,24,25,26,27,28,29,30,31,32,33,34,35,36,37,38,39,40,41,42,43,44,45,46,47,48,49,50,51,52,53,54,55,56,57,58,59,60,61,62,63,64,65,66,67,68,69,70,71,72,73,74,75,76,77,78,79,80,81,82,83,84,85,86,87,88,89,90,91,92,93,94,95,96,97,98,99,100,101,102,103,104,105,106,107,108,109,110,111,112,113,114,115,116,117,118,119,120,121,122,123,124,125,126,127,128,129,130,131,132,133,134,135,136,137,138,139,140,141,142,143,144,145,146,147,148,149,150,151,152,153,154,155,156,157,158,159,160,161,162,163,164,165,166,167,168,169,170,171,172,173,174,175,176,177,178,179,180,181,182,183,184,185,186,187,188,189,190,191,192,193,194,195,196,197,198,199,200,201,202,203,204,205,206,207,208,209,210,211,212,213,214,215,216,217,218,219,220,221,222,223,224,225,226,227,228,229,230,231,232,233,234,235,236,237,238,239,240,241,242,243,244,245,246,247,248,249,250,251,252,253) have mixed types.Specify dtype option on import or set low_memory=False.\n",
      "\n"
     ]
    }
   ],
   "source": [
    "markers = []\n",
    "for file in os.listdir('data/marker/'):\n",
    "    df = pd.read_csv('data/marker/' + file, sep = '\\t') \n",
    "    df.index = df.dataset_name\n",
    "    markers.append(df.T.drop('dataset_name') )"
   ]
  },
  {
   "cell_type": "code",
   "execution_count": 256,
   "metadata": {},
   "outputs": [],
   "source": [
    "dfs = []\n",
    "for file in os.listdir('data/abundance/'):\n",
    "    df = pd.read_csv('data/abundance/' + file, sep = '\\t') \n",
    "    df.index = df.dataset_name\n",
    "    dfs.append(df.T.drop('dataset_name') )"
   ]
  },
  {
   "cell_type": "code",
   "execution_count": 257,
   "metadata": {},
   "outputs": [
    {
     "data": {
      "text/html": [
       "<div>\n",
       "<style scoped>\n",
       "    .dataframe tbody tr th:only-of-type {\n",
       "        vertical-align: middle;\n",
       "    }\n",
       "\n",
       "    .dataframe tbody tr th {\n",
       "        vertical-align: top;\n",
       "    }\n",
       "\n",
       "    .dataframe thead th {\n",
       "        text-align: right;\n",
       "    }\n",
       "</style>\n",
       "<table border=\"1\" class=\"dataframe\">\n",
       "  <thead>\n",
       "    <tr style=\"text-align: right;\">\n",
       "      <th>dataset_name</th>\n",
       "      <th>sampleID</th>\n",
       "      <th>subjectID</th>\n",
       "      <th>bodysite</th>\n",
       "      <th>disease</th>\n",
       "      <th>age</th>\n",
       "      <th>gender</th>\n",
       "      <th>country</th>\n",
       "      <th>sequencing_technology</th>\n",
       "      <th>pubmedid</th>\n",
       "      <th>camp</th>\n",
       "      <th>...</th>\n",
       "      <th>gi|62425186|ref|NZ_AAGP01000009.1|:99890-100180</th>\n",
       "      <th>gi|62425382|ref|NZ_AAGP01000007.1|:c1202-885</th>\n",
       "      <th>gi|62425382|ref|NZ_AAGP01000007.1|:c33801-33373</th>\n",
       "      <th>gi|62425382|ref|NZ_AAGP01000007.1|:c34305-33829</th>\n",
       "      <th>gi|62425604|ref|NZ_AAGP01000005.1|:60113-60766</th>\n",
       "      <th>gi|62425604|ref|NZ_AAGP01000005.1|:97318-98013</th>\n",
       "      <th>gi|62425739|ref|NZ_AAGP01000004.1|:59838-60017</th>\n",
       "      <th>gi|62425898|ref|NZ_AAGP01000003.1|:c34741-34619</th>\n",
       "      <th>gi|62426048|ref|NZ_AAGP01000002.1|:c74491-73856</th>\n",
       "      <th>gi|89892746|ref|NC_007907.1|:41100-41594</th>\n",
       "    </tr>\n",
       "  </thead>\n",
       "  <tbody>\n",
       "    <tr>\n",
       "      <th>Zeller_fecal_colorectal_cancer</th>\n",
       "      <td>CCIS00146684ST-4-0</td>\n",
       "      <td>fr-726</td>\n",
       "      <td>stool</td>\n",
       "      <td>n</td>\n",
       "      <td>72</td>\n",
       "      <td>female</td>\n",
       "      <td>france</td>\n",
       "      <td>Illumina</td>\n",
       "      <td>25432777</td>\n",
       "      <td>nd</td>\n",
       "      <td>...</td>\n",
       "      <td>0</td>\n",
       "      <td>0</td>\n",
       "      <td>0</td>\n",
       "      <td>0</td>\n",
       "      <td>0</td>\n",
       "      <td>0</td>\n",
       "      <td>0</td>\n",
       "      <td>0</td>\n",
       "      <td>0</td>\n",
       "      <td>0</td>\n",
       "    </tr>\n",
       "    <tr>\n",
       "      <th>Zeller_fecal_colorectal_cancer.1</th>\n",
       "      <td>CCIS00281083ST-3-0</td>\n",
       "      <td>fr-060</td>\n",
       "      <td>stool</td>\n",
       "      <td>n</td>\n",
       "      <td>53</td>\n",
       "      <td>male</td>\n",
       "      <td>france</td>\n",
       "      <td>Illumina</td>\n",
       "      <td>25432777</td>\n",
       "      <td>nd</td>\n",
       "      <td>...</td>\n",
       "      <td>0</td>\n",
       "      <td>0</td>\n",
       "      <td>0</td>\n",
       "      <td>0</td>\n",
       "      <td>0</td>\n",
       "      <td>0</td>\n",
       "      <td>0</td>\n",
       "      <td>0</td>\n",
       "      <td>0</td>\n",
       "      <td>0</td>\n",
       "    </tr>\n",
       "    <tr>\n",
       "      <th>Zeller_fecal_colorectal_cancer.2</th>\n",
       "      <td>CCIS02124300ST-4-0</td>\n",
       "      <td>fr-568</td>\n",
       "      <td>stool</td>\n",
       "      <td>n</td>\n",
       "      <td>35</td>\n",
       "      <td>male</td>\n",
       "      <td>france</td>\n",
       "      <td>Illumina</td>\n",
       "      <td>25432777</td>\n",
       "      <td>nd</td>\n",
       "      <td>...</td>\n",
       "      <td>0</td>\n",
       "      <td>0</td>\n",
       "      <td>0</td>\n",
       "      <td>0</td>\n",
       "      <td>0</td>\n",
       "      <td>0</td>\n",
       "      <td>0</td>\n",
       "      <td>0</td>\n",
       "      <td>0</td>\n",
       "      <td>0</td>\n",
       "    </tr>\n",
       "    <tr>\n",
       "      <th>Zeller_fecal_colorectal_cancer.3</th>\n",
       "      <td>CCIS02379307ST-4-0</td>\n",
       "      <td>fr-828</td>\n",
       "      <td>stool</td>\n",
       "      <td>cancer</td>\n",
       "      <td>67</td>\n",
       "      <td>male</td>\n",
       "      <td>france</td>\n",
       "      <td>Illumina</td>\n",
       "      <td>25432777</td>\n",
       "      <td>nd</td>\n",
       "      <td>...</td>\n",
       "      <td>0</td>\n",
       "      <td>0</td>\n",
       "      <td>0</td>\n",
       "      <td>0</td>\n",
       "      <td>0</td>\n",
       "      <td>0</td>\n",
       "      <td>0</td>\n",
       "      <td>0</td>\n",
       "      <td>0</td>\n",
       "      <td>0</td>\n",
       "    </tr>\n",
       "    <tr>\n",
       "      <th>Zeller_fecal_colorectal_cancer.4</th>\n",
       "      <td>CCIS03473770ST-4-0</td>\n",
       "      <td>fr-192</td>\n",
       "      <td>stool</td>\n",
       "      <td>n</td>\n",
       "      <td>29</td>\n",
       "      <td>male</td>\n",
       "      <td>france</td>\n",
       "      <td>Illumina</td>\n",
       "      <td>25432777</td>\n",
       "      <td>nd</td>\n",
       "      <td>...</td>\n",
       "      <td>0</td>\n",
       "      <td>0</td>\n",
       "      <td>0</td>\n",
       "      <td>0</td>\n",
       "      <td>0</td>\n",
       "      <td>0</td>\n",
       "      <td>0</td>\n",
       "      <td>0</td>\n",
       "      <td>0</td>\n",
       "      <td>0</td>\n",
       "    </tr>\n",
       "  </tbody>\n",
       "</table>\n",
       "<p>5 rows × 108244 columns</p>\n",
       "</div>"
      ],
      "text/plain": [
       "dataset_name                                sampleID subjectID bodysite  \\\n",
       "Zeller_fecal_colorectal_cancer    CCIS00146684ST-4-0    fr-726    stool   \n",
       "Zeller_fecal_colorectal_cancer.1  CCIS00281083ST-3-0    fr-060    stool   \n",
       "Zeller_fecal_colorectal_cancer.2  CCIS02124300ST-4-0    fr-568    stool   \n",
       "Zeller_fecal_colorectal_cancer.3  CCIS02379307ST-4-0    fr-828    stool   \n",
       "Zeller_fecal_colorectal_cancer.4  CCIS03473770ST-4-0    fr-192    stool   \n",
       "\n",
       "dataset_name                     disease age  gender country  \\\n",
       "Zeller_fecal_colorectal_cancer         n  72  female  france   \n",
       "Zeller_fecal_colorectal_cancer.1       n  53    male  france   \n",
       "Zeller_fecal_colorectal_cancer.2       n  35    male  france   \n",
       "Zeller_fecal_colorectal_cancer.3  cancer  67    male  france   \n",
       "Zeller_fecal_colorectal_cancer.4       n  29    male  france   \n",
       "\n",
       "dataset_name                     sequencing_technology  pubmedid camp  ...  \\\n",
       "Zeller_fecal_colorectal_cancer                Illumina  25432777   nd  ...   \n",
       "Zeller_fecal_colorectal_cancer.1              Illumina  25432777   nd  ...   \n",
       "Zeller_fecal_colorectal_cancer.2              Illumina  25432777   nd  ...   \n",
       "Zeller_fecal_colorectal_cancer.3              Illumina  25432777   nd  ...   \n",
       "Zeller_fecal_colorectal_cancer.4              Illumina  25432777   nd  ...   \n",
       "\n",
       "dataset_name                     gi|62425186|ref|NZ_AAGP01000009.1|:99890-100180  \\\n",
       "Zeller_fecal_colorectal_cancer                                                 0   \n",
       "Zeller_fecal_colorectal_cancer.1                                               0   \n",
       "Zeller_fecal_colorectal_cancer.2                                               0   \n",
       "Zeller_fecal_colorectal_cancer.3                                               0   \n",
       "Zeller_fecal_colorectal_cancer.4                                               0   \n",
       "\n",
       "dataset_name                     gi|62425382|ref|NZ_AAGP01000007.1|:c1202-885  \\\n",
       "Zeller_fecal_colorectal_cancer                                              0   \n",
       "Zeller_fecal_colorectal_cancer.1                                            0   \n",
       "Zeller_fecal_colorectal_cancer.2                                            0   \n",
       "Zeller_fecal_colorectal_cancer.3                                            0   \n",
       "Zeller_fecal_colorectal_cancer.4                                            0   \n",
       "\n",
       "dataset_name                     gi|62425382|ref|NZ_AAGP01000007.1|:c33801-33373  \\\n",
       "Zeller_fecal_colorectal_cancer                                                 0   \n",
       "Zeller_fecal_colorectal_cancer.1                                               0   \n",
       "Zeller_fecal_colorectal_cancer.2                                               0   \n",
       "Zeller_fecal_colorectal_cancer.3                                               0   \n",
       "Zeller_fecal_colorectal_cancer.4                                               0   \n",
       "\n",
       "dataset_name                     gi|62425382|ref|NZ_AAGP01000007.1|:c34305-33829  \\\n",
       "Zeller_fecal_colorectal_cancer                                                 0   \n",
       "Zeller_fecal_colorectal_cancer.1                                               0   \n",
       "Zeller_fecal_colorectal_cancer.2                                               0   \n",
       "Zeller_fecal_colorectal_cancer.3                                               0   \n",
       "Zeller_fecal_colorectal_cancer.4                                               0   \n",
       "\n",
       "dataset_name                     gi|62425604|ref|NZ_AAGP01000005.1|:60113-60766  \\\n",
       "Zeller_fecal_colorectal_cancer                                                0   \n",
       "Zeller_fecal_colorectal_cancer.1                                              0   \n",
       "Zeller_fecal_colorectal_cancer.2                                              0   \n",
       "Zeller_fecal_colorectal_cancer.3                                              0   \n",
       "Zeller_fecal_colorectal_cancer.4                                              0   \n",
       "\n",
       "dataset_name                     gi|62425604|ref|NZ_AAGP01000005.1|:97318-98013  \\\n",
       "Zeller_fecal_colorectal_cancer                                                0   \n",
       "Zeller_fecal_colorectal_cancer.1                                              0   \n",
       "Zeller_fecal_colorectal_cancer.2                                              0   \n",
       "Zeller_fecal_colorectal_cancer.3                                              0   \n",
       "Zeller_fecal_colorectal_cancer.4                                              0   \n",
       "\n",
       "dataset_name                     gi|62425739|ref|NZ_AAGP01000004.1|:59838-60017  \\\n",
       "Zeller_fecal_colorectal_cancer                                                0   \n",
       "Zeller_fecal_colorectal_cancer.1                                              0   \n",
       "Zeller_fecal_colorectal_cancer.2                                              0   \n",
       "Zeller_fecal_colorectal_cancer.3                                              0   \n",
       "Zeller_fecal_colorectal_cancer.4                                              0   \n",
       "\n",
       "dataset_name                     gi|62425898|ref|NZ_AAGP01000003.1|:c34741-34619  \\\n",
       "Zeller_fecal_colorectal_cancer                                                 0   \n",
       "Zeller_fecal_colorectal_cancer.1                                               0   \n",
       "Zeller_fecal_colorectal_cancer.2                                               0   \n",
       "Zeller_fecal_colorectal_cancer.3                                               0   \n",
       "Zeller_fecal_colorectal_cancer.4                                               0   \n",
       "\n",
       "dataset_name                     gi|62426048|ref|NZ_AAGP01000002.1|:c74491-73856  \\\n",
       "Zeller_fecal_colorectal_cancer                                                 0   \n",
       "Zeller_fecal_colorectal_cancer.1                                               0   \n",
       "Zeller_fecal_colorectal_cancer.2                                               0   \n",
       "Zeller_fecal_colorectal_cancer.3                                               0   \n",
       "Zeller_fecal_colorectal_cancer.4                                               0   \n",
       "\n",
       "dataset_name                     gi|89892746|ref|NC_007907.1|:41100-41594  \n",
       "Zeller_fecal_colorectal_cancer                                          0  \n",
       "Zeller_fecal_colorectal_cancer.1                                        0  \n",
       "Zeller_fecal_colorectal_cancer.2                                        0  \n",
       "Zeller_fecal_colorectal_cancer.3                                        0  \n",
       "Zeller_fecal_colorectal_cancer.4                                        0  \n",
       "\n",
       "[5 rows x 108244 columns]"
      ]
     },
     "execution_count": 257,
     "metadata": {},
     "output_type": "execute_result"
    }
   ],
   "source": [
    "markers[0].head()"
   ]
  },
  {
   "cell_type": "code",
   "execution_count": 280,
   "metadata": {},
   "outputs": [
    {
     "name": "stderr",
     "output_type": "stream",
     "text": [
      "[INFO 03-27 16:29:36] ax.modelbridge.dispatch_utils: Using Sobol generation strategy.\n",
      "[INFO 03-27 16:29:36] ax.service.managed_loop: Started full optimization with 8 steps.\n",
      "[INFO 03-27 16:29:36] ax.service.managed_loop: Running optimization trial 1...\n",
      "/Users/george/anaconda2/envs/dnabert/lib/python3.6/site-packages/pytorch_lightning/utilities/distributed.py:51: UserWarning:\n",
      "\n",
      "Checkpoint directory checkpoint_dir exists and is not empty.\n",
      "\n",
      "GPU available: False, used: False\n",
      "TPU available: None, using: 0 TPU cores\n",
      "/Users/george/anaconda2/envs/dnabert/lib/python3.6/site-packages/pytorch_lightning/utilities/distributed.py:51: UserWarning:\n",
      "\n",
      "The dataloader, val dataloader 0, does not have many workers which may be a bottleneck. Consider increasing the value of the `num_workers` argument` (try 8 which is the number of cpus on this machine) in the `DataLoader` init to improve performance.\n",
      "\n",
      "/Users/george/anaconda2/envs/dnabert/lib/python3.6/site-packages/torch/nn/modules/container.py:117: UserWarning:\n",
      "\n",
      "Implicit dimension choice for softmax has been deprecated. Change the call to include dim=X as an argument.\n",
      "\n",
      "/Users/george/anaconda2/envs/dnabert/lib/python3.6/site-packages/pytorch_lightning/utilities/distributed.py:51: UserWarning:\n",
      "\n",
      "The dataloader, train dataloader, does not have many workers which may be a bottleneck. Consider increasing the value of the `num_workers` argument` (try 8 which is the number of cpus on this machine) in the `DataLoader` init to improve performance.\n",
      "\n",
      "[INFO 03-27 16:30:46] ax.modelbridge.dispatch_utils: Using Sobol generation strategy.\n",
      "[INFO 03-27 16:30:46] ax.service.managed_loop: Started full optimization with 10 steps.\n",
      "[INFO 03-27 16:30:46] ax.service.managed_loop: Running optimization trial 1...\n",
      "[INFO 03-27 16:30:46] ax.service.managed_loop: Running optimization trial 2...\n",
      "[INFO 03-27 16:30:46] ax.service.managed_loop: Running optimization trial 3...\n",
      "[INFO 03-27 16:30:46] ax.service.managed_loop: Running optimization trial 4...\n",
      "[INFO 03-27 16:30:46] ax.service.managed_loop: Running optimization trial 5...\n",
      "[INFO 03-27 16:30:46] ax.service.managed_loop: Running optimization trial 6...\n",
      "[INFO 03-27 16:30:46] ax.service.managed_loop: Running optimization trial 7...\n",
      "[INFO 03-27 16:30:46] ax.service.managed_loop: Running optimization trial 8...\n",
      "[INFO 03-27 16:30:46] ax.service.managed_loop: Running optimization trial 9...\n",
      "[INFO 03-27 16:30:46] ax.service.managed_loop: Running optimization trial 10...\n",
      "[INFO 03-27 16:30:47] ax.service.managed_loop: Running optimization trial 2...\n",
      "/Users/george/anaconda2/envs/dnabert/lib/python3.6/site-packages/pytorch_lightning/utilities/distributed.py:51: UserWarning:\n",
      "\n",
      "Checkpoint directory checkpoint_dir exists and is not empty.\n",
      "\n",
      "GPU available: False, used: False\n",
      "TPU available: None, using: 0 TPU cores\n",
      "/Users/george/anaconda2/envs/dnabert/lib/python3.6/site-packages/pytorch_lightning/utilities/distributed.py:51: UserWarning:\n",
      "\n",
      "The dataloader, val dataloader 0, does not have many workers which may be a bottleneck. Consider increasing the value of the `num_workers` argument` (try 8 which is the number of cpus on this machine) in the `DataLoader` init to improve performance.\n",
      "\n",
      "/Users/george/anaconda2/envs/dnabert/lib/python3.6/site-packages/torch/nn/modules/container.py:117: UserWarning:\n",
      "\n",
      "Implicit dimension choice for softmax has been deprecated. Change the call to include dim=X as an argument.\n",
      "\n",
      "/Users/george/anaconda2/envs/dnabert/lib/python3.6/site-packages/pytorch_lightning/utilities/distributed.py:51: UserWarning:\n",
      "\n",
      "The dataloader, train dataloader, does not have many workers which may be a bottleneck. Consider increasing the value of the `num_workers` argument` (try 8 which is the number of cpus on this machine) in the `DataLoader` init to improve performance.\n",
      "\n",
      "[INFO 03-27 16:32:06] ax.modelbridge.dispatch_utils: Using Sobol generation strategy.\n",
      "[INFO 03-27 16:32:06] ax.service.managed_loop: Started full optimization with 10 steps.\n",
      "[INFO 03-27 16:32:06] ax.service.managed_loop: Running optimization trial 1...\n",
      "[INFO 03-27 16:32:09] ax.service.managed_loop: Running optimization trial 2...\n",
      "[INFO 03-27 16:32:09] ax.service.managed_loop: Running optimization trial 3...\n",
      "[INFO 03-27 16:32:12] ax.service.managed_loop: Running optimization trial 4...\n",
      "[INFO 03-27 16:32:17] ax.service.managed_loop: Running optimization trial 5...\n",
      "[INFO 03-27 16:32:18] ax.service.managed_loop: Running optimization trial 6...\n",
      "[INFO 03-27 16:32:20] ax.service.managed_loop: Running optimization trial 7...\n",
      "[INFO 03-27 16:32:24] ax.service.managed_loop: Running optimization trial 8...\n",
      "[INFO 03-27 16:32:25] ax.service.managed_loop: Running optimization trial 9...\n",
      "[INFO 03-27 16:32:27] ax.service.managed_loop: Running optimization trial 10...\n",
      "[INFO 03-27 16:32:34] ax.service.managed_loop: Running optimization trial 3...\n",
      "/Users/george/anaconda2/envs/dnabert/lib/python3.6/site-packages/pytorch_lightning/utilities/distributed.py:51: UserWarning:\n",
      "\n",
      "Checkpoint directory checkpoint_dir exists and is not empty.\n",
      "\n",
      "GPU available: False, used: False\n",
      "TPU available: None, using: 0 TPU cores\n",
      "/Users/george/anaconda2/envs/dnabert/lib/python3.6/site-packages/pytorch_lightning/utilities/distributed.py:51: UserWarning:\n",
      "\n",
      "The dataloader, val dataloader 0, does not have many workers which may be a bottleneck. Consider increasing the value of the `num_workers` argument` (try 8 which is the number of cpus on this machine) in the `DataLoader` init to improve performance.\n",
      "\n",
      "/Users/george/anaconda2/envs/dnabert/lib/python3.6/site-packages/torch/nn/modules/container.py:117: UserWarning:\n",
      "\n",
      "Implicit dimension choice for softmax has been deprecated. Change the call to include dim=X as an argument.\n",
      "\n",
      "/Users/george/anaconda2/envs/dnabert/lib/python3.6/site-packages/pytorch_lightning/utilities/distributed.py:51: UserWarning:\n",
      "\n",
      "The dataloader, train dataloader, does not have many workers which may be a bottleneck. Consider increasing the value of the `num_workers` argument` (try 8 which is the number of cpus on this machine) in the `DataLoader` init to improve performance.\n",
      "\n",
      "[INFO 03-27 16:36:04] ax.modelbridge.dispatch_utils: Using Sobol generation strategy.\n",
      "[INFO 03-27 16:36:04] ax.service.managed_loop: Started full optimization with 10 steps.\n",
      "[INFO 03-27 16:36:04] ax.service.managed_loop: Running optimization trial 1...\n",
      "[INFO 03-27 16:36:05] ax.service.managed_loop: Running optimization trial 2...\n",
      "[INFO 03-27 16:36:08] ax.service.managed_loop: Running optimization trial 3...\n",
      "[INFO 03-27 16:36:10] ax.service.managed_loop: Running optimization trial 4...\n",
      "[INFO 03-27 16:36:11] ax.service.managed_loop: Running optimization trial 5...\n",
      "[INFO 03-27 16:36:12] ax.service.managed_loop: Running optimization trial 6...\n",
      "[INFO 03-27 16:36:16] ax.service.managed_loop: Running optimization trial 7...\n",
      "[INFO 03-27 16:36:19] ax.service.managed_loop: Running optimization trial 8...\n",
      "[INFO 03-27 16:36:22] ax.service.managed_loop: Running optimization trial 9...\n",
      "[INFO 03-27 16:36:23] ax.service.managed_loop: Running optimization trial 10...\n",
      "[INFO 03-27 16:36:28] ax.service.managed_loop: Running optimization trial 4...\n",
      "/Users/george/anaconda2/envs/dnabert/lib/python3.6/site-packages/pytorch_lightning/utilities/distributed.py:51: UserWarning:\n",
      "\n",
      "Checkpoint directory checkpoint_dir exists and is not empty.\n",
      "\n",
      "GPU available: False, used: False\n",
      "TPU available: None, using: 0 TPU cores\n",
      "/Users/george/anaconda2/envs/dnabert/lib/python3.6/site-packages/pytorch_lightning/utilities/distributed.py:51: UserWarning:\n",
      "\n",
      "The dataloader, val dataloader 0, does not have many workers which may be a bottleneck. Consider increasing the value of the `num_workers` argument` (try 8 which is the number of cpus on this machine) in the `DataLoader` init to improve performance.\n",
      "\n",
      "/Users/george/anaconda2/envs/dnabert/lib/python3.6/site-packages/torch/nn/modules/container.py:117: UserWarning:\n",
      "\n",
      "Implicit dimension choice for softmax has been deprecated. Change the call to include dim=X as an argument.\n",
      "\n",
      "/Users/george/anaconda2/envs/dnabert/lib/python3.6/site-packages/pytorch_lightning/utilities/distributed.py:51: UserWarning:\n",
      "\n",
      "The dataloader, train dataloader, does not have many workers which may be a bottleneck. Consider increasing the value of the `num_workers` argument` (try 8 which is the number of cpus on this machine) in the `DataLoader` init to improve performance.\n",
      "\n"
     ]
    },
    {
     "name": "stderr",
     "output_type": "stream",
     "text": [
      "[INFO 03-27 16:38:27] ax.modelbridge.dispatch_utils: Using Sobol generation strategy.\n",
      "[INFO 03-27 16:38:27] ax.service.managed_loop: Started full optimization with 10 steps.\n",
      "[INFO 03-27 16:38:27] ax.service.managed_loop: Running optimization trial 1...\n",
      "[INFO 03-27 16:38:27] ax.service.managed_loop: Running optimization trial 2...\n",
      "[INFO 03-27 16:38:27] ax.service.managed_loop: Running optimization trial 3...\n",
      "[INFO 03-27 16:38:28] ax.service.managed_loop: Running optimization trial 4...\n",
      "[INFO 03-27 16:38:28] ax.service.managed_loop: Running optimization trial 5...\n",
      "[INFO 03-27 16:38:28] ax.service.managed_loop: Running optimization trial 6...\n",
      "[INFO 03-27 16:38:28] ax.service.managed_loop: Running optimization trial 7...\n",
      "[INFO 03-27 16:38:28] ax.service.managed_loop: Running optimization trial 8...\n",
      "[INFO 03-27 16:38:28] ax.service.managed_loop: Running optimization trial 9...\n",
      "[INFO 03-27 16:38:28] ax.service.managed_loop: Running optimization trial 10...\n",
      "[INFO 03-27 16:38:28] ax.service.managed_loop: Running optimization trial 5...\n",
      "/Users/george/anaconda2/envs/dnabert/lib/python3.6/site-packages/pytorch_lightning/utilities/distributed.py:51: UserWarning:\n",
      "\n",
      "Checkpoint directory checkpoint_dir exists and is not empty.\n",
      "\n",
      "GPU available: False, used: False\n",
      "TPU available: None, using: 0 TPU cores\n",
      "/Users/george/anaconda2/envs/dnabert/lib/python3.6/site-packages/pytorch_lightning/utilities/distributed.py:51: UserWarning:\n",
      "\n",
      "The dataloader, val dataloader 0, does not have many workers which may be a bottleneck. Consider increasing the value of the `num_workers` argument` (try 8 which is the number of cpus on this machine) in the `DataLoader` init to improve performance.\n",
      "\n",
      "/Users/george/anaconda2/envs/dnabert/lib/python3.6/site-packages/torch/nn/modules/container.py:117: UserWarning:\n",
      "\n",
      "Implicit dimension choice for softmax has been deprecated. Change the call to include dim=X as an argument.\n",
      "\n",
      "/Users/george/anaconda2/envs/dnabert/lib/python3.6/site-packages/pytorch_lightning/utilities/distributed.py:51: UserWarning:\n",
      "\n",
      "The dataloader, train dataloader, does not have many workers which may be a bottleneck. Consider increasing the value of the `num_workers` argument` (try 8 which is the number of cpus on this machine) in the `DataLoader` init to improve performance.\n",
      "\n",
      "[INFO 03-27 16:39:37] ax.modelbridge.dispatch_utils: Using Sobol generation strategy.\n",
      "[INFO 03-27 16:39:37] ax.service.managed_loop: Started full optimization with 10 steps.\n",
      "[INFO 03-27 16:39:37] ax.service.managed_loop: Running optimization trial 1...\n",
      "[INFO 03-27 16:39:37] ax.service.managed_loop: Running optimization trial 2...\n",
      "[INFO 03-27 16:39:37] ax.service.managed_loop: Running optimization trial 3...\n",
      "[INFO 03-27 16:39:37] ax.service.managed_loop: Running optimization trial 4...\n",
      "[INFO 03-27 16:39:37] ax.service.managed_loop: Running optimization trial 5...\n",
      "[INFO 03-27 16:39:37] ax.service.managed_loop: Running optimization trial 6...\n",
      "[INFO 03-27 16:39:37] ax.service.managed_loop: Running optimization trial 7...\n",
      "[INFO 03-27 16:39:37] ax.service.managed_loop: Running optimization trial 8...\n",
      "[INFO 03-27 16:39:38] ax.service.managed_loop: Running optimization trial 9...\n",
      "[INFO 03-27 16:39:38] ax.service.managed_loop: Running optimization trial 10...\n",
      "[INFO 03-27 16:39:38] ax.service.managed_loop: Running optimization trial 6...\n",
      "/Users/george/anaconda2/envs/dnabert/lib/python3.6/site-packages/pytorch_lightning/utilities/distributed.py:51: UserWarning:\n",
      "\n",
      "Checkpoint directory checkpoint_dir exists and is not empty.\n",
      "\n",
      "GPU available: False, used: False\n",
      "TPU available: None, using: 0 TPU cores\n",
      "/Users/george/anaconda2/envs/dnabert/lib/python3.6/site-packages/pytorch_lightning/utilities/distributed.py:51: UserWarning:\n",
      "\n",
      "The dataloader, val dataloader 0, does not have many workers which may be a bottleneck. Consider increasing the value of the `num_workers` argument` (try 8 which is the number of cpus on this machine) in the `DataLoader` init to improve performance.\n",
      "\n",
      "/Users/george/anaconda2/envs/dnabert/lib/python3.6/site-packages/torch/nn/modules/container.py:117: UserWarning:\n",
      "\n",
      "Implicit dimension choice for softmax has been deprecated. Change the call to include dim=X as an argument.\n",
      "\n",
      "/Users/george/anaconda2/envs/dnabert/lib/python3.6/site-packages/pytorch_lightning/utilities/distributed.py:51: UserWarning:\n",
      "\n",
      "The dataloader, train dataloader, does not have many workers which may be a bottleneck. Consider increasing the value of the `num_workers` argument` (try 8 which is the number of cpus on this machine) in the `DataLoader` init to improve performance.\n",
      "\n",
      "[INFO 03-27 16:41:13] ax.modelbridge.dispatch_utils: Using Sobol generation strategy.\n",
      "[INFO 03-27 16:41:13] ax.service.managed_loop: Started full optimization with 10 steps.\n",
      "[INFO 03-27 16:41:13] ax.service.managed_loop: Running optimization trial 1...\n",
      "[INFO 03-27 16:41:13] ax.service.managed_loop: Running optimization trial 2...\n",
      "[INFO 03-27 16:41:13] ax.service.managed_loop: Running optimization trial 3...\n",
      "[INFO 03-27 16:41:13] ax.service.managed_loop: Running optimization trial 4...\n",
      "[INFO 03-27 16:41:13] ax.service.managed_loop: Running optimization trial 5...\n",
      "[INFO 03-27 16:41:14] ax.service.managed_loop: Running optimization trial 6...\n",
      "[INFO 03-27 16:41:14] ax.service.managed_loop: Running optimization trial 7...\n",
      "[INFO 03-27 16:41:14] ax.service.managed_loop: Running optimization trial 8...\n",
      "[INFO 03-27 16:41:14] ax.service.managed_loop: Running optimization trial 9...\n",
      "[INFO 03-27 16:41:14] ax.service.managed_loop: Running optimization trial 10...\n",
      "[INFO 03-27 16:41:14] ax.service.managed_loop: Running optimization trial 7...\n",
      "/Users/george/anaconda2/envs/dnabert/lib/python3.6/site-packages/pytorch_lightning/utilities/distributed.py:51: UserWarning:\n",
      "\n",
      "Checkpoint directory checkpoint_dir exists and is not empty.\n",
      "\n",
      "GPU available: False, used: False\n",
      "TPU available: None, using: 0 TPU cores\n",
      "/Users/george/anaconda2/envs/dnabert/lib/python3.6/site-packages/pytorch_lightning/utilities/distributed.py:51: UserWarning:\n",
      "\n",
      "The dataloader, val dataloader 0, does not have many workers which may be a bottleneck. Consider increasing the value of the `num_workers` argument` (try 8 which is the number of cpus on this machine) in the `DataLoader` init to improve performance.\n",
      "\n",
      "/Users/george/anaconda2/envs/dnabert/lib/python3.6/site-packages/torch/nn/modules/container.py:117: UserWarning:\n",
      "\n",
      "Implicit dimension choice for softmax has been deprecated. Change the call to include dim=X as an argument.\n",
      "\n",
      "/Users/george/anaconda2/envs/dnabert/lib/python3.6/site-packages/pytorch_lightning/utilities/distributed.py:51: UserWarning:\n",
      "\n",
      "The dataloader, train dataloader, does not have many workers which may be a bottleneck. Consider increasing the value of the `num_workers` argument` (try 8 which is the number of cpus on this machine) in the `DataLoader` init to improve performance.\n",
      "\n",
      "[INFO 03-27 16:44:43] ax.modelbridge.dispatch_utils: Using Sobol generation strategy.\n",
      "[INFO 03-27 16:44:43] ax.service.managed_loop: Started full optimization with 10 steps.\n",
      "[INFO 03-27 16:44:43] ax.service.managed_loop: Running optimization trial 1...\n",
      "[INFO 03-27 16:44:43] ax.service.managed_loop: Running optimization trial 2...\n",
      "[INFO 03-27 16:44:43] ax.service.managed_loop: Running optimization trial 3...\n",
      "[INFO 03-27 16:44:43] ax.service.managed_loop: Running optimization trial 4...\n",
      "[INFO 03-27 16:44:43] ax.service.managed_loop: Running optimization trial 5...\n",
      "[INFO 03-27 16:44:43] ax.service.managed_loop: Running optimization trial 6...\n",
      "[INFO 03-27 16:44:44] ax.service.managed_loop: Running optimization trial 7...\n",
      "[INFO 03-27 16:44:44] ax.service.managed_loop: Running optimization trial 8...\n",
      "[INFO 03-27 16:44:44] ax.service.managed_loop: Running optimization trial 9...\n",
      "[INFO 03-27 16:44:44] ax.service.managed_loop: Running optimization trial 10...\n",
      "[INFO 03-27 16:44:45] ax.service.managed_loop: Running optimization trial 8...\n",
      "/Users/george/anaconda2/envs/dnabert/lib/python3.6/site-packages/pytorch_lightning/utilities/distributed.py:51: UserWarning:\n",
      "\n",
      "Checkpoint directory checkpoint_dir exists and is not empty.\n",
      "\n",
      "GPU available: False, used: False\n",
      "TPU available: None, using: 0 TPU cores\n",
      "/Users/george/anaconda2/envs/dnabert/lib/python3.6/site-packages/pytorch_lightning/utilities/distributed.py:51: UserWarning:\n",
      "\n",
      "The dataloader, val dataloader 0, does not have many workers which may be a bottleneck. Consider increasing the value of the `num_workers` argument` (try 8 which is the number of cpus on this machine) in the `DataLoader` init to improve performance.\n",
      "\n",
      "/Users/george/anaconda2/envs/dnabert/lib/python3.6/site-packages/torch/nn/modules/container.py:117: UserWarning:\n",
      "\n",
      "Implicit dimension choice for softmax has been deprecated. Change the call to include dim=X as an argument.\n",
      "\n",
      "/Users/george/anaconda2/envs/dnabert/lib/python3.6/site-packages/pytorch_lightning/utilities/distributed.py:51: UserWarning:\n",
      "\n",
      "The dataloader, train dataloader, does not have many workers which may be a bottleneck. Consider increasing the value of the `num_workers` argument` (try 8 which is the number of cpus on this machine) in the `DataLoader` init to improve performance.\n",
      "\n"
     ]
    },
    {
     "name": "stderr",
     "output_type": "stream",
     "text": [
      "[INFO 03-27 16:46:08] ax.modelbridge.dispatch_utils: Using Sobol generation strategy.\n",
      "[INFO 03-27 16:46:08] ax.service.managed_loop: Started full optimization with 10 steps.\n",
      "[INFO 03-27 16:46:08] ax.service.managed_loop: Running optimization trial 1...\n",
      "[INFO 03-27 16:46:09] ax.service.managed_loop: Running optimization trial 2...\n",
      "[INFO 03-27 16:46:14] ax.service.managed_loop: Running optimization trial 3...\n",
      "[INFO 03-27 16:46:19] ax.service.managed_loop: Running optimization trial 4...\n",
      "[INFO 03-27 16:46:26] ax.service.managed_loop: Running optimization trial 5...\n",
      "[INFO 03-27 16:46:26] ax.service.managed_loop: Running optimization trial 6...\n",
      "[INFO 03-27 16:46:30] ax.service.managed_loop: Running optimization trial 7...\n",
      "[INFO 03-27 16:46:33] ax.service.managed_loop: Running optimization trial 8...\n",
      "[INFO 03-27 16:46:38] ax.service.managed_loop: Running optimization trial 9...\n",
      "[INFO 03-27 16:46:40] ax.service.managed_loop: Running optimization trial 10...\n"
     ]
    },
    {
     "name": "stdout",
     "output_type": "stream",
     "text": [
      "Got through the0th Datase!\n"
     ]
    },
    {
     "name": "stderr",
     "output_type": "stream",
     "text": [
      "[INFO 03-27 16:46:47] ax.modelbridge.dispatch_utils: Using Sobol generation strategy.\n",
      "[INFO 03-27 16:46:47] ax.service.managed_loop: Started full optimization with 8 steps.\n",
      "[INFO 03-27 16:46:47] ax.service.managed_loop: Running optimization trial 1...\n",
      "/Users/george/anaconda2/envs/dnabert/lib/python3.6/site-packages/pytorch_lightning/utilities/distributed.py:51: UserWarning:\n",
      "\n",
      "Checkpoint directory checkpoint_dir exists and is not empty.\n",
      "\n",
      "GPU available: False, used: False\n",
      "TPU available: None, using: 0 TPU cores\n",
      "/Users/george/anaconda2/envs/dnabert/lib/python3.6/site-packages/pytorch_lightning/utilities/distributed.py:51: UserWarning:\n",
      "\n",
      "The dataloader, val dataloader 0, does not have many workers which may be a bottleneck. Consider increasing the value of the `num_workers` argument` (try 8 which is the number of cpus on this machine) in the `DataLoader` init to improve performance.\n",
      "\n",
      "/Users/george/anaconda2/envs/dnabert/lib/python3.6/site-packages/torch/nn/modules/container.py:117: UserWarning:\n",
      "\n",
      "Implicit dimension choice for softmax has been deprecated. Change the call to include dim=X as an argument.\n",
      "\n",
      "/Users/george/anaconda2/envs/dnabert/lib/python3.6/site-packages/pytorch_lightning/utilities/distributed.py:51: UserWarning:\n",
      "\n",
      "The dataloader, train dataloader, does not have many workers which may be a bottleneck. Consider increasing the value of the `num_workers` argument` (try 8 which is the number of cpus on this machine) in the `DataLoader` init to improve performance.\n",
      "\n",
      "[INFO 03-27 16:48:01] ax.modelbridge.dispatch_utils: Using Sobol generation strategy.\n",
      "[INFO 03-27 16:48:01] ax.service.managed_loop: Started full optimization with 10 steps.\n",
      "[INFO 03-27 16:48:01] ax.service.managed_loop: Running optimization trial 1...\n",
      "[INFO 03-27 16:48:02] ax.service.managed_loop: Running optimization trial 2...\n",
      "[INFO 03-27 16:48:08] ax.service.managed_loop: Running optimization trial 3...\n",
      "[INFO 03-27 16:48:12] ax.service.managed_loop: Running optimization trial 4...\n",
      "[INFO 03-27 16:48:19] ax.service.managed_loop: Running optimization trial 5...\n",
      "[INFO 03-27 16:48:25] ax.service.managed_loop: Running optimization trial 6...\n",
      "[INFO 03-27 16:48:26] ax.service.managed_loop: Running optimization trial 7...\n",
      "[INFO 03-27 16:48:33] ax.service.managed_loop: Running optimization trial 8...\n",
      "[INFO 03-27 16:48:38] ax.service.managed_loop: Running optimization trial 9...\n",
      "[INFO 03-27 16:48:43] ax.service.managed_loop: Running optimization trial 10...\n",
      "[INFO 03-27 16:48:46] ax.service.managed_loop: Running optimization trial 2...\n",
      "/Users/george/anaconda2/envs/dnabert/lib/python3.6/site-packages/pytorch_lightning/utilities/distributed.py:51: UserWarning:\n",
      "\n",
      "Checkpoint directory checkpoint_dir exists and is not empty.\n",
      "\n",
      "GPU available: False, used: False\n",
      "TPU available: None, using: 0 TPU cores\n",
      "/Users/george/anaconda2/envs/dnabert/lib/python3.6/site-packages/pytorch_lightning/utilities/distributed.py:51: UserWarning:\n",
      "\n",
      "The dataloader, val dataloader 0, does not have many workers which may be a bottleneck. Consider increasing the value of the `num_workers` argument` (try 8 which is the number of cpus on this machine) in the `DataLoader` init to improve performance.\n",
      "\n",
      "/Users/george/anaconda2/envs/dnabert/lib/python3.6/site-packages/torch/nn/modules/container.py:117: UserWarning:\n",
      "\n",
      "Implicit dimension choice for softmax has been deprecated. Change the call to include dim=X as an argument.\n",
      "\n",
      "/Users/george/anaconda2/envs/dnabert/lib/python3.6/site-packages/pytorch_lightning/utilities/distributed.py:51: UserWarning:\n",
      "\n",
      "The dataloader, train dataloader, does not have many workers which may be a bottleneck. Consider increasing the value of the `num_workers` argument` (try 8 which is the number of cpus on this machine) in the `DataLoader` init to improve performance.\n",
      "\n",
      "[INFO 03-27 16:50:15] ax.modelbridge.dispatch_utils: Using Sobol generation strategy.\n",
      "[INFO 03-27 16:50:15] ax.service.managed_loop: Started full optimization with 10 steps.\n",
      "[INFO 03-27 16:50:15] ax.service.managed_loop: Running optimization trial 1...\n",
      "[INFO 03-27 16:50:15] ax.service.managed_loop: Running optimization trial 2...\n",
      "[INFO 03-27 16:50:16] ax.service.managed_loop: Running optimization trial 3...\n",
      "[INFO 03-27 16:50:16] ax.service.managed_loop: Running optimization trial 4...\n",
      "[INFO 03-27 16:50:16] ax.service.managed_loop: Running optimization trial 5...\n",
      "[INFO 03-27 16:50:16] ax.service.managed_loop: Running optimization trial 6...\n",
      "[INFO 03-27 16:50:16] ax.service.managed_loop: Running optimization trial 7...\n",
      "[INFO 03-27 16:50:16] ax.service.managed_loop: Running optimization trial 8...\n",
      "[INFO 03-27 16:50:16] ax.service.managed_loop: Running optimization trial 9...\n",
      "[INFO 03-27 16:50:16] ax.service.managed_loop: Running optimization trial 10...\n",
      "[INFO 03-27 16:50:17] ax.service.managed_loop: Running optimization trial 3...\n",
      "/Users/george/anaconda2/envs/dnabert/lib/python3.6/site-packages/pytorch_lightning/utilities/distributed.py:51: UserWarning:\n",
      "\n",
      "Checkpoint directory checkpoint_dir exists and is not empty.\n",
      "\n",
      "GPU available: False, used: False\n",
      "TPU available: None, using: 0 TPU cores\n",
      "/Users/george/anaconda2/envs/dnabert/lib/python3.6/site-packages/pytorch_lightning/utilities/distributed.py:51: UserWarning:\n",
      "\n",
      "The dataloader, val dataloader 0, does not have many workers which may be a bottleneck. Consider increasing the value of the `num_workers` argument` (try 8 which is the number of cpus on this machine) in the `DataLoader` init to improve performance.\n",
      "\n",
      "/Users/george/anaconda2/envs/dnabert/lib/python3.6/site-packages/torch/nn/modules/container.py:117: UserWarning:\n",
      "\n",
      "Implicit dimension choice for softmax has been deprecated. Change the call to include dim=X as an argument.\n",
      "\n",
      "/Users/george/anaconda2/envs/dnabert/lib/python3.6/site-packages/pytorch_lightning/utilities/distributed.py:51: UserWarning:\n",
      "\n",
      "The dataloader, train dataloader, does not have many workers which may be a bottleneck. Consider increasing the value of the `num_workers` argument` (try 8 which is the number of cpus on this machine) in the `DataLoader` init to improve performance.\n",
      "\n",
      "[INFO 03-27 16:50:54] ax.modelbridge.dispatch_utils: Using Sobol generation strategy.\n",
      "[INFO 03-27 16:50:54] ax.service.managed_loop: Started full optimization with 10 steps.\n",
      "[INFO 03-27 16:50:54] ax.service.managed_loop: Running optimization trial 1...\n",
      "[INFO 03-27 16:50:54] ax.service.managed_loop: Running optimization trial 2...\n",
      "[INFO 03-27 16:50:54] ax.service.managed_loop: Running optimization trial 3...\n",
      "[INFO 03-27 16:50:54] ax.service.managed_loop: Running optimization trial 4...\n",
      "[INFO 03-27 16:50:55] ax.service.managed_loop: Running optimization trial 5...\n",
      "[INFO 03-27 16:50:55] ax.service.managed_loop: Running optimization trial 6...\n",
      "[INFO 03-27 16:50:55] ax.service.managed_loop: Running optimization trial 7...\n",
      "[INFO 03-27 16:50:55] ax.service.managed_loop: Running optimization trial 8...\n",
      "[INFO 03-27 16:50:55] ax.service.managed_loop: Running optimization trial 9...\n",
      "[INFO 03-27 16:50:55] ax.service.managed_loop: Running optimization trial 10...\n",
      "[INFO 03-27 16:50:55] ax.service.managed_loop: Running optimization trial 4...\n",
      "/Users/george/anaconda2/envs/dnabert/lib/python3.6/site-packages/pytorch_lightning/utilities/distributed.py:51: UserWarning:\n",
      "\n",
      "Checkpoint directory checkpoint_dir exists and is not empty.\n",
      "\n",
      "GPU available: False, used: False\n",
      "TPU available: None, using: 0 TPU cores\n",
      "/Users/george/anaconda2/envs/dnabert/lib/python3.6/site-packages/pytorch_lightning/utilities/distributed.py:51: UserWarning:\n",
      "\n",
      "The dataloader, val dataloader 0, does not have many workers which may be a bottleneck. Consider increasing the value of the `num_workers` argument` (try 8 which is the number of cpus on this machine) in the `DataLoader` init to improve performance.\n",
      "\n",
      "/Users/george/anaconda2/envs/dnabert/lib/python3.6/site-packages/torch/nn/modules/container.py:117: UserWarning:\n",
      "\n",
      "Implicit dimension choice for softmax has been deprecated. Change the call to include dim=X as an argument.\n",
      "\n",
      "/Users/george/anaconda2/envs/dnabert/lib/python3.6/site-packages/pytorch_lightning/utilities/distributed.py:51: UserWarning:\n",
      "\n",
      "The dataloader, train dataloader, does not have many workers which may be a bottleneck. Consider increasing the value of the `num_workers` argument` (try 8 which is the number of cpus on this machine) in the `DataLoader` init to improve performance.\n",
      "\n"
     ]
    },
    {
     "name": "stderr",
     "output_type": "stream",
     "text": [
      "[INFO 03-27 16:52:16] ax.modelbridge.dispatch_utils: Using Sobol generation strategy.\n",
      "[INFO 03-27 16:52:16] ax.service.managed_loop: Started full optimization with 10 steps.\n",
      "[INFO 03-27 16:52:16] ax.service.managed_loop: Running optimization trial 1...\n",
      "[INFO 03-27 16:52:21] ax.service.managed_loop: Running optimization trial 2...\n",
      "[INFO 03-27 16:52:21] ax.service.managed_loop: Running optimization trial 3...\n",
      "[INFO 03-27 16:52:22] ax.service.managed_loop: Running optimization trial 4...\n",
      "[INFO 03-27 16:52:29] ax.service.managed_loop: Running optimization trial 5...\n",
      "[INFO 03-27 16:52:32] ax.service.managed_loop: Running optimization trial 6...\n",
      "[INFO 03-27 16:52:35] ax.service.managed_loop: Running optimization trial 7...\n",
      "[INFO 03-27 16:52:38] ax.service.managed_loop: Running optimization trial 8...\n",
      "[INFO 03-27 16:52:43] ax.service.managed_loop: Running optimization trial 9...\n",
      "[INFO 03-27 16:52:47] ax.service.managed_loop: Running optimization trial 10...\n",
      "[INFO 03-27 16:52:48] ax.service.managed_loop: Running optimization trial 5...\n",
      "/Users/george/anaconda2/envs/dnabert/lib/python3.6/site-packages/pytorch_lightning/utilities/distributed.py:51: UserWarning:\n",
      "\n",
      "Checkpoint directory checkpoint_dir exists and is not empty.\n",
      "\n",
      "GPU available: False, used: False\n",
      "TPU available: None, using: 0 TPU cores\n",
      "/Users/george/anaconda2/envs/dnabert/lib/python3.6/site-packages/pytorch_lightning/utilities/distributed.py:51: UserWarning:\n",
      "\n",
      "The dataloader, val dataloader 0, does not have many workers which may be a bottleneck. Consider increasing the value of the `num_workers` argument` (try 8 which is the number of cpus on this machine) in the `DataLoader` init to improve performance.\n",
      "\n",
      "/Users/george/anaconda2/envs/dnabert/lib/python3.6/site-packages/torch/nn/modules/container.py:117: UserWarning:\n",
      "\n",
      "Implicit dimension choice for softmax has been deprecated. Change the call to include dim=X as an argument.\n",
      "\n",
      "/Users/george/anaconda2/envs/dnabert/lib/python3.6/site-packages/pytorch_lightning/utilities/distributed.py:51: UserWarning:\n",
      "\n",
      "The dataloader, train dataloader, does not have many workers which may be a bottleneck. Consider increasing the value of the `num_workers` argument` (try 8 which is the number of cpus on this machine) in the `DataLoader` init to improve performance.\n",
      "\n",
      "[INFO 03-27 16:53:12] ax.modelbridge.dispatch_utils: Using Sobol generation strategy.\n",
      "[INFO 03-27 16:53:12] ax.service.managed_loop: Started full optimization with 10 steps.\n",
      "[INFO 03-27 16:53:12] ax.service.managed_loop: Running optimization trial 1...\n",
      "[INFO 03-27 16:53:12] ax.service.managed_loop: Running optimization trial 2...\n",
      "[INFO 03-27 16:53:12] ax.service.managed_loop: Running optimization trial 3...\n",
      "[INFO 03-27 16:53:12] ax.service.managed_loop: Running optimization trial 4...\n",
      "[INFO 03-27 16:53:12] ax.service.managed_loop: Running optimization trial 5...\n",
      "[INFO 03-27 16:53:12] ax.service.managed_loop: Running optimization trial 6...\n",
      "[INFO 03-27 16:53:12] ax.service.managed_loop: Running optimization trial 7...\n",
      "[INFO 03-27 16:53:12] ax.service.managed_loop: Running optimization trial 8...\n",
      "[INFO 03-27 16:53:12] ax.service.managed_loop: Running optimization trial 9...\n",
      "[INFO 03-27 16:53:12] ax.service.managed_loop: Running optimization trial 10...\n",
      "[INFO 03-27 16:53:13] ax.service.managed_loop: Running optimization trial 6...\n",
      "/Users/george/anaconda2/envs/dnabert/lib/python3.6/site-packages/pytorch_lightning/utilities/distributed.py:51: UserWarning:\n",
      "\n",
      "Checkpoint directory checkpoint_dir exists and is not empty.\n",
      "\n",
      "GPU available: False, used: False\n",
      "TPU available: None, using: 0 TPU cores\n",
      "/Users/george/anaconda2/envs/dnabert/lib/python3.6/site-packages/pytorch_lightning/utilities/distributed.py:51: UserWarning:\n",
      "\n",
      "The dataloader, val dataloader 0, does not have many workers which may be a bottleneck. Consider increasing the value of the `num_workers` argument` (try 8 which is the number of cpus on this machine) in the `DataLoader` init to improve performance.\n",
      "\n",
      "/Users/george/anaconda2/envs/dnabert/lib/python3.6/site-packages/torch/nn/modules/container.py:117: UserWarning:\n",
      "\n",
      "Implicit dimension choice for softmax has been deprecated. Change the call to include dim=X as an argument.\n",
      "\n",
      "/Users/george/anaconda2/envs/dnabert/lib/python3.6/site-packages/pytorch_lightning/utilities/distributed.py:51: UserWarning:\n",
      "\n",
      "The dataloader, train dataloader, does not have many workers which may be a bottleneck. Consider increasing the value of the `num_workers` argument` (try 8 which is the number of cpus on this machine) in the `DataLoader` init to improve performance.\n",
      "\n",
      "[INFO 03-27 16:54:44] ax.modelbridge.dispatch_utils: Using Sobol generation strategy.\n",
      "[INFO 03-27 16:54:44] ax.service.managed_loop: Started full optimization with 10 steps.\n",
      "[INFO 03-27 16:54:44] ax.service.managed_loop: Running optimization trial 1...\n",
      "[INFO 03-27 16:54:44] ax.service.managed_loop: Running optimization trial 2...\n",
      "[INFO 03-27 16:54:44] ax.service.managed_loop: Running optimization trial 3...\n",
      "[INFO 03-27 16:54:44] ax.service.managed_loop: Running optimization trial 4...\n",
      "[INFO 03-27 16:54:44] ax.service.managed_loop: Running optimization trial 5...\n",
      "[INFO 03-27 16:54:44] ax.service.managed_loop: Running optimization trial 6...\n",
      "[INFO 03-27 16:54:45] ax.service.managed_loop: Running optimization trial 7...\n",
      "[INFO 03-27 16:54:45] ax.service.managed_loop: Running optimization trial 8...\n",
      "[INFO 03-27 16:54:45] ax.service.managed_loop: Running optimization trial 9...\n",
      "[INFO 03-27 16:54:45] ax.service.managed_loop: Running optimization trial 10...\n",
      "[INFO 03-27 16:54:45] ax.service.managed_loop: Running optimization trial 7...\n",
      "/Users/george/anaconda2/envs/dnabert/lib/python3.6/site-packages/pytorch_lightning/utilities/distributed.py:51: UserWarning:\n",
      "\n",
      "Checkpoint directory checkpoint_dir exists and is not empty.\n",
      "\n",
      "GPU available: False, used: False\n",
      "TPU available: None, using: 0 TPU cores\n",
      "/Users/george/anaconda2/envs/dnabert/lib/python3.6/site-packages/pytorch_lightning/utilities/distributed.py:51: UserWarning:\n",
      "\n",
      "The dataloader, val dataloader 0, does not have many workers which may be a bottleneck. Consider increasing the value of the `num_workers` argument` (try 8 which is the number of cpus on this machine) in the `DataLoader` init to improve performance.\n",
      "\n",
      "/Users/george/anaconda2/envs/dnabert/lib/python3.6/site-packages/torch/nn/modules/container.py:117: UserWarning:\n",
      "\n",
      "Implicit dimension choice for softmax has been deprecated. Change the call to include dim=X as an argument.\n",
      "\n",
      "/Users/george/anaconda2/envs/dnabert/lib/python3.6/site-packages/pytorch_lightning/utilities/distributed.py:51: UserWarning:\n",
      "\n",
      "The dataloader, train dataloader, does not have many workers which may be a bottleneck. Consider increasing the value of the `num_workers` argument` (try 8 which is the number of cpus on this machine) in the `DataLoader` init to improve performance.\n",
      "\n",
      "[INFO 03-27 16:55:32] ax.modelbridge.dispatch_utils: Using Sobol generation strategy.\n",
      "[INFO 03-27 16:55:32] ax.service.managed_loop: Started full optimization with 10 steps.\n",
      "[INFO 03-27 16:55:32] ax.service.managed_loop: Running optimization trial 1...\n",
      "[INFO 03-27 16:55:33] ax.service.managed_loop: Running optimization trial 2...\n",
      "[INFO 03-27 16:55:36] ax.service.managed_loop: Running optimization trial 3...\n",
      "[INFO 03-27 16:55:38] ax.service.managed_loop: Running optimization trial 4...\n",
      "[INFO 03-27 16:55:40] ax.service.managed_loop: Running optimization trial 5...\n",
      "[INFO 03-27 16:55:45] ax.service.managed_loop: Running optimization trial 6...\n",
      "[INFO 03-27 16:55:46] ax.service.managed_loop: Running optimization trial 7...\n",
      "[INFO 03-27 16:55:51] ax.service.managed_loop: Running optimization trial 8...\n",
      "[INFO 03-27 16:55:55] ax.service.managed_loop: Running optimization trial 9...\n",
      "[INFO 03-27 16:55:58] ax.service.managed_loop: Running optimization trial 10...\n",
      "[INFO 03-27 16:56:05] ax.service.managed_loop: Running optimization trial 8...\n",
      "/Users/george/anaconda2/envs/dnabert/lib/python3.6/site-packages/pytorch_lightning/utilities/distributed.py:51: UserWarning:\n",
      "\n",
      "Checkpoint directory checkpoint_dir exists and is not empty.\n",
      "\n",
      "GPU available: False, used: False\n",
      "TPU available: None, using: 0 TPU cores\n",
      "/Users/george/anaconda2/envs/dnabert/lib/python3.6/site-packages/pytorch_lightning/utilities/distributed.py:51: UserWarning:\n",
      "\n",
      "The dataloader, val dataloader 0, does not have many workers which may be a bottleneck. Consider increasing the value of the `num_workers` argument` (try 8 which is the number of cpus on this machine) in the `DataLoader` init to improve performance.\n",
      "\n",
      "/Users/george/anaconda2/envs/dnabert/lib/python3.6/site-packages/torch/nn/modules/container.py:117: UserWarning:\n",
      "\n",
      "Implicit dimension choice for softmax has been deprecated. Change the call to include dim=X as an argument.\n",
      "\n",
      "/Users/george/anaconda2/envs/dnabert/lib/python3.6/site-packages/pytorch_lightning/utilities/distributed.py:51: UserWarning:\n",
      "\n",
      "The dataloader, train dataloader, does not have many workers which may be a bottleneck. Consider increasing the value of the `num_workers` argument` (try 8 which is the number of cpus on this machine) in the `DataLoader` init to improve performance.\n",
      "\n"
     ]
    },
    {
     "name": "stderr",
     "output_type": "stream",
     "text": [
      "[INFO 03-27 17:00:50] ax.modelbridge.dispatch_utils: Using Sobol generation strategy.\n",
      "[INFO 03-27 17:00:50] ax.service.managed_loop: Started full optimization with 10 steps.\n",
      "[INFO 03-27 17:00:50] ax.service.managed_loop: Running optimization trial 1...\n",
      "[INFO 03-27 17:00:52] ax.service.managed_loop: Running optimization trial 2...\n",
      "[INFO 03-27 17:00:55] ax.service.managed_loop: Running optimization trial 3...\n",
      "[INFO 03-27 17:00:58] ax.service.managed_loop: Running optimization trial 4...\n",
      "[INFO 03-27 17:01:04] ax.service.managed_loop: Running optimization trial 5...\n",
      "[INFO 03-27 17:01:11] ax.service.managed_loop: Running optimization trial 6...\n",
      "[INFO 03-27 17:01:15] ax.service.managed_loop: Running optimization trial 7...\n",
      "[INFO 03-27 17:01:16] ax.service.managed_loop: Running optimization trial 8...\n",
      "[INFO 03-27 17:01:21] ax.service.managed_loop: Running optimization trial 9...\n",
      "[INFO 03-27 17:01:28] ax.service.managed_loop: Running optimization trial 10...\n"
     ]
    },
    {
     "name": "stdout",
     "output_type": "stream",
     "text": [
      "Got through the1th Datase!\n"
     ]
    },
    {
     "name": "stderr",
     "output_type": "stream",
     "text": [
      "[INFO 03-27 17:01:34] ax.modelbridge.dispatch_utils: Using Sobol generation strategy.\n",
      "[INFO 03-27 17:01:34] ax.service.managed_loop: Started full optimization with 8 steps.\n",
      "[INFO 03-27 17:01:34] ax.service.managed_loop: Running optimization trial 1...\n",
      "/Users/george/anaconda2/envs/dnabert/lib/python3.6/site-packages/pytorch_lightning/utilities/distributed.py:51: UserWarning:\n",
      "\n",
      "Checkpoint directory checkpoint_dir exists and is not empty.\n",
      "\n",
      "GPU available: False, used: False\n",
      "TPU available: None, using: 0 TPU cores\n",
      "/Users/george/anaconda2/envs/dnabert/lib/python3.6/site-packages/pytorch_lightning/utilities/distributed.py:51: UserWarning:\n",
      "\n",
      "The dataloader, val dataloader 0, does not have many workers which may be a bottleneck. Consider increasing the value of the `num_workers` argument` (try 8 which is the number of cpus on this machine) in the `DataLoader` init to improve performance.\n",
      "\n",
      "/Users/george/anaconda2/envs/dnabert/lib/python3.6/site-packages/torch/nn/modules/container.py:117: UserWarning:\n",
      "\n",
      "Implicit dimension choice for softmax has been deprecated. Change the call to include dim=X as an argument.\n",
      "\n",
      "/Users/george/anaconda2/envs/dnabert/lib/python3.6/site-packages/pytorch_lightning/utilities/distributed.py:51: UserWarning:\n",
      "\n",
      "The dataloader, train dataloader, does not have many workers which may be a bottleneck. Consider increasing the value of the `num_workers` argument` (try 8 which is the number of cpus on this machine) in the `DataLoader` init to improve performance.\n",
      "\n",
      "[INFO 03-27 17:04:31] ax.modelbridge.dispatch_utils: Using Sobol generation strategy.\n",
      "[INFO 03-27 17:04:31] ax.service.managed_loop: Started full optimization with 10 steps.\n",
      "[INFO 03-27 17:04:31] ax.service.managed_loop: Running optimization trial 1...\n",
      "[INFO 03-27 17:04:31] ax.service.managed_loop: Running optimization trial 2...\n",
      "[INFO 03-27 17:04:35] ax.service.managed_loop: Running optimization trial 3...\n",
      "[INFO 03-27 17:04:37] ax.service.managed_loop: Running optimization trial 4...\n",
      "[INFO 03-27 17:04:39] ax.service.managed_loop: Running optimization trial 5...\n",
      "[INFO 03-27 17:04:40] ax.service.managed_loop: Running optimization trial 6...\n",
      "[INFO 03-27 17:04:47] ax.service.managed_loop: Running optimization trial 7...\n",
      "[INFO 03-27 17:04:51] ax.service.managed_loop: Running optimization trial 8...\n",
      "[INFO 03-27 17:04:52] ax.service.managed_loop: Running optimization trial 9...\n",
      "[INFO 03-27 17:04:59] ax.service.managed_loop: Running optimization trial 10...\n",
      "[INFO 03-27 17:05:05] ax.service.managed_loop: Running optimization trial 2...\n",
      "/Users/george/anaconda2/envs/dnabert/lib/python3.6/site-packages/pytorch_lightning/utilities/distributed.py:51: UserWarning:\n",
      "\n",
      "Checkpoint directory checkpoint_dir exists and is not empty.\n",
      "\n",
      "GPU available: False, used: False\n",
      "TPU available: None, using: 0 TPU cores\n",
      "/Users/george/anaconda2/envs/dnabert/lib/python3.6/site-packages/pytorch_lightning/utilities/distributed.py:51: UserWarning:\n",
      "\n",
      "The dataloader, val dataloader 0, does not have many workers which may be a bottleneck. Consider increasing the value of the `num_workers` argument` (try 8 which is the number of cpus on this machine) in the `DataLoader` init to improve performance.\n",
      "\n",
      "/Users/george/anaconda2/envs/dnabert/lib/python3.6/site-packages/torch/nn/modules/container.py:117: UserWarning:\n",
      "\n",
      "Implicit dimension choice for softmax has been deprecated. Change the call to include dim=X as an argument.\n",
      "\n",
      "/Users/george/anaconda2/envs/dnabert/lib/python3.6/site-packages/pytorch_lightning/utilities/distributed.py:51: UserWarning:\n",
      "\n",
      "The dataloader, train dataloader, does not have many workers which may be a bottleneck. Consider increasing the value of the `num_workers` argument` (try 8 which is the number of cpus on this machine) in the `DataLoader` init to improve performance.\n",
      "\n",
      "[INFO 03-27 17:05:56] ax.modelbridge.dispatch_utils: Using Sobol generation strategy.\n",
      "[INFO 03-27 17:05:56] ax.service.managed_loop: Started full optimization with 10 steps.\n",
      "[INFO 03-27 17:05:56] ax.service.managed_loop: Running optimization trial 1...\n",
      "[INFO 03-27 17:05:56] ax.service.managed_loop: Running optimization trial 2...\n",
      "[INFO 03-27 17:05:57] ax.service.managed_loop: Running optimization trial 3...\n",
      "[INFO 03-27 17:05:57] ax.service.managed_loop: Running optimization trial 4...\n",
      "[INFO 03-27 17:05:57] ax.service.managed_loop: Running optimization trial 5...\n",
      "[INFO 03-27 17:05:57] ax.service.managed_loop: Running optimization trial 6...\n",
      "[INFO 03-27 17:05:57] ax.service.managed_loop: Running optimization trial 7...\n",
      "[INFO 03-27 17:05:57] ax.service.managed_loop: Running optimization trial 8...\n",
      "[INFO 03-27 17:05:57] ax.service.managed_loop: Running optimization trial 9...\n",
      "[INFO 03-27 17:05:57] ax.service.managed_loop: Running optimization trial 10...\n",
      "[INFO 03-27 17:05:58] ax.service.managed_loop: Running optimization trial 3...\n",
      "/Users/george/anaconda2/envs/dnabert/lib/python3.6/site-packages/pytorch_lightning/utilities/distributed.py:51: UserWarning:\n",
      "\n",
      "Checkpoint directory checkpoint_dir exists and is not empty.\n",
      "\n",
      "GPU available: False, used: False\n",
      "TPU available: None, using: 0 TPU cores\n",
      "/Users/george/anaconda2/envs/dnabert/lib/python3.6/site-packages/pytorch_lightning/utilities/distributed.py:51: UserWarning:\n",
      "\n",
      "The dataloader, val dataloader 0, does not have many workers which may be a bottleneck. Consider increasing the value of the `num_workers` argument` (try 8 which is the number of cpus on this machine) in the `DataLoader` init to improve performance.\n",
      "\n",
      "/Users/george/anaconda2/envs/dnabert/lib/python3.6/site-packages/torch/nn/modules/container.py:117: UserWarning:\n",
      "\n",
      "Implicit dimension choice for softmax has been deprecated. Change the call to include dim=X as an argument.\n",
      "\n",
      "/Users/george/anaconda2/envs/dnabert/lib/python3.6/site-packages/pytorch_lightning/utilities/distributed.py:51: UserWarning:\n",
      "\n",
      "The dataloader, train dataloader, does not have many workers which may be a bottleneck. Consider increasing the value of the `num_workers` argument` (try 8 which is the number of cpus on this machine) in the `DataLoader` init to improve performance.\n",
      "\n",
      "[INFO 03-27 17:09:12] ax.modelbridge.dispatch_utils: Using Sobol generation strategy.\n",
      "[INFO 03-27 17:09:12] ax.service.managed_loop: Started full optimization with 10 steps.\n",
      "[INFO 03-27 17:09:12] ax.service.managed_loop: Running optimization trial 1...\n",
      "[INFO 03-27 17:09:12] ax.service.managed_loop: Running optimization trial 2...\n",
      "[INFO 03-27 17:09:12] ax.service.managed_loop: Running optimization trial 3...\n",
      "[INFO 03-27 17:09:12] ax.service.managed_loop: Running optimization trial 4...\n",
      "[INFO 03-27 17:09:12] ax.service.managed_loop: Running optimization trial 5...\n",
      "[INFO 03-27 17:09:12] ax.service.managed_loop: Running optimization trial 6...\n",
      "[INFO 03-27 17:09:12] ax.service.managed_loop: Running optimization trial 7...\n",
      "[INFO 03-27 17:09:13] ax.service.managed_loop: Running optimization trial 8...\n",
      "[INFO 03-27 17:09:13] ax.service.managed_loop: Running optimization trial 9...\n",
      "[INFO 03-27 17:09:13] ax.service.managed_loop: Running optimization trial 10...\n",
      "[INFO 03-27 17:09:13] ax.service.managed_loop: Running optimization trial 4...\n",
      "/Users/george/anaconda2/envs/dnabert/lib/python3.6/site-packages/pytorch_lightning/utilities/distributed.py:51: UserWarning:\n",
      "\n",
      "Checkpoint directory checkpoint_dir exists and is not empty.\n",
      "\n",
      "GPU available: False, used: False\n",
      "TPU available: None, using: 0 TPU cores\n",
      "/Users/george/anaconda2/envs/dnabert/lib/python3.6/site-packages/pytorch_lightning/utilities/distributed.py:51: UserWarning:\n",
      "\n",
      "The dataloader, val dataloader 0, does not have many workers which may be a bottleneck. Consider increasing the value of the `num_workers` argument` (try 8 which is the number of cpus on this machine) in the `DataLoader` init to improve performance.\n",
      "\n",
      "/Users/george/anaconda2/envs/dnabert/lib/python3.6/site-packages/torch/nn/modules/container.py:117: UserWarning:\n",
      "\n",
      "Implicit dimension choice for softmax has been deprecated. Change the call to include dim=X as an argument.\n",
      "\n",
      "/Users/george/anaconda2/envs/dnabert/lib/python3.6/site-packages/pytorch_lightning/utilities/distributed.py:51: UserWarning:\n",
      "\n",
      "The dataloader, train dataloader, does not have many workers which may be a bottleneck. Consider increasing the value of the `num_workers` argument` (try 8 which is the number of cpus on this machine) in the `DataLoader` init to improve performance.\n",
      "\n"
     ]
    },
    {
     "name": "stderr",
     "output_type": "stream",
     "text": [
      "[INFO 03-27 17:10:40] ax.modelbridge.dispatch_utils: Using Sobol generation strategy.\n",
      "[INFO 03-27 17:10:40] ax.service.managed_loop: Started full optimization with 10 steps.\n",
      "[INFO 03-27 17:10:40] ax.service.managed_loop: Running optimization trial 1...\n",
      "[INFO 03-27 17:10:40] ax.service.managed_loop: Running optimization trial 2...\n",
      "[INFO 03-27 17:10:40] ax.service.managed_loop: Running optimization trial 3...\n",
      "[INFO 03-27 17:10:40] ax.service.managed_loop: Running optimization trial 4...\n",
      "[INFO 03-27 17:10:40] ax.service.managed_loop: Running optimization trial 5...\n",
      "[INFO 03-27 17:10:40] ax.service.managed_loop: Running optimization trial 6...\n",
      "[INFO 03-27 17:10:41] ax.service.managed_loop: Running optimization trial 7...\n",
      "[INFO 03-27 17:10:41] ax.service.managed_loop: Running optimization trial 8...\n",
      "[INFO 03-27 17:10:41] ax.service.managed_loop: Running optimization trial 9...\n",
      "[INFO 03-27 17:10:41] ax.service.managed_loop: Running optimization trial 10...\n",
      "[INFO 03-27 17:10:41] ax.service.managed_loop: Running optimization trial 5...\n",
      "/Users/george/anaconda2/envs/dnabert/lib/python3.6/site-packages/pytorch_lightning/utilities/distributed.py:51: UserWarning:\n",
      "\n",
      "Checkpoint directory checkpoint_dir exists and is not empty.\n",
      "\n",
      "GPU available: False, used: False\n",
      "TPU available: None, using: 0 TPU cores\n",
      "/Users/george/anaconda2/envs/dnabert/lib/python3.6/site-packages/pytorch_lightning/utilities/distributed.py:51: UserWarning:\n",
      "\n",
      "The dataloader, val dataloader 0, does not have many workers which may be a bottleneck. Consider increasing the value of the `num_workers` argument` (try 8 which is the number of cpus on this machine) in the `DataLoader` init to improve performance.\n",
      "\n",
      "/Users/george/anaconda2/envs/dnabert/lib/python3.6/site-packages/torch/nn/modules/container.py:117: UserWarning:\n",
      "\n",
      "Implicit dimension choice for softmax has been deprecated. Change the call to include dim=X as an argument.\n",
      "\n",
      "/Users/george/anaconda2/envs/dnabert/lib/python3.6/site-packages/pytorch_lightning/utilities/distributed.py:51: UserWarning:\n",
      "\n",
      "The dataloader, train dataloader, does not have many workers which may be a bottleneck. Consider increasing the value of the `num_workers` argument` (try 8 which is the number of cpus on this machine) in the `DataLoader` init to improve performance.\n",
      "\n",
      "[INFO 03-27 17:11:34] ax.modelbridge.dispatch_utils: Using Sobol generation strategy.\n",
      "[INFO 03-27 17:11:34] ax.service.managed_loop: Started full optimization with 10 steps.\n",
      "[INFO 03-27 17:11:34] ax.service.managed_loop: Running optimization trial 1...\n",
      "[INFO 03-27 17:11:40] ax.service.managed_loop: Running optimization trial 2...\n",
      "[INFO 03-27 17:11:44] ax.service.managed_loop: Running optimization trial 3...\n",
      "[INFO 03-27 17:11:50] ax.service.managed_loop: Running optimization trial 4...\n",
      "[INFO 03-27 17:11:51] ax.service.managed_loop: Running optimization trial 5...\n",
      "[INFO 03-27 17:11:52] ax.service.managed_loop: Running optimization trial 6...\n",
      "[INFO 03-27 17:11:55] ax.service.managed_loop: Running optimization trial 7...\n",
      "[INFO 03-27 17:11:56] ax.service.managed_loop: Running optimization trial 8...\n",
      "[INFO 03-27 17:12:00] ax.service.managed_loop: Running optimization trial 9...\n",
      "[INFO 03-27 17:12:00] ax.service.managed_loop: Running optimization trial 10...\n",
      "[INFO 03-27 17:12:03] ax.service.managed_loop: Running optimization trial 6...\n",
      "/Users/george/anaconda2/envs/dnabert/lib/python3.6/site-packages/pytorch_lightning/utilities/distributed.py:51: UserWarning:\n",
      "\n",
      "Checkpoint directory checkpoint_dir exists and is not empty.\n",
      "\n",
      "GPU available: False, used: False\n",
      "TPU available: None, using: 0 TPU cores\n",
      "/Users/george/anaconda2/envs/dnabert/lib/python3.6/site-packages/pytorch_lightning/utilities/distributed.py:51: UserWarning:\n",
      "\n",
      "The dataloader, val dataloader 0, does not have many workers which may be a bottleneck. Consider increasing the value of the `num_workers` argument` (try 8 which is the number of cpus on this machine) in the `DataLoader` init to improve performance.\n",
      "\n",
      "/Users/george/anaconda2/envs/dnabert/lib/python3.6/site-packages/torch/nn/modules/container.py:117: UserWarning:\n",
      "\n",
      "Implicit dimension choice for softmax has been deprecated. Change the call to include dim=X as an argument.\n",
      "\n",
      "/Users/george/anaconda2/envs/dnabert/lib/python3.6/site-packages/pytorch_lightning/utilities/distributed.py:51: UserWarning:\n",
      "\n",
      "The dataloader, train dataloader, does not have many workers which may be a bottleneck. Consider increasing the value of the `num_workers` argument` (try 8 which is the number of cpus on this machine) in the `DataLoader` init to improve performance.\n",
      "\n",
      "[INFO 03-27 17:12:42] ax.modelbridge.dispatch_utils: Using Sobol generation strategy.\n",
      "[INFO 03-27 17:12:42] ax.service.managed_loop: Started full optimization with 10 steps.\n",
      "[INFO 03-27 17:12:42] ax.service.managed_loop: Running optimization trial 1...\n",
      "[INFO 03-27 17:12:45] ax.service.managed_loop: Running optimization trial 2...\n",
      "[INFO 03-27 17:12:50] ax.service.managed_loop: Running optimization trial 3...\n",
      "[INFO 03-27 17:12:56] ax.service.managed_loop: Running optimization trial 4...\n",
      "[INFO 03-27 17:13:01] ax.service.managed_loop: Running optimization trial 5...\n",
      "[INFO 03-27 17:13:05] ax.service.managed_loop: Running optimization trial 6...\n",
      "[INFO 03-27 17:13:11] ax.service.managed_loop: Running optimization trial 7...\n",
      "[INFO 03-27 17:13:17] ax.service.managed_loop: Running optimization trial 8...\n",
      "[INFO 03-27 17:13:18] ax.service.managed_loop: Running optimization trial 9...\n",
      "[INFO 03-27 17:13:20] ax.service.managed_loop: Running optimization trial 10...\n",
      "[INFO 03-27 17:13:24] ax.service.managed_loop: Running optimization trial 7...\n",
      "/Users/george/anaconda2/envs/dnabert/lib/python3.6/site-packages/pytorch_lightning/utilities/distributed.py:51: UserWarning:\n",
      "\n",
      "Checkpoint directory checkpoint_dir exists and is not empty.\n",
      "\n",
      "GPU available: False, used: False\n",
      "TPU available: None, using: 0 TPU cores\n",
      "/Users/george/anaconda2/envs/dnabert/lib/python3.6/site-packages/pytorch_lightning/utilities/distributed.py:51: UserWarning:\n",
      "\n",
      "The dataloader, val dataloader 0, does not have many workers which may be a bottleneck. Consider increasing the value of the `num_workers` argument` (try 8 which is the number of cpus on this machine) in the `DataLoader` init to improve performance.\n",
      "\n",
      "/Users/george/anaconda2/envs/dnabert/lib/python3.6/site-packages/torch/nn/modules/container.py:117: UserWarning:\n",
      "\n",
      "Implicit dimension choice for softmax has been deprecated. Change the call to include dim=X as an argument.\n",
      "\n",
      "/Users/george/anaconda2/envs/dnabert/lib/python3.6/site-packages/pytorch_lightning/utilities/distributed.py:51: UserWarning:\n",
      "\n",
      "The dataloader, train dataloader, does not have many workers which may be a bottleneck. Consider increasing the value of the `num_workers` argument` (try 8 which is the number of cpus on this machine) in the `DataLoader` init to improve performance.\n",
      "\n",
      "[INFO 03-27 17:14:23] ax.modelbridge.dispatch_utils: Using Sobol generation strategy.\n",
      "[INFO 03-27 17:14:23] ax.service.managed_loop: Started full optimization with 10 steps.\n",
      "[INFO 03-27 17:14:23] ax.service.managed_loop: Running optimization trial 1...\n",
      "[INFO 03-27 17:14:28] ax.service.managed_loop: Running optimization trial 2...\n",
      "[INFO 03-27 17:14:31] ax.service.managed_loop: Running optimization trial 3...\n",
      "[INFO 03-27 17:14:38] ax.service.managed_loop: Running optimization trial 4...\n",
      "[INFO 03-27 17:14:43] ax.service.managed_loop: Running optimization trial 5...\n",
      "[INFO 03-27 17:14:49] ax.service.managed_loop: Running optimization trial 6...\n",
      "[INFO 03-27 17:14:52] ax.service.managed_loop: Running optimization trial 7...\n",
      "[INFO 03-27 17:14:52] ax.service.managed_loop: Running optimization trial 8...\n",
      "[INFO 03-27 17:14:55] ax.service.managed_loop: Running optimization trial 9...\n",
      "[INFO 03-27 17:15:01] ax.service.managed_loop: Running optimization trial 10...\n",
      "[INFO 03-27 17:15:04] ax.service.managed_loop: Running optimization trial 8...\n",
      "/Users/george/anaconda2/envs/dnabert/lib/python3.6/site-packages/pytorch_lightning/utilities/distributed.py:51: UserWarning:\n",
      "\n",
      "Checkpoint directory checkpoint_dir exists and is not empty.\n",
      "\n",
      "GPU available: False, used: False\n",
      "TPU available: None, using: 0 TPU cores\n",
      "/Users/george/anaconda2/envs/dnabert/lib/python3.6/site-packages/pytorch_lightning/utilities/distributed.py:51: UserWarning:\n",
      "\n",
      "The dataloader, val dataloader 0, does not have many workers which may be a bottleneck. Consider increasing the value of the `num_workers` argument` (try 8 which is the number of cpus on this machine) in the `DataLoader` init to improve performance.\n",
      "\n",
      "/Users/george/anaconda2/envs/dnabert/lib/python3.6/site-packages/torch/nn/modules/container.py:117: UserWarning:\n",
      "\n",
      "Implicit dimension choice for softmax has been deprecated. Change the call to include dim=X as an argument.\n",
      "\n",
      "/Users/george/anaconda2/envs/dnabert/lib/python3.6/site-packages/pytorch_lightning/utilities/distributed.py:51: UserWarning:\n",
      "\n",
      "The dataloader, train dataloader, does not have many workers which may be a bottleneck. Consider increasing the value of the `num_workers` argument` (try 8 which is the number of cpus on this machine) in the `DataLoader` init to improve performance.\n",
      "\n"
     ]
    },
    {
     "name": "stderr",
     "output_type": "stream",
     "text": [
      "[INFO 03-27 17:15:55] ax.modelbridge.dispatch_utils: Using Sobol generation strategy.\n",
      "[INFO 03-27 17:15:55] ax.service.managed_loop: Started full optimization with 10 steps.\n",
      "[INFO 03-27 17:15:55] ax.service.managed_loop: Running optimization trial 1...\n",
      "[INFO 03-27 17:15:56] ax.service.managed_loop: Running optimization trial 2...\n",
      "[INFO 03-27 17:15:56] ax.service.managed_loop: Running optimization trial 3...\n",
      "[INFO 03-27 17:15:56] ax.service.managed_loop: Running optimization trial 4...\n",
      "[INFO 03-27 17:15:56] ax.service.managed_loop: Running optimization trial 5...\n",
      "[INFO 03-27 17:15:56] ax.service.managed_loop: Running optimization trial 6...\n",
      "[INFO 03-27 17:15:56] ax.service.managed_loop: Running optimization trial 7...\n",
      "[INFO 03-27 17:15:56] ax.service.managed_loop: Running optimization trial 8...\n",
      "[INFO 03-27 17:15:56] ax.service.managed_loop: Running optimization trial 9...\n",
      "[INFO 03-27 17:15:56] ax.service.managed_loop: Running optimization trial 10...\n"
     ]
    },
    {
     "name": "stdout",
     "output_type": "stream",
     "text": [
      "Got through the2th Datase!\n"
     ]
    }
   ],
   "source": [
    "for i, dataset in enumerate(markers[3:]):\n",
    "    is_marker=True\n",
    "    model_results = tune_SAE(dataset, SAE_parameters)\n",
    "    SAE_results = pd.DataFrame(['SAE'] + [a if type(a)==str \n",
    "                             else [b for c,b in a.items()] if type(a) == dict \n",
    "                             else a[0]['objective']\n",
    "                            for a in model_results]).T\n",
    "\n",
    "    SAE_results.columns = ['Model Type', 'Data Type', 'Dataset', 'hyperparams', 'AUC']\n",
    "    pd.concat( [pd.read_csv('SAE_results.csv'),SAE_results], axis=0 ).to_csv('SAE_results.csv', index=False)\n",
    "    print('Got through the ' + str(i) + 'th Datase!')"
   ]
  },
  {
   "cell_type": "code",
   "execution_count": 263,
   "metadata": {},
   "outputs": [
    {
     "data": {
      "text/html": [
       "<div>\n",
       "<style scoped>\n",
       "    .dataframe tbody tr th:only-of-type {\n",
       "        vertical-align: middle;\n",
       "    }\n",
       "\n",
       "    .dataframe tbody tr th {\n",
       "        vertical-align: top;\n",
       "    }\n",
       "\n",
       "    .dataframe thead th {\n",
       "        text-align: right;\n",
       "    }\n",
       "</style>\n",
       "<table border=\"1\" class=\"dataframe\">\n",
       "  <thead>\n",
       "    <tr style=\"text-align: right;\">\n",
       "      <th>dataset_name</th>\n",
       "      <th>sampleID</th>\n",
       "      <th>subjectID</th>\n",
       "      <th>bodysite</th>\n",
       "      <th>disease</th>\n",
       "      <th>age</th>\n",
       "      <th>gender</th>\n",
       "      <th>country</th>\n",
       "      <th>sequencing_technology</th>\n",
       "      <th>pubmedid</th>\n",
       "      <th>camp</th>\n",
       "      <th>...</th>\n",
       "      <th>gi|62425186|ref|NZ_AAGP01000009.1|:99890-100180</th>\n",
       "      <th>gi|62425382|ref|NZ_AAGP01000007.1|:c1202-885</th>\n",
       "      <th>gi|62425382|ref|NZ_AAGP01000007.1|:c33801-33373</th>\n",
       "      <th>gi|62425382|ref|NZ_AAGP01000007.1|:c34305-33829</th>\n",
       "      <th>gi|62425604|ref|NZ_AAGP01000005.1|:60113-60766</th>\n",
       "      <th>gi|62425604|ref|NZ_AAGP01000005.1|:97318-98013</th>\n",
       "      <th>gi|62425739|ref|NZ_AAGP01000004.1|:59838-60017</th>\n",
       "      <th>gi|62425898|ref|NZ_AAGP01000003.1|:c34741-34619</th>\n",
       "      <th>gi|62426048|ref|NZ_AAGP01000002.1|:c74491-73856</th>\n",
       "      <th>gi|89892746|ref|NC_007907.1|:41100-41594</th>\n",
       "    </tr>\n",
       "  </thead>\n",
       "  <tbody>\n",
       "    <tr>\n",
       "      <th>Zeller_fecal_colorectal_cancer</th>\n",
       "      <td>CCIS00146684ST-4-0</td>\n",
       "      <td>fr-726</td>\n",
       "      <td>stool</td>\n",
       "      <td>n</td>\n",
       "      <td>72</td>\n",
       "      <td>female</td>\n",
       "      <td>france</td>\n",
       "      <td>Illumina</td>\n",
       "      <td>25432777</td>\n",
       "      <td>nd</td>\n",
       "      <td>...</td>\n",
       "      <td>0</td>\n",
       "      <td>0</td>\n",
       "      <td>0</td>\n",
       "      <td>0</td>\n",
       "      <td>0</td>\n",
       "      <td>0</td>\n",
       "      <td>0</td>\n",
       "      <td>0</td>\n",
       "      <td>0</td>\n",
       "      <td>0</td>\n",
       "    </tr>\n",
       "    <tr>\n",
       "      <th>Zeller_fecal_colorectal_cancer.1</th>\n",
       "      <td>CCIS00281083ST-3-0</td>\n",
       "      <td>fr-060</td>\n",
       "      <td>stool</td>\n",
       "      <td>n</td>\n",
       "      <td>53</td>\n",
       "      <td>male</td>\n",
       "      <td>france</td>\n",
       "      <td>Illumina</td>\n",
       "      <td>25432777</td>\n",
       "      <td>nd</td>\n",
       "      <td>...</td>\n",
       "      <td>0</td>\n",
       "      <td>0</td>\n",
       "      <td>0</td>\n",
       "      <td>0</td>\n",
       "      <td>0</td>\n",
       "      <td>0</td>\n",
       "      <td>0</td>\n",
       "      <td>0</td>\n",
       "      <td>0</td>\n",
       "      <td>0</td>\n",
       "    </tr>\n",
       "    <tr>\n",
       "      <th>Zeller_fecal_colorectal_cancer.2</th>\n",
       "      <td>CCIS02124300ST-4-0</td>\n",
       "      <td>fr-568</td>\n",
       "      <td>stool</td>\n",
       "      <td>n</td>\n",
       "      <td>35</td>\n",
       "      <td>male</td>\n",
       "      <td>france</td>\n",
       "      <td>Illumina</td>\n",
       "      <td>25432777</td>\n",
       "      <td>nd</td>\n",
       "      <td>...</td>\n",
       "      <td>0</td>\n",
       "      <td>0</td>\n",
       "      <td>0</td>\n",
       "      <td>0</td>\n",
       "      <td>0</td>\n",
       "      <td>0</td>\n",
       "      <td>0</td>\n",
       "      <td>0</td>\n",
       "      <td>0</td>\n",
       "      <td>0</td>\n",
       "    </tr>\n",
       "    <tr>\n",
       "      <th>Zeller_fecal_colorectal_cancer.3</th>\n",
       "      <td>CCIS02379307ST-4-0</td>\n",
       "      <td>fr-828</td>\n",
       "      <td>stool</td>\n",
       "      <td>cancer</td>\n",
       "      <td>67</td>\n",
       "      <td>male</td>\n",
       "      <td>france</td>\n",
       "      <td>Illumina</td>\n",
       "      <td>25432777</td>\n",
       "      <td>nd</td>\n",
       "      <td>...</td>\n",
       "      <td>0</td>\n",
       "      <td>0</td>\n",
       "      <td>0</td>\n",
       "      <td>0</td>\n",
       "      <td>0</td>\n",
       "      <td>0</td>\n",
       "      <td>0</td>\n",
       "      <td>0</td>\n",
       "      <td>0</td>\n",
       "      <td>0</td>\n",
       "    </tr>\n",
       "    <tr>\n",
       "      <th>Zeller_fecal_colorectal_cancer.4</th>\n",
       "      <td>CCIS03473770ST-4-0</td>\n",
       "      <td>fr-192</td>\n",
       "      <td>stool</td>\n",
       "      <td>n</td>\n",
       "      <td>29</td>\n",
       "      <td>male</td>\n",
       "      <td>france</td>\n",
       "      <td>Illumina</td>\n",
       "      <td>25432777</td>\n",
       "      <td>nd</td>\n",
       "      <td>...</td>\n",
       "      <td>0</td>\n",
       "      <td>0</td>\n",
       "      <td>0</td>\n",
       "      <td>0</td>\n",
       "      <td>0</td>\n",
       "      <td>0</td>\n",
       "      <td>0</td>\n",
       "      <td>0</td>\n",
       "      <td>0</td>\n",
       "      <td>0</td>\n",
       "    </tr>\n",
       "  </tbody>\n",
       "</table>\n",
       "<p>5 rows × 108244 columns</p>\n",
       "</div>"
      ],
      "text/plain": [
       "dataset_name                                sampleID subjectID bodysite  \\\n",
       "Zeller_fecal_colorectal_cancer    CCIS00146684ST-4-0    fr-726    stool   \n",
       "Zeller_fecal_colorectal_cancer.1  CCIS00281083ST-3-0    fr-060    stool   \n",
       "Zeller_fecal_colorectal_cancer.2  CCIS02124300ST-4-0    fr-568    stool   \n",
       "Zeller_fecal_colorectal_cancer.3  CCIS02379307ST-4-0    fr-828    stool   \n",
       "Zeller_fecal_colorectal_cancer.4  CCIS03473770ST-4-0    fr-192    stool   \n",
       "\n",
       "dataset_name                     disease age  gender country  \\\n",
       "Zeller_fecal_colorectal_cancer         n  72  female  france   \n",
       "Zeller_fecal_colorectal_cancer.1       n  53    male  france   \n",
       "Zeller_fecal_colorectal_cancer.2       n  35    male  france   \n",
       "Zeller_fecal_colorectal_cancer.3  cancer  67    male  france   \n",
       "Zeller_fecal_colorectal_cancer.4       n  29    male  france   \n",
       "\n",
       "dataset_name                     sequencing_technology  pubmedid camp  ...  \\\n",
       "Zeller_fecal_colorectal_cancer                Illumina  25432777   nd  ...   \n",
       "Zeller_fecal_colorectal_cancer.1              Illumina  25432777   nd  ...   \n",
       "Zeller_fecal_colorectal_cancer.2              Illumina  25432777   nd  ...   \n",
       "Zeller_fecal_colorectal_cancer.3              Illumina  25432777   nd  ...   \n",
       "Zeller_fecal_colorectal_cancer.4              Illumina  25432777   nd  ...   \n",
       "\n",
       "dataset_name                     gi|62425186|ref|NZ_AAGP01000009.1|:99890-100180  \\\n",
       "Zeller_fecal_colorectal_cancer                                                 0   \n",
       "Zeller_fecal_colorectal_cancer.1                                               0   \n",
       "Zeller_fecal_colorectal_cancer.2                                               0   \n",
       "Zeller_fecal_colorectal_cancer.3                                               0   \n",
       "Zeller_fecal_colorectal_cancer.4                                               0   \n",
       "\n",
       "dataset_name                     gi|62425382|ref|NZ_AAGP01000007.1|:c1202-885  \\\n",
       "Zeller_fecal_colorectal_cancer                                              0   \n",
       "Zeller_fecal_colorectal_cancer.1                                            0   \n",
       "Zeller_fecal_colorectal_cancer.2                                            0   \n",
       "Zeller_fecal_colorectal_cancer.3                                            0   \n",
       "Zeller_fecal_colorectal_cancer.4                                            0   \n",
       "\n",
       "dataset_name                     gi|62425382|ref|NZ_AAGP01000007.1|:c33801-33373  \\\n",
       "Zeller_fecal_colorectal_cancer                                                 0   \n",
       "Zeller_fecal_colorectal_cancer.1                                               0   \n",
       "Zeller_fecal_colorectal_cancer.2                                               0   \n",
       "Zeller_fecal_colorectal_cancer.3                                               0   \n",
       "Zeller_fecal_colorectal_cancer.4                                               0   \n",
       "\n",
       "dataset_name                     gi|62425382|ref|NZ_AAGP01000007.1|:c34305-33829  \\\n",
       "Zeller_fecal_colorectal_cancer                                                 0   \n",
       "Zeller_fecal_colorectal_cancer.1                                               0   \n",
       "Zeller_fecal_colorectal_cancer.2                                               0   \n",
       "Zeller_fecal_colorectal_cancer.3                                               0   \n",
       "Zeller_fecal_colorectal_cancer.4                                               0   \n",
       "\n",
       "dataset_name                     gi|62425604|ref|NZ_AAGP01000005.1|:60113-60766  \\\n",
       "Zeller_fecal_colorectal_cancer                                                0   \n",
       "Zeller_fecal_colorectal_cancer.1                                              0   \n",
       "Zeller_fecal_colorectal_cancer.2                                              0   \n",
       "Zeller_fecal_colorectal_cancer.3                                              0   \n",
       "Zeller_fecal_colorectal_cancer.4                                              0   \n",
       "\n",
       "dataset_name                     gi|62425604|ref|NZ_AAGP01000005.1|:97318-98013  \\\n",
       "Zeller_fecal_colorectal_cancer                                                0   \n",
       "Zeller_fecal_colorectal_cancer.1                                              0   \n",
       "Zeller_fecal_colorectal_cancer.2                                              0   \n",
       "Zeller_fecal_colorectal_cancer.3                                              0   \n",
       "Zeller_fecal_colorectal_cancer.4                                              0   \n",
       "\n",
       "dataset_name                     gi|62425739|ref|NZ_AAGP01000004.1|:59838-60017  \\\n",
       "Zeller_fecal_colorectal_cancer                                                0   \n",
       "Zeller_fecal_colorectal_cancer.1                                              0   \n",
       "Zeller_fecal_colorectal_cancer.2                                              0   \n",
       "Zeller_fecal_colorectal_cancer.3                                              0   \n",
       "Zeller_fecal_colorectal_cancer.4                                              0   \n",
       "\n",
       "dataset_name                     gi|62425898|ref|NZ_AAGP01000003.1|:c34741-34619  \\\n",
       "Zeller_fecal_colorectal_cancer                                                 0   \n",
       "Zeller_fecal_colorectal_cancer.1                                               0   \n",
       "Zeller_fecal_colorectal_cancer.2                                               0   \n",
       "Zeller_fecal_colorectal_cancer.3                                               0   \n",
       "Zeller_fecal_colorectal_cancer.4                                               0   \n",
       "\n",
       "dataset_name                     gi|62426048|ref|NZ_AAGP01000002.1|:c74491-73856  \\\n",
       "Zeller_fecal_colorectal_cancer                                                 0   \n",
       "Zeller_fecal_colorectal_cancer.1                                               0   \n",
       "Zeller_fecal_colorectal_cancer.2                                               0   \n",
       "Zeller_fecal_colorectal_cancer.3                                               0   \n",
       "Zeller_fecal_colorectal_cancer.4                                               0   \n",
       "\n",
       "dataset_name                     gi|89892746|ref|NC_007907.1|:41100-41594  \n",
       "Zeller_fecal_colorectal_cancer                                          0  \n",
       "Zeller_fecal_colorectal_cancer.1                                        0  \n",
       "Zeller_fecal_colorectal_cancer.2                                        0  \n",
       "Zeller_fecal_colorectal_cancer.3                                        0  \n",
       "Zeller_fecal_colorectal_cancer.4                                        0  \n",
       "\n",
       "[5 rows x 108244 columns]"
      ]
     },
     "execution_count": 263,
     "metadata": {},
     "output_type": "execute_result"
    }
   ],
   "source": [
    "dataset.head()"
   ]
  },
  {
   "cell_type": "code",
   "execution_count": 265,
   "metadata": {},
   "outputs": [
    {
     "data": {
      "text/plain": [
       "6"
      ]
     },
     "execution_count": 265,
     "metadata": {},
     "output_type": "execute_result"
    }
   ],
   "source": [
    "len( dfs )"
   ]
  },
  {
   "cell_type": "code",
   "execution_count": 266,
   "metadata": {},
   "outputs": [
    {
     "data": {
      "text/plain": [
       "['Quin_gut_liver_cirrhosis',\n",
       " 'WT2D',\n",
       " 'Zeller_fecal_colorectal_cancer',\n",
       " 'Chatelier_gut_obesity',\n",
       " 'metahit',\n",
       " 't2dmeta_long']"
      ]
     },
     "execution_count": 266,
     "metadata": {},
     "output_type": "execute_result"
    }
   ],
   "source": [
    "[q.index[0] for q in dfs]"
   ]
  },
  {
   "cell_type": "code",
   "execution_count": null,
   "metadata": {},
   "outputs": [],
   "source": []
  }
 ],
 "metadata": {
  "kernelspec": {
   "display_name": "dnabert",
   "language": "python",
   "name": "dnabert"
  },
  "language_info": {
   "codemirror_mode": {
    "name": "ipython",
    "version": 3
   },
   "file_extension": ".py",
   "mimetype": "text/x-python",
   "name": "python",
   "nbconvert_exporter": "python",
   "pygments_lexer": "ipython3",
   "version": "3.6.12"
  }
 },
 "nbformat": 4,
 "nbformat_minor": 2
}
